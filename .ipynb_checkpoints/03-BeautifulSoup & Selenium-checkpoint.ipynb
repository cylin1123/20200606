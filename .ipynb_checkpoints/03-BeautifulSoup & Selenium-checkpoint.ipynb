{
 "cells": [
  {
   "cell_type": "markdown",
   "metadata": {},
   "source": [
    "### BeautifulSoup"
   ]
  },
  {
   "cell_type": "code",
   "execution_count": 1,
   "metadata": {},
   "outputs": [],
   "source": [
    "from bs4 import BeautifulSoup"
   ]
  },
  {
   "cell_type": "code",
   "execution_count": 2,
   "metadata": {},
   "outputs": [],
   "source": [
    "html_doc = \"\"\"\n",
    "<html><head><title>Hello World</title>\n",
    "\n",
    "<style>\n",
    "    .large {\n",
    "      color:blue;\n",
    "      text-align: center;\n",
    "    }\n",
    "</style>\n",
    "\n",
    "</head>\n",
    "<body><h2>Test Header</h2>\n",
    "<p>This is a test.</p>\n",
    "<a id=\"link1\" href=\"https://www.google.com.tw\"> Google網站</a>\n",
    "<a id=\"link2\" class=\"large\" href=\"https://www.facebook.com.tw\">FaceBook</a>\n",
    "<p>Hello, <b id=\"link1\" class=\"boldtext\">Bold Text</b></p>\n",
    "</body></html>\n",
    "\"\"\""
   ]
  },
  {
   "cell_type": "code",
   "execution_count": 3,
   "metadata": {},
   "outputs": [],
   "source": [
    "# 以 Beautiful Soup 解析 HTML 程式碼\n",
    "\n",
    "soup = BeautifulSoup(html_doc, 'html.parser')\n",
    "#soup = BeautifulSoup(open('data/A.html'), 'html.parser')"
   ]
  },
  {
   "cell_type": "code",
   "execution_count": 4,
   "metadata": {},
   "outputs": [
    {
     "name": "stdout",
     "output_type": "stream",
     "text": [
      "<html>\n",
      " <head>\n",
      "  <title>\n",
      "   Hello World\n",
      "  </title>\n",
      "  <style>\n",
      "   .large {\n",
      "      color:blue;\n",
      "      text-align: center;\n",
      "    }\n",
      "  </style>\n",
      " </head>\n",
      " <body>\n",
      "  <h2>\n",
      "   Test Header\n",
      "  </h2>\n",
      "  <p>\n",
      "   This is a test.\n",
      "  </p>\n",
      "  <a href=\"https://www.google.com.tw\" id=\"link1\">\n",
      "   Google網站\n",
      "  </a>\n",
      "  <a class=\"large\" href=\"https://www.facebook.com.tw\" id=\"link2\">\n",
      "   FaceBook\n",
      "  </a>\n",
      "  <p>\n",
      "   Hello,\n",
      "   <b class=\"boldtext\" id=\"link1\">\n",
      "    Bold Text\n",
      "   </b>\n",
      "  </p>\n",
      " </body>\n",
      "</html>\n",
      "\n"
     ]
    }
   ],
   "source": [
    "#將soup物件美化\n",
    "print(soup.prettify())"
   ]
  },
  {
   "cell_type": "code",
   "execution_count": 5,
   "metadata": {},
   "outputs": [
    {
     "data": {
      "text/plain": [
       "<html><head><title>Hello World</title>\n",
       "<style>\n",
       "    .large {\n",
       "      color:blue;\n",
       "      text-align: center;\n",
       "    }\n",
       "</style>\n",
       "</head>\n",
       "<body><h2>Test Header</h2>\n",
       "<p>This is a test.</p>\n",
       "<a href=\"https://www.google.com.tw\" id=\"link1\"> Google網站</a>\n",
       "<a class=\"large\" href=\"https://www.facebook.com.tw\" id=\"link2\">FaceBook</a>\n",
       "<p>Hello, <b class=\"boldtext\" id=\"link1\">Bold Text</b></p>\n",
       "</body></html>"
      ]
     },
     "execution_count": 5,
     "metadata": {},
     "output_type": "execute_result"
    }
   ],
   "source": [
    "soup.html"
   ]
  },
  {
   "cell_type": "markdown",
   "metadata": {},
   "source": [
    "#### 解析網頁結構"
   ]
  },
  {
   "cell_type": "code",
   "execution_count": 6,
   "metadata": {},
   "outputs": [
    {
     "data": {
      "text/plain": [
       "<head><title>Hello World</title>\n",
       "<style>\n",
       "    .large {\n",
       "      color:blue;\n",
       "      text-align: center;\n",
       "    }\n",
       "</style>\n",
       "</head>"
      ]
     },
     "execution_count": 6,
     "metadata": {},
     "output_type": "execute_result"
    }
   ],
   "source": [
    "soup.head"
   ]
  },
  {
   "cell_type": "code",
   "execution_count": 7,
   "metadata": {},
   "outputs": [
    {
     "data": {
      "text/plain": [
       "'Hello World\\n\\n'"
      ]
     },
     "execution_count": 7,
     "metadata": {},
     "output_type": "execute_result"
    }
   ],
   "source": [
    "soup.head.text"
   ]
  },
  {
   "cell_type": "code",
   "execution_count": 8,
   "metadata": {},
   "outputs": [
    {
     "data": {
      "text/plain": [
       "<title>Hello World</title>"
      ]
     },
     "execution_count": 8,
     "metadata": {},
     "output_type": "execute_result"
    }
   ],
   "source": [
    "soup.title"
   ]
  },
  {
   "cell_type": "code",
   "execution_count": 9,
   "metadata": {},
   "outputs": [
    {
     "data": {
      "text/plain": [
       "'Hello World'"
      ]
     },
     "execution_count": 9,
     "metadata": {},
     "output_type": "execute_result"
    }
   ],
   "source": [
    "soup.title.text\n",
    "#soup.title.string"
   ]
  },
  {
   "cell_type": "code",
   "execution_count": 10,
   "metadata": {},
   "outputs": [
    {
     "data": {
      "text/plain": [
       "<body><h2>Test Header</h2>\n",
       "<p>This is a test.</p>\n",
       "<a href=\"https://www.google.com.tw\" id=\"link1\"> Google網站</a>\n",
       "<a class=\"large\" href=\"https://www.facebook.com.tw\" id=\"link2\">FaceBook</a>\n",
       "<p>Hello, <b class=\"boldtext\" id=\"link1\">Bold Text</b></p>\n",
       "</body>"
      ]
     },
     "execution_count": 10,
     "metadata": {},
     "output_type": "execute_result"
    }
   ],
   "source": [
    "# body tag \n",
    "soup.body"
   ]
  },
  {
   "cell_type": "code",
   "execution_count": 11,
   "metadata": {},
   "outputs": [
    {
     "data": {
      "text/plain": [
       "'Test Header\\nThis is a test.\\n Google網站\\nFaceBook\\nHello, Bold Text\\n'"
      ]
     },
     "execution_count": 11,
     "metadata": {},
     "output_type": "execute_result"
    }
   ],
   "source": [
    "soup.body.text"
   ]
  },
  {
   "cell_type": "code",
   "execution_count": 12,
   "metadata": {},
   "outputs": [
    {
     "data": {
      "text/plain": [
       "'https://www.google.com.tw'"
      ]
     },
     "execution_count": 12,
     "metadata": {},
     "output_type": "execute_result"
    }
   ],
   "source": [
    "soup.body.a['href']"
   ]
  },
  {
   "cell_type": "code",
   "execution_count": 13,
   "metadata": {},
   "outputs": [
    {
     "data": {
      "text/plain": [
       "<a href=\"https://www.google.com.tw\" id=\"link1\"> Google網站</a>"
      ]
     },
     "execution_count": 13,
     "metadata": {},
     "output_type": "execute_result"
    }
   ],
   "source": [
    "# a tag \n",
    "soup.a"
   ]
  },
  {
   "cell_type": "code",
   "execution_count": 14,
   "metadata": {},
   "outputs": [
    {
     "data": {
      "text/plain": [
       "' Google網站'"
      ]
     },
     "execution_count": 14,
     "metadata": {},
     "output_type": "execute_result"
    }
   ],
   "source": [
    "soup.a.text\n",
    "#soup.a.string"
   ]
  },
  {
   "cell_type": "code",
   "execution_count": 15,
   "metadata": {},
   "outputs": [
    {
     "data": {
      "text/plain": [
       "'https://www.google.com.tw'"
      ]
     },
     "execution_count": 15,
     "metadata": {},
     "output_type": "execute_result"
    }
   ],
   "source": [
    "soup.a['href']"
   ]
  },
  {
   "cell_type": "code",
   "execution_count": 16,
   "metadata": {},
   "outputs": [
    {
     "data": {
      "text/plain": [
       "<p>This is a test.</p>"
      ]
     },
     "execution_count": 16,
     "metadata": {},
     "output_type": "execute_result"
    }
   ],
   "source": [
    "# p tag \n",
    "soup.p"
   ]
  },
  {
   "cell_type": "code",
   "execution_count": 17,
   "metadata": {},
   "outputs": [
    {
     "data": {
      "text/plain": [
       "'This is a test.'"
      ]
     },
     "execution_count": 17,
     "metadata": {},
     "output_type": "execute_result"
    }
   ],
   "source": [
    "soup.p.text\n",
    "#soup.p.string"
   ]
  },
  {
   "cell_type": "code",
   "execution_count": 18,
   "metadata": {},
   "outputs": [
    {
     "name": "stdout",
     "output_type": "stream",
     "text": [
      "[<title>Hello World</title>, '\\n', <style>\n",
      "    .large {\n",
      "      color:blue;\n",
      "      text-align: center;\n",
      "    }\n",
      "</style>, '\\n']\n",
      "4\n",
      "<title>Hello World</title>\n",
      "\n",
      "\n",
      "<style>\n",
      "    .large {\n",
      "      color:blue;\n",
      "      text-align: center;\n",
      "    }\n",
      "</style>\n",
      "\n",
      "\n"
     ]
    }
   ],
   "source": [
    "#contents 属性可將tag的子節點以列表方式输出\n",
    "print(soup.head.contents)\n",
    "\n",
    "print(len(soup.head.contents))\n",
    "\n",
    "for item in soup.head.contents:\n",
    "    print(item)"
   ]
  },
  {
   "cell_type": "code",
   "execution_count": 19,
   "metadata": {},
   "outputs": [
    {
     "name": "stdout",
     "output_type": "stream",
     "text": [
      "<title>Hello World</title>\n",
      "\n",
      "\n",
      "<style>\n",
      "    .large {\n",
      "      color:blue;\n",
      "      text-align: center;\n",
      "    }\n",
      "</style>\n",
      "\n",
      "\n"
     ]
    }
   ],
   "source": [
    "#.children 訪問子節點\n",
    "for item in soup.head.children:\n",
    "    print(item)"
   ]
  },
  {
   "cell_type": "code",
   "execution_count": 20,
   "metadata": {},
   "outputs": [
    {
     "name": "stdout",
     "output_type": "stream",
     "text": [
      "<title>Hello World</title>\n",
      "\n",
      "\n",
      "<style>\n",
      "    .large {\n",
      "      color:blue;\n",
      "      text-align: center;\n",
      "    }\n",
      "</style>\n",
      "\n",
      "\n"
     ]
    }
   ],
   "source": [
    "#.children 訪問子節點\n",
    "for item in soup.head.children:\n",
    "    print(item)"
   ]
  },
  {
   "cell_type": "code",
   "execution_count": 21,
   "metadata": {},
   "outputs": [
    {
     "name": "stdout",
     "output_type": "stream",
     "text": [
      "Hello World\n",
      "<title>Hello World</title>\n"
     ]
    }
   ],
   "source": [
    "print(soup.title.string)\n",
    "\n",
    "print(soup.title.string.parent)"
   ]
  },
  {
   "cell_type": "code",
   "execution_count": 22,
   "metadata": {},
   "outputs": [
    {
     "name": "stdout",
     "output_type": "stream",
     "text": [
      "<body><h2>Test Header</h2>\n",
      "<p>This is a test.</p>\n",
      "<a href=\"https://www.google.com.tw\" id=\"link1\"> Google網站</a>\n",
      "<a class=\"large\" href=\"https://www.facebook.com.tw\" id=\"link2\">FaceBook</a>\n",
      "<p>Hello, <b class=\"boldtext\" id=\"link1\">Bold Text</b></p>\n",
      "</body>\n",
      "-----\n",
      "<p>This is a test.</p>\n",
      "-----\n",
      "<p>This is a test.</p>\n",
      "\n",
      "\n",
      "<a href=\"https://www.google.com.tw\" id=\"link1\"> Google網站</a>\n",
      "<p>This is a test.</p>\n"
     ]
    }
   ],
   "source": [
    "\n",
    "#.next_sibling 和 .previous_sibling 属性来訪問同一層兄弟節點\n",
    "print(soup.body)\n",
    "print(\"-----\")\n",
    "print(soup.body.p)\n",
    "print(\"-----\")\n",
    "\n",
    "body = soup.body\n",
    "print(body.p)\n",
    "print(body.p.next_sibling)\n",
    "print(body.p.next_sibling.next_sibling)\n",
    "print(body.p.next_sibling.next_sibling.previous_sibling.previous_sibling)"
   ]
  },
  {
   "cell_type": "code",
   "execution_count": 23,
   "metadata": {},
   "outputs": [
    {
     "name": "stdout",
     "output_type": "stream",
     "text": [
      "\n",
      "Hello World\n",
      "\n",
      "\n",
      "Test Header\n",
      "This is a test.\n",
      " Google網站\n",
      "FaceBook\n",
      "Hello, Bold Text\n",
      "\n",
      "\n"
     ]
    }
   ],
   "source": [
    "#取得網頁所有文字內容\n",
    "print(soup.getText())"
   ]
  },
  {
   "cell_type": "code",
   "execution_count": 24,
   "metadata": {},
   "outputs": [
    {
     "name": "stdout",
     "output_type": "stream",
     "text": [
      "\n",
      "\n",
      "Hello World\n",
      "\n",
      "\n",
      "\n",
      "\n",
      "\n",
      "\n",
      "Test Header\n",
      "\n",
      "\n",
      "This is a test.\n",
      "\n",
      "\n",
      " Google網站\n",
      "\n",
      "\n",
      "FaceBook\n",
      "\n",
      "\n",
      "Hello, \n",
      "Bold Text\n",
      "\n",
      "\n",
      "\n",
      "\n"
     ]
    }
   ],
   "source": [
    "for string in soup.strings:\n",
    "    print(string)\n",
    "    #print(repr(string))"
   ]
  },
  {
   "cell_type": "code",
   "execution_count": 25,
   "metadata": {},
   "outputs": [
    {
     "name": "stdout",
     "output_type": "stream",
     "text": [
      "Hello World\n",
      "Test Header\n",
      "This is a test.\n",
      "Google網站\n",
      "FaceBook\n",
      "Hello,\n",
      "Bold Text\n"
     ]
    }
   ],
   "source": [
    "# .stripped_strings 可以移除多餘的空白内容:\n",
    "for string in soup.stripped_strings:\n",
    "    print(string)\n",
    "    #print(repr(string))"
   ]
  },
  {
   "cell_type": "code",
   "execution_count": 26,
   "metadata": {},
   "outputs": [
    {
     "name": "stdout",
     "output_type": "stream",
     "text": [
      " Google網站\n",
      "https://www.google.com.tw\n",
      "https://www.google.com.tw\n"
     ]
    }
   ],
   "source": [
    "#搜尋節點 by tag\n",
    "a_tag = soup.find('a')\n",
    "print(a_tag.text)\n",
    "print(a_tag['href'])\n",
    "print(a_tag.get('href')) # .get(attribute's name) 取得tag 屬性內容"
   ]
  },
  {
   "cell_type": "code",
   "execution_count": 27,
   "metadata": {},
   "outputs": [
    {
     "name": "stdout",
     "output_type": "stream",
     "text": [
      "FaceBook\n"
     ]
    }
   ],
   "source": [
    "#搜尋節點 by tag ,tag id\n",
    "a_tag = soup.find(name ='a',attrs={\"id\":\"link2\"})\n",
    "#a_tag = soup.find('a',{'id':\"link2\"})\n",
    "print(a_tag.text)"
   ]
  },
  {
   "cell_type": "code",
   "execution_count": 28,
   "metadata": {},
   "outputs": [
    {
     "name": "stdout",
     "output_type": "stream",
     "text": [
      "FaceBook\n",
      "https://www.facebook.com.tw\n",
      "['large']\n"
     ]
    }
   ],
   "source": [
    "#搜尋節點 by tag ,class name\n",
    "a_tag = soup.find(name ='a',attrs={\"class\":\"large\"})\n",
    "#a_tag = soup.find('a',{'class':\"large\"})\n",
    "#a_tag = soup.find('a','large')\n",
    "\n",
    "print(a_tag.text)\n",
    "print(a_tag['href'])\n",
    "print(a_tag['class'])"
   ]
  },
  {
   "cell_type": "code",
   "execution_count": 29,
   "metadata": {},
   "outputs": [
    {
     "name": "stdout",
     "output_type": "stream",
     "text": [
      "<a href=\"https://www.google.com.tw\" id=\"link1\"> Google網站</a>\n"
     ]
    }
   ],
   "source": [
    "tags = soup.find([\"a\", \"b\"]) #只會找到第一個符合的節點 \n",
    "print(tags)"
   ]
  },
  {
   "cell_type": "code",
   "execution_count": 30,
   "metadata": {},
   "outputs": [
    {
     "name": "stdout",
     "output_type": "stream",
     "text": [
      " Google網站\n",
      "https://www.google.com.tw\n",
      "FaceBook\n",
      "https://www.facebook.com.tw\n"
     ]
    }
   ],
   "source": [
    "#搜尋節點\n",
    "a_tags = soup.find_all('a')\n",
    "for tag in a_tags:\n",
    "    print(tag.text)\n",
    "    print(tag['href'])"
   ]
  },
  {
   "cell_type": "code",
   "execution_count": 31,
   "metadata": {},
   "outputs": [
    {
     "name": "stdout",
     "output_type": "stream",
     "text": [
      "https://www.google.com.tw\n",
      "None\n",
      "https://www.facebook.com.tw\n",
      "['large']\n"
     ]
    }
   ],
   "source": [
    "#取出節點屬性\n",
    "for tag in a_tags:\n",
    "    print(tag.get('href'))\n",
    "    print(tag.get('class'))"
   ]
  },
  {
   "cell_type": "code",
   "execution_count": 32,
   "metadata": {},
   "outputs": [
    {
     "name": "stdout",
     "output_type": "stream",
     "text": [
      "[<a href=\"https://www.google.com.tw\" id=\"link1\"> Google網站</a>, <a class=\"large\" href=\"https://www.facebook.com.tw\" id=\"link2\">FaceBook</a>, <b class=\"boldtext\" id=\"link1\">Bold Text</b>]\n",
      "<a href=\"https://www.google.com.tw\" id=\"link1\"> Google網站</a>\n",
      " Google網站\n",
      "https://www.google.com.tw\n",
      "<a class=\"large\" href=\"https://www.facebook.com.tw\" id=\"link2\">FaceBook</a>\n",
      "FaceBook\n",
      "https://www.facebook.com.tw\n",
      "<b class=\"boldtext\" id=\"link1\">Bold Text</b>\n",
      "Bold Text\n",
      "None\n"
     ]
    }
   ],
   "source": [
    "# 搜尋所有超連結與粗體字\n",
    "tags = soup.find_all([\"a\", \"b\"])\n",
    "print(tags)\n",
    "\n",
    "for tag in tags:\n",
    "    print(tag)\n",
    "    print(tag.text)\n",
    "    print(tag.get('href'))"
   ]
  },
  {
   "cell_type": "code",
   "execution_count": 33,
   "metadata": {},
   "outputs": [
    {
     "name": "stdout",
     "output_type": "stream",
     "text": [
      "[<a href=\"https://www.google.com.tw\" id=\"link1\"> Google網站</a>, <a class=\"large\" href=\"https://www.facebook.com.tw\" id=\"link2\">FaceBook</a>]\n"
     ]
    }
   ],
   "source": [
    "# 限制搜尋結果數量\n",
    "tags = soup.find_all([\"a\", \"b\"], limit=2)\n",
    "print(tags)"
   ]
  },
  {
   "cell_type": "markdown",
   "metadata": {},
   "source": [
    "#### Select 選擇器"
   ]
  },
  {
   "cell_type": "code",
   "execution_count": 34,
   "metadata": {},
   "outputs": [
    {
     "data": {
      "text/plain": [
       "[<title>Hello World</title>]"
      ]
     },
     "execution_count": 34,
     "metadata": {},
     "output_type": "execute_result"
    }
   ],
   "source": [
    "soup.select(\"title\")"
   ]
  },
  {
   "cell_type": "code",
   "execution_count": 35,
   "metadata": {},
   "outputs": [
    {
     "data": {
      "text/plain": [
       "[<a href=\"https://www.google.com.tw\" id=\"link1\"> Google網站</a>,\n",
       " <a class=\"large\" href=\"https://www.facebook.com.tw\" id=\"link2\">FaceBook</a>]"
      ]
     },
     "execution_count": 35,
     "metadata": {},
     "output_type": "execute_result"
    }
   ],
   "source": [
    "soup.select(\"body a\")"
   ]
  },
  {
   "cell_type": "code",
   "execution_count": 36,
   "metadata": {},
   "outputs": [
    {
     "data": {
      "text/plain": [
       "[<a class=\"large\" href=\"https://www.facebook.com.tw\" id=\"link2\">FaceBook</a>]"
      ]
     },
     "execution_count": 36,
     "metadata": {},
     "output_type": "execute_result"
    }
   ],
   "source": [
    "# Select by css name \n",
    "soup.select(\".large\")"
   ]
  },
  {
   "cell_type": "code",
   "execution_count": 37,
   "metadata": {},
   "outputs": [
    {
     "data": {
      "text/plain": [
       "[<a class=\"large\" href=\"https://www.facebook.com.tw\" id=\"link2\">FaceBook</a>]"
      ]
     },
     "execution_count": 37,
     "metadata": {},
     "output_type": "execute_result"
    }
   ],
   "source": [
    "soup.select(\"a.large\")\n"
   ]
  },
  {
   "cell_type": "code",
   "execution_count": 38,
   "metadata": {},
   "outputs": [
    {
     "data": {
      "text/plain": [
       "[<a href=\"https://www.google.com.tw\" id=\"link1\"> Google網站</a>,\n",
       " <b class=\"boldtext\" id=\"link1\">Bold Text</b>]"
      ]
     },
     "execution_count": 38,
     "metadata": {},
     "output_type": "execute_result"
    }
   ],
   "source": [
    "# Select by id \n",
    "soup.select(\"#link1\")"
   ]
  },
  {
   "cell_type": "code",
   "execution_count": 39,
   "metadata": {},
   "outputs": [
    {
     "data": {
      "text/plain": [
       "[<a href=\"https://www.google.com.tw\" id=\"link1\"> Google網站</a>]"
      ]
     },
     "execution_count": 39,
     "metadata": {},
     "output_type": "execute_result"
    }
   ],
   "source": [
    "soup.select(\"a#link1\")"
   ]
  },
  {
   "cell_type": "code",
   "execution_count": 40,
   "metadata": {},
   "outputs": [
    {
     "data": {
      "text/plain": [
       "[<a href=\"https://www.google.com.tw\" id=\"link1\"> Google網站</a>,\n",
       " <a class=\"large\" href=\"https://www.facebook.com.tw\" id=\"link2\">FaceBook</a>]"
      ]
     },
     "execution_count": 40,
     "metadata": {},
     "output_type": "execute_result"
    }
   ],
   "source": [
    "#依據屬性來選擇\n",
    "soup.select('a[href]')"
   ]
  },
  {
   "cell_type": "code",
   "execution_count": 41,
   "metadata": {},
   "outputs": [
    {
     "data": {
      "text/plain": [
       "[<a class=\"large\" href=\"https://www.facebook.com.tw\" id=\"link2\">FaceBook</a>]"
      ]
     },
     "execution_count": 41,
     "metadata": {},
     "output_type": "execute_result"
    }
   ],
   "source": [
    "soup.select('a[class]')"
   ]
  },
  {
   "cell_type": "code",
   "execution_count": 42,
   "metadata": {},
   "outputs": [
    {
     "data": {
      "text/plain": [
       "[]"
      ]
     },
     "execution_count": 42,
     "metadata": {},
     "output_type": "execute_result"
    }
   ],
   "source": [
    "soup.select('a[style]')"
   ]
  },
  {
   "cell_type": "markdown",
   "metadata": {},
   "source": [
    "#### Example PTT"
   ]
  },
  {
   "cell_type": "code",
   "execution_count": 43,
   "metadata": {},
   "outputs": [
    {
     "name": "stdout",
     "output_type": "stream",
     "text": [
      "作者nanachi (上善若水)看板movie標題[討論] 韓國電影是不是在台灣逐漸佔上風了？時間Thu Aug 29 12:50:59 2019\n",
      "\n",
      "\n",
      "最近幾年韓片已經打入台灣市場，且常有佳作，不僅口碑好\n",
      "\n",
      "票房更佳，反觀日本電影越走越倒退，雖說有是枝裕和這樣\n",
      "\n",
      "的優秀導演，可整體環境一攤死水，韓國電影未來發展可說\n",
      "\n",
      "是無可限量，各位認為呢？\n",
      "-----\n",
      "Sent from JPTT on my iPhone\n",
      "\n",
      "--\n",
      "※ 發信站: 批踢踢實業坊(ptt.cc), 來自: 223.137.29.34 (臺灣)\n",
      "※ 文章網址: https://www.ptt.cc/bbs/movie/M.1567054261.A.D63.html\n",
      "→ azoc245     : 樓下77508/29 12:52\n",
      "→ hp8232      : 之前屍速列車上映時就有一波討論了08/29 12:53\n",
      "推 CavendishJr : 你是想說在台灣市場還是亞洲?08/29 13:02\n",
      "推 filmwalker  : 東南亞其實是對岸電影較吃香...08/29 13:05\n",
      "噓 DKnex       : 台灣?亞洲? 能不能明確點 08/29 13:08\n",
      "※ 編輯: nanachi (223.137.29.34 臺灣), 08/29/2019 13:11:02\n",
      "推 ling7777777 : 改掉狗血煽情 自然一點 比較可以 08/29 13:26\n",
      "推 Goei        : 日本電影就千篇一律的吶喊 飆淚 雅美爹  無聊死 08/29 13:28\n",
      "推 sdfg014025xx: 日本的比台灣還讓人不想看 08/29 13:38\n",
      "推 keny80206   : 日本還是做動畫就好 08/29 13:49\n",
      "推 smallGY     : 日本就靠柯南 多啦A夢 七龍珠 這些再撐而已 08/29 13:50\n",
      "→ smallGY     : 劇場版再戰20年 08/29 13:51\n",
      "推 ejijo761115 : 每年固定看小新 柯南 多啦A夢劇場版 其他日本電影倒 08/29 13:59\n",
      "→ ejijo761115 : 沒怎麼關注 除了山本美月 綾瀨遙 有參演的以外XD 08/29 13:59\n",
      "推 qoo2002s    : 電影版推文大概也只看那些日本片而已啦 08/29 14:07\n",
      "→ damnedfish  : 只要批評日片就100%有人跳出來說你日片看太少 08/29 14:12\n",
      "→ damnedfish  : 根本廢話，「你＊國電影看太少」完全可以套用到任 08/29 14:14\n",
      "→ damnedfish  : 何拍電影的國家，跟沒講一樣 08/29 14:14\n",
      "→ nanachi     : 日本現階段流行文化衰退，ACG次文化至少還很強 08/29 14:18\n",
      "推 ptt985200   : 市場日益變新，消費市場也會不同！ 08/29 14:26\n",
      "→ ptt985200   : 但重點還是得看劇本跟拍攝手法～ 08/29 14:26\n",
      "推 a9a99       : 韓國電影這幾年的確進步很多 08/29 14:28\n",
      "推 heci1941    : 真不知道，為何日本電影，會糟成這樣 08/29 14:44\n",
      "→ heci1941    : 日本看起來應該是比韓國還要有文化與美感的底蘊的啊 08/29 14:46\n",
      "→ pita30      : 最近不小心跟著看一部韓劇,品質也好高阿 08/29 15:13\n",
      "→ pita30      : IU演的月之酒店,看了覺得韓國真不簡單 08/29 15:14\n",
      "噓 pf775       : 捧韓？ 08/29 15:21\n",
      "推 chenyoung411: 日本還是看動漫就好，很多高水準的動漫 08/29 15:24\n",
      "推 raura       : 現在日本電影只想回收成本，討好觀眾，大部分電影只 08/29 16:03\n",
      "→ raura       : 能賣日本國內，拿出去無法競爭 08/29 16:04\n",
      "→ raura       : 山田孝之的偽紀錄片連續劇《山田孝之的坎城影展》有 08/29 16:05\n",
      "→ raura       : 對現在日影的困境做出批評，有機會可以看看 08/29 16:06\n",
      "推 astrophy    : 日本不是拍不出好電影，最重要問題就是日本觀眾太容 08/29 16:14\n",
      "→ astrophy    : 易從眾，只要行銷手法好，票房就不差了，完全是被 08/29 16:14\n",
      "→ astrophy    : 內需寵壞 08/29 16:14\n",
      "推 kenwufederer: 日本電影… 08/29 16:31\n",
      "推 lovelva00   : 但日本人應該不覺得他們一灘死水XD 08/29 16:36\n",
      "→ lovelva00   : 感覺日本根本沒有要理海外市場 08/29 16:36\n",
      "→ nanachi     : 所以才說日本流行文化全面衰退 08/29 16:46\n",
      "→ evelyn055   : 日本只想關起門來自己玩自己的啊 08/29 16:49\n",
      "→ yuting90    : 去年有部日影 人與沈睡的家 就超好看好嘛 08/29 16:52\n",
      "→ nanachi     : 不過回想到台灣，就覺得日本好多了XD 08/29 16:54\n",
      "推 lovelva00   : 他們國內流行文化哪有全面衰退XD 08/29 17:02\n",
      "推 Beandou     : 日本電影的問題是根本不想走海外市場，但他們的優 08/29 17:05\n",
      "→ Beandou     : 勢是文學很強有助於電影文本。 08/29 17:05\n",
      "→ sober921    : 日本人的演技太舞台劇 08/29 17:36\n",
      "→ GFLR20      : 日本電影別鬧辣 08/29 17:38\n",
      "推 alznn       : 之前看過一個說法是說經濟泡沫以後日本不敢投資在電 08/29 17:41\n",
      "→ alznn       : 影產業之類的，才會越來越遺世獨立w 08/29 17:41\n",
      "推 a09410045   : 佔上風很久了 反觀國片 08/29 17:52\n",
      "→ GrowUp      : 日本常犯同樣錯誤，但偶有佳作，最近殺手寓言還不錯 08/29 18:09\n",
      "→ GrowUp      : ，韓國則是質感不錯，但劇情常常太過濫情矯情會白眼 08/29 18:09\n",
      "推 rainygrass  : 日本同類型的片都有夠像 10年前還愛看 現在很膩 08/29 18:11\n",
      "噓 JQK2        : 誰跟你逐漸，早就了 08/29 18:33\n",
      "→ Magic0312   : 日本電影在台有強過嗎 08/29 18:40\n",
      "噓 buwa56      : 那一片？你說啊？ 08/29 18:40\n",
      "→ a27647535   : 韓片吹了這麼久還是不怎麼樣 08/29 18:59\n",
      "推 paulsama    : 韓電影的內容大多比日本好 08/29 19:11\n",
      "推 okwep       : 日本就靠動畫啊，電影還是算了 08/29 19:30\n",
      "→ q076262018  : 糞作一堆 08/29 19:38\n",
      "→ q076262018  : 哈韓可笑 08/29 19:38\n",
      "→ pttnew      : 日本電影真的慘，就是在原地踏步，黑澤明應該會很 08/29 20:03\n",
      "→ pttnew      : 難過 08/29 20:03\n",
      "推 n61208      : 日本電影常常令人出戲 08/29 20:04\n",
      "→ pttnew      : 其實我覺得日劇這幾年也普普了，我以前真的好喜歡 08/29 20:07\n",
      "→ pttnew      : 看日劇，現在都沒什麼興趣了TTTT 08/29 20:07\n",
      "→ qazxswptt   : 日本喜歡沒有負擔的單元劇 通常不得不失 08/29 20:33\n",
      "→ qazxswptt   : 題材要新鮮才能拉抬 要不然會比較雞肋 08/29 20:34\n",
      "→ qazxswptt   : 韓國是萬物狗血化 題材有中張力不錯 沒中的話讓人 08/29 20:35\n",
      "→ qazxswptt   : 看了坐立難安 08/29 20:35\n",
      "噓 johnny9667  : 想太多了 08/29 21:00\n",
      "推 Herblay     : 日本曾經也是有黑澤明這樣的大師啊...真是感嘆 08/29 22:19\n",
      "→ Herblay     : 現在日本電影感覺就像長一點的日劇... 08/29 22:20\n",
      "→ Herblay     : 電影的規格電視劇的質感 08/29 22:20\n",
      "推 loveorangel : 日本電影變成拿獎用了 08/29 23:51\n",
      "→ rainygrass  : 日劇近年普+1 一樣沒新意 現在台劇還比較有趣 08/30 00:49\n",
      "推 candn       : 屍速列車後～有興趣的都會買票，不錯！ 08/30 03:16\n",
      "推 candn       : 日本的推理和家庭小品一直都有好作 08/30 03:19\n",
      "推 hcc570910   : 狗血 08/30 07:46\n",
      "推 blake7899   : 韓國犯罪寫實類很棒 08/30 09:08\n",
      "推 thatear     : 一直上馬東石的電影是怎樣 害我以為他是韓國古天樂 08/30 09:20\n",
      "推 yuugen2     : 韓國電影厲害是他們努力來的 這沒話說 只是貶低台 08/30 23:28\n",
      "→ yuugen2     : 日電影的心態是啥 會比較有優越感嗎？你韓國人嗎？ 08/30 23:28\n",
      "→ pttnew      : 阿就事實要什麼優越感，自己也說了韓影能有今天是 08/31 10:48\n",
      "→ pttnew      : 他們努力來的，那日本這些年呢？ 就是以前有多喜歡 08/31 10:48\n",
      "→ pttnew      : 現在有多失望才會說這種話，看一屍到底在日本叫好 08/31 10:48\n",
      "→ pttnew      : 賣座就知道了，不勝唏噓 08/31 10:48\n",
      "噓 lise1017    : 日本電影早前都是以鬼片聞名阿後來走流眼淚路線就 08/31 12:04\n",
      "→ lise1017    : 不想看了 08/31 12:04\n",
      "→ gowaa       : 多久了... = = 09/01 19:03\n",
      "\n"
     ]
    }
   ],
   "source": [
    "import requests\n",
    "from bs4 import BeautifulSoup\n",
    "\n",
    "res = requests.get('https://www.ptt.cc/bbs/movie/M.1567054261.A.D63.html')\n",
    "soup = BeautifulSoup(res.text)\n",
    "mainContent = soup.find(name = 'div',attrs={\"class\":\"bbs-screen bbs-content\"})\n",
    "#print(mainContent)\n",
    "content = mainContent.text\n",
    "print(content)"
   ]
  },
  {
   "cell_type": "code",
   "execution_count": 44,
   "metadata": {},
   "outputs": [
    {
     "name": "stdout",
     "output_type": "stream",
     "text": [
      "作者nanachi (上善若水)看板movie標題[討論] 韓國電影是不是在台灣逐漸佔上風了？時間Thu Aug 29 12:50:59 2019\n",
      "\n",
      "\n",
      "最近幾年韓片已經打入台灣市場，且常有佳作，不僅口碑好\n",
      "\n",
      "票房更佳，反觀日本電影越走越倒退，雖說有是枝裕和這樣\n",
      "\n",
      "的優秀導演，可整體環境一攤死水，韓國電影未來發展可說\n",
      "\n",
      "是無可限量，各位認為呢？\n",
      "-----\n",
      "Sent from JPTT on my iPhone\n",
      "\n",
      "--\n",
      "※ 發信站: 批踢踢實業坊(ptt.cc), 來自: 223.137.29.34 (臺灣)\n",
      "※ 文章網址: https://www.ptt.cc/bbs/movie/M.1567054261.A.D63.html\n",
      "→ azoc245     : 樓下77508/29 12:52\n",
      "→ hp8232      : 之前屍速列車上映時就有一波討論了08/29 12:53\n",
      "推 CavendishJr : 你是想說在台灣市場還是亞洲?08/29 13:02\n",
      "推 filmwalker  : 東南亞其實是對岸電影較吃香...08/29 13:05\n",
      "噓 DKnex       : 台灣?亞洲? 能不能明確點 08/29 13:08\n",
      "※ 編輯: nanachi (223.137.29.34 臺灣), 08/29/2019 13:11:02\n",
      "推 ling7777777 : 改掉狗血煽情 自然一點 比較可以 08/29 13:26\n",
      "推 Goei        : 日本電影就千篇一律的吶喊 飆淚 雅美爹  無聊死 08/29 13:28\n",
      "推 sdfg014025xx: 日本的比台灣還讓人不想看 08/29 13:38\n",
      "推 keny80206   : 日本還是做動畫就好 08/29 13:49\n",
      "推 smallGY     : 日本就靠柯南 多啦A夢 七龍珠 這些再撐而已 08/29 13:50\n",
      "→ smallGY     : 劇場版再戰20年 08/29 13:51\n",
      "推 ejijo761115 : 每年固定看小新 柯南 多啦A夢劇場版 其他日本電影倒 08/29 13:59\n",
      "→ ejijo761115 : 沒怎麼關注 除了山本美月 綾瀨遙 有參演的以外XD 08/29 13:59\n",
      "推 qoo2002s    : 電影版推文大概也只看那些日本片而已啦 08/29 14:07\n",
      "→ damnedfish  : 只要批評日片就100%有人跳出來說你日片看太少 08/29 14:12\n",
      "→ damnedfish  : 根本廢話，「你＊國電影看太少」完全可以套用到任 08/29 14:14\n",
      "→ damnedfish  : 何拍電影的國家，跟沒講一樣 08/29 14:14\n",
      "→ nanachi     : 日本現階段流行文化衰退，ACG次文化至少還很強 08/29 14:18\n",
      "推 ptt985200   : 市場日益變新，消費市場也會不同！ 08/29 14:26\n",
      "→ ptt985200   : 但重點還是得看劇本跟拍攝手法～ 08/29 14:26\n",
      "推 a9a99       : 韓國電影這幾年的確進步很多 08/29 14:28\n",
      "推 heci1941    : 真不知道，為何日本電影，會糟成這樣 08/29 14:44\n",
      "→ heci1941    : 日本看起來應該是比韓國還要有文化與美感的底蘊的啊 08/29 14:46\n",
      "→ pita30      : 最近不小心跟著看一部韓劇,品質也好高阿 08/29 15:13\n",
      "→ pita30      : IU演的月之酒店,看了覺得韓國真不簡單 08/29 15:14\n",
      "噓 pf775       : 捧韓？ 08/29 15:21\n",
      "推 chenyoung411: 日本還是看動漫就好，很多高水準的動漫 08/29 15:24\n",
      "推 raura       : 現在日本電影只想回收成本，討好觀眾，大部分電影只 08/29 16:03\n",
      "→ raura       : 能賣日本國內，拿出去無法競爭 08/29 16:04\n",
      "→ raura       : 山田孝之的偽紀錄片連續劇《山田孝之的坎城影展》有 08/29 16:05\n",
      "→ raura       : 對現在日影的困境做出批評，有機會可以看看 08/29 16:06\n",
      "推 astrophy    : 日本不是拍不出好電影，最重要問題就是日本觀眾太容 08/29 16:14\n",
      "→ astrophy    : 易從眾，只要行銷手法好，票房就不差了，完全是被 08/29 16:14\n",
      "→ astrophy    : 內需寵壞 08/29 16:14\n",
      "推 kenwufederer: 日本電影… 08/29 16:31\n",
      "推 lovelva00   : 但日本人應該不覺得他們一灘死水XD 08/29 16:36\n",
      "→ lovelva00   : 感覺日本根本沒有要理海外市場 08/29 16:36\n",
      "→ nanachi     : 所以才說日本流行文化全面衰退 08/29 16:46\n",
      "→ evelyn055   : 日本只想關起門來自己玩自己的啊 08/29 16:49\n",
      "→ yuting90    : 去年有部日影 人與沈睡的家 就超好看好嘛 08/29 16:52\n",
      "→ nanachi     : 不過回想到台灣，就覺得日本好多了XD 08/29 16:54\n",
      "推 lovelva00   : 他們國內流行文化哪有全面衰退XD 08/29 17:02\n",
      "推 Beandou     : 日本電影的問題是根本不想走海外市場，但他們的優 08/29 17:05\n",
      "→ Beandou     : 勢是文學很強有助於電影文本。 08/29 17:05\n",
      "→ sober921    : 日本人的演技太舞台劇 08/29 17:36\n",
      "→ GFLR20      : 日本電影別鬧辣 08/29 17:38\n",
      "推 alznn       : 之前看過一個說法是說經濟泡沫以後日本不敢投資在電 08/29 17:41\n",
      "→ alznn       : 影產業之類的，才會越來越遺世獨立w 08/29 17:41\n",
      "推 a09410045   : 佔上風很久了 反觀國片 08/29 17:52\n",
      "→ GrowUp      : 日本常犯同樣錯誤，但偶有佳作，最近殺手寓言還不錯 08/29 18:09\n",
      "→ GrowUp      : ，韓國則是質感不錯，但劇情常常太過濫情矯情會白眼 08/29 18:09\n",
      "推 rainygrass  : 日本同類型的片都有夠像 10年前還愛看 現在很膩 08/29 18:11\n",
      "噓 JQK2        : 誰跟你逐漸，早就了 08/29 18:33\n",
      "→ Magic0312   : 日本電影在台有強過嗎 08/29 18:40\n",
      "噓 buwa56      : 那一片？你說啊？ 08/29 18:40\n",
      "→ a27647535   : 韓片吹了這麼久還是不怎麼樣 08/29 18:59\n",
      "推 paulsama    : 韓電影的內容大多比日本好 08/29 19:11\n",
      "推 okwep       : 日本就靠動畫啊，電影還是算了 08/29 19:30\n",
      "→ q076262018  : 糞作一堆 08/29 19:38\n",
      "→ q076262018  : 哈韓可笑 08/29 19:38\n",
      "→ pttnew      : 日本電影真的慘，就是在原地踏步，黑澤明應該會很 08/29 20:03\n",
      "→ pttnew      : 難過 08/29 20:03\n",
      "推 n61208      : 日本電影常常令人出戲 08/29 20:04\n",
      "→ pttnew      : 其實我覺得日劇這幾年也普普了，我以前真的好喜歡 08/29 20:07\n",
      "→ pttnew      : 看日劇，現在都沒什麼興趣了TTTT 08/29 20:07\n",
      "→ qazxswptt   : 日本喜歡沒有負擔的單元劇 通常不得不失 08/29 20:33\n",
      "→ qazxswptt   : 題材要新鮮才能拉抬 要不然會比較雞肋 08/29 20:34\n",
      "→ qazxswptt   : 韓國是萬物狗血化 題材有中張力不錯 沒中的話讓人 08/29 20:35\n",
      "→ qazxswptt   : 看了坐立難安 08/29 20:35\n",
      "噓 johnny9667  : 想太多了 08/29 21:00\n",
      "推 Herblay     : 日本曾經也是有黑澤明這樣的大師啊...真是感嘆 08/29 22:19\n",
      "→ Herblay     : 現在日本電影感覺就像長一點的日劇... 08/29 22:20\n",
      "→ Herblay     : 電影的規格電視劇的質感 08/29 22:20\n",
      "推 loveorangel : 日本電影變成拿獎用了 08/29 23:51\n",
      "→ rainygrass  : 日劇近年普+1 一樣沒新意 現在台劇還比較有趣 08/30 00:49\n",
      "推 candn       : 屍速列車後～有興趣的都會買票，不錯！ 08/30 03:16\n",
      "推 candn       : 日本的推理和家庭小品一直都有好作 08/30 03:19\n",
      "推 hcc570910   : 狗血 08/30 07:46\n",
      "推 blake7899   : 韓國犯罪寫實類很棒 08/30 09:08\n",
      "推 thatear     : 一直上馬東石的電影是怎樣 害我以為他是韓國古天樂 08/30 09:20\n",
      "推 yuugen2     : 韓國電影厲害是他們努力來的 這沒話說 只是貶低台 08/30 23:28\n",
      "→ yuugen2     : 日電影的心態是啥 會比較有優越感嗎？你韓國人嗎？ 08/30 23:28\n",
      "→ pttnew      : 阿就事實要什麼優越感，自己也說了韓影能有今天是 08/31 10:48\n",
      "→ pttnew      : 他們努力來的，那日本這些年呢？ 就是以前有多喜歡 08/31 10:48\n",
      "→ pttnew      : 現在有多失望才會說這種話，看一屍到底在日本叫好 08/31 10:48\n",
      "→ pttnew      : 賣座就知道了，不勝唏噓 08/31 10:48\n",
      "噓 lise1017    : 日本電影早前都是以鬼片聞名阿後來走流眼淚路線就 08/31 12:04\n",
      "→ lise1017    : 不想看了 08/31 12:04\n",
      "→ gowaa       : 多久了... = = 09/01 19:03\n",
      "\n",
      "看板 movie\n",
      "作者 nanachi (上善若水)\n",
      "標題 [討論] 韓國電影是不是在台灣逐漸佔上風了？\n",
      "時間 Thu Aug 29 12:50:59 2019\n",
      "azoc245      : 樓下775 08/29 12:52\n",
      "\n",
      "hp8232       : 之前屍速列車上映時就有一波討論了 08/29 12:53\n",
      "\n",
      "CavendishJr  : 你是想說在台灣市場還是亞洲? 08/29 13:02\n",
      "\n",
      "filmwalker   : 東南亞其實是對岸電影較吃香... 08/29 13:05\n",
      "\n",
      "DKnex        : 台灣?亞洲? 能不能明確點  08/29 13:08\n",
      "\n",
      "ling7777777  : 改掉狗血煽情 自然一點 比較可以  08/29 13:26\n",
      "\n",
      "Goei         : 日本電影就千篇一律的吶喊 飆淚 雅美爹  無聊死  08/29 13:28\n",
      "\n",
      "sdfg014025xx : 日本的比台灣還讓人不想看  08/29 13:38\n",
      "\n",
      "keny80206    : 日本還是做動畫就好  08/29 13:49\n",
      "\n",
      "smallGY      : 日本就靠柯南 多啦A夢 七龍珠 這些再撐而已  08/29 13:50\n",
      "\n",
      "smallGY      : 劇場版再戰20年  08/29 13:51\n",
      "\n",
      "ejijo761115  : 每年固定看小新 柯南 多啦A夢劇場版 其他日本電影倒  08/29 13:59\n",
      "\n",
      "ejijo761115  : 沒怎麼關注 除了山本美月 綾瀨遙 有參演的以外XD  08/29 13:59\n",
      "\n",
      "qoo2002s     : 電影版推文大概也只看那些日本片而已啦  08/29 14:07\n",
      "\n",
      "damnedfish   : 只要批評日片就100%有人跳出來說你日片看太少  08/29 14:12\n",
      "\n",
      "damnedfish   : 根本廢話，「你＊國電影看太少」完全可以套用到任  08/29 14:14\n",
      "\n",
      "damnedfish   : 何拍電影的國家，跟沒講一樣  08/29 14:14\n",
      "\n",
      "nanachi      : 日本現階段流行文化衰退，ACG次文化至少還很強  08/29 14:18\n",
      "\n",
      "ptt985200    : 市場日益變新，消費市場也會不同！  08/29 14:26\n",
      "\n",
      "ptt985200    : 但重點還是得看劇本跟拍攝手法～  08/29 14:26\n",
      "\n",
      "a9a99        : 韓國電影這幾年的確進步很多  08/29 14:28\n",
      "\n",
      "heci1941     : 真不知道，為何日本電影，會糟成這樣  08/29 14:44\n",
      "\n",
      "heci1941     : 日本看起來應該是比韓國還要有文化與美感的底蘊的啊  08/29 14:46\n",
      "\n",
      "pita30       : 最近不小心跟著看一部韓劇,品質也好高阿  08/29 15:13\n",
      "\n",
      "pita30       : IU演的月之酒店,看了覺得韓國真不簡單  08/29 15:14\n",
      "\n",
      "pf775        : 捧韓？  08/29 15:21\n",
      "\n",
      "chenyoung411 : 日本還是看動漫就好，很多高水準的動漫  08/29 15:24\n",
      "\n",
      "raura        : 現在日本電影只想回收成本，討好觀眾，大部分電影只  08/29 16:03\n",
      "\n",
      "raura        : 能賣日本國內，拿出去無法競爭  08/29 16:04\n",
      "\n",
      "raura        : 山田孝之的偽紀錄片連續劇《山田孝之的坎城影展》有  08/29 16:05\n",
      "\n",
      "raura        : 對現在日影的困境做出批評，有機會可以看看  08/29 16:06\n",
      "\n",
      "astrophy     : 日本不是拍不出好電影，最重要問題就是日本觀眾太容  08/29 16:14\n",
      "\n",
      "astrophy     : 易從眾，只要行銷手法好，票房就不差了，完全是被  08/29 16:14\n",
      "\n",
      "astrophy     : 內需寵壞  08/29 16:14\n",
      "\n",
      "kenwufederer : 日本電影…  08/29 16:31\n",
      "\n",
      "lovelva00    : 但日本人應該不覺得他們一灘死水XD  08/29 16:36\n",
      "\n",
      "lovelva00    : 感覺日本根本沒有要理海外市場  08/29 16:36\n",
      "\n",
      "nanachi      : 所以才說日本流行文化全面衰退  08/29 16:46\n",
      "\n",
      "evelyn055    : 日本只想關起門來自己玩自己的啊  08/29 16:49\n",
      "\n",
      "yuting90     : 去年有部日影 人與沈睡的家 就超好看好嘛  08/29 16:52\n",
      "\n",
      "nanachi      : 不過回想到台灣，就覺得日本好多了XD  08/29 16:54\n",
      "\n",
      "lovelva00    : 他們國內流行文化哪有全面衰退XD  08/29 17:02\n",
      "\n",
      "Beandou      : 日本電影的問題是根本不想走海外市場，但他們的優  08/29 17:05\n",
      "\n",
      "Beandou      : 勢是文學很強有助於電影文本。  08/29 17:05\n",
      "\n",
      "sober921     : 日本人的演技太舞台劇  08/29 17:36\n",
      "\n",
      "GFLR20       : 日本電影別鬧辣  08/29 17:38\n",
      "\n",
      "alznn        : 之前看過一個說法是說經濟泡沫以後日本不敢投資在電  08/29 17:41\n",
      "\n",
      "alznn        : 影產業之類的，才會越來越遺世獨立w  08/29 17:41\n",
      "\n",
      "a09410045    : 佔上風很久了 反觀國片  08/29 17:52\n",
      "\n",
      "GrowUp       : 日本常犯同樣錯誤，但偶有佳作，最近殺手寓言還不錯  08/29 18:09\n",
      "\n",
      "GrowUp       : ，韓國則是質感不錯，但劇情常常太過濫情矯情會白眼  08/29 18:09\n",
      "\n",
      "rainygrass   : 日本同類型的片都有夠像 10年前還愛看 現在很膩  08/29 18:11\n",
      "\n",
      "JQK2         : 誰跟你逐漸，早就了  08/29 18:33\n",
      "\n",
      "Magic0312    : 日本電影在台有強過嗎  08/29 18:40\n",
      "\n",
      "buwa56       : 那一片？你說啊？  08/29 18:40\n",
      "\n",
      "a27647535    : 韓片吹了這麼久還是不怎麼樣  08/29 18:59\n",
      "\n",
      "paulsama     : 韓電影的內容大多比日本好  08/29 19:11\n",
      "\n",
      "okwep        : 日本就靠動畫啊，電影還是算了  08/29 19:30\n",
      "\n",
      "q076262018   : 糞作一堆  08/29 19:38\n",
      "\n",
      "q076262018   : 哈韓可笑  08/29 19:38\n",
      "\n",
      "pttnew       : 日本電影真的慘，就是在原地踏步，黑澤明應該會很  08/29 20:03\n",
      "\n",
      "pttnew       : 難過  08/29 20:03\n",
      "\n",
      "n61208       : 日本電影常常令人出戲  08/29 20:04\n",
      "\n",
      "pttnew       : 其實我覺得日劇這幾年也普普了，我以前真的好喜歡  08/29 20:07\n",
      "\n",
      "pttnew       : 看日劇，現在都沒什麼興趣了TTTT  08/29 20:07\n",
      "\n",
      "qazxswptt    : 日本喜歡沒有負擔的單元劇 通常不得不失  08/29 20:33\n",
      "\n",
      "qazxswptt    : 題材要新鮮才能拉抬 要不然會比較雞肋  08/29 20:34\n",
      "\n",
      "qazxswptt    : 韓國是萬物狗血化 題材有中張力不錯 沒中的話讓人  08/29 20:35\n",
      "\n",
      "qazxswptt    : 看了坐立難安  08/29 20:35\n",
      "\n",
      "johnny9667   : 想太多了  08/29 21:00\n",
      "\n",
      "Herblay      : 日本曾經也是有黑澤明這樣的大師啊...真是感嘆  08/29 22:19\n",
      "\n",
      "Herblay      : 現在日本電影感覺就像長一點的日劇...  08/29 22:20\n",
      "\n",
      "Herblay      : 電影的規格電視劇的質感  08/29 22:20\n",
      "\n",
      "loveorangel  : 日本電影變成拿獎用了  08/29 23:51\n",
      "\n",
      "rainygrass   : 日劇近年普+1 一樣沒新意 現在台劇還比較有趣  08/30 00:49\n",
      "\n",
      "candn        : 屍速列車後～有興趣的都會買票，不錯！  08/30 03:16\n",
      "\n",
      "candn        : 日本的推理和家庭小品一直都有好作  08/30 03:19\n",
      "\n",
      "hcc570910    : 狗血  08/30 07:46\n",
      "\n",
      "blake7899    : 韓國犯罪寫實類很棒  08/30 09:08\n",
      "\n",
      "thatear      : 一直上馬東石的電影是怎樣 害我以為他是韓國古天樂  08/30 09:20\n",
      "\n",
      "yuugen2      : 韓國電影厲害是他們努力來的 這沒話說 只是貶低台  08/30 23:28\n",
      "\n",
      "yuugen2      : 日電影的心態是啥 會比較有優越感嗎？你韓國人嗎？  08/30 23:28\n",
      "\n",
      "pttnew       : 阿就事實要什麼優越感，自己也說了韓影能有今天是  08/31 10:48\n",
      "\n",
      "pttnew       : 他們努力來的，那日本這些年呢？ 就是以前有多喜歡  08/31 10:48\n",
      "\n",
      "pttnew       : 現在有多失望才會說這種話，看一屍到底在日本叫好  08/31 10:48\n",
      "\n",
      "pttnew       : 賣座就知道了，不勝唏噓  08/31 10:48\n",
      "\n",
      "lise1017     : 日本電影早前都是以鬼片聞名阿後來走流眼淚路線就  08/31 12:04\n",
      "\n",
      "lise1017     : 不想看了  08/31 12:04\n",
      "\n",
      "gowaa        : 多久了... = =  09/01 19:03\n",
      "\n"
     ]
    },
    {
     "name": "stdout",
     "output_type": "stream",
     "text": [
      "<div class=\"bbs-screen bbs-content\" id=\"main-content\">\n",
      "\n",
      "\n",
      "最近幾年韓片已經打入台灣市場，且常有佳作，不僅口碑好\n",
      "\n",
      "票房更佳，反觀日本電影越走越倒退，雖說有是枝裕和這樣\n",
      "\n",
      "的優秀導演，可整體環境一攤死水，韓國電影未來發展可說\n",
      "\n",
      "是無可限量，各位認為呢？\n",
      "-----\n",
      "Sent from JPTT on my iPhone\n",
      "\n",
      "--\n",
      "</div>\n"
     ]
    }
   ],
   "source": [
    "import requests\n",
    "from bs4 import BeautifulSoup\n",
    "\n",
    "res = requests.get('https://www.ptt.cc/bbs/movie/M.1567054261.A.D63.html')\n",
    "soup = BeautifulSoup(res.text)\n",
    "mainContent = soup.find(name = 'div',attrs={\"class\":\"bbs-screen bbs-content\"})\n",
    "#print(mainContent)\n",
    "content = mainContent.text\n",
    "print(content)\n",
    "\n",
    "\n",
    "board_meta = mainContent.find(name = 'div',attrs={\"class\":\"article-metaline-right\"})\n",
    "#print(board_meta)\n",
    "board_tag = board_meta.find(name = 'span',attrs={\"class\":\"article-meta-tag\"}).text\n",
    "board_value = board_meta.find(name = 'span',attrs={\"class\":\"article-meta-value\"}).text\n",
    "print(board_tag,board_value)\n",
    "\n",
    "article_meta = mainContent.find_all(name = 'div',attrs={\"class\":\"article-metaline\"})\n",
    "\n",
    "#get meta-data\n",
    "for item in article_meta:\n",
    "    meta_tag = item.find(name = 'span',attrs={\"class\":\"article-meta-tag\"}).text\n",
    "    meta_value =  item.find(name = 'span',attrs={\"class\":\"article-meta-value\"}).text\n",
    "    print(meta_tag,meta_value)\n",
    "    \n",
    " \n",
    "    \n",
    "feebackList = mainContent.find_all(name = 'div',attrs={\"class\":\"push\"})\n",
    "for feeback in feebackList:\n",
    "     push_userId= feeback.find(name ='span',attrs={\"class\":\"f3 hl push-userid\"}).text\n",
    "     push_content = feeback.find(name='span',attrs={\"class\":\"f3 push-content\"}).text\n",
    "     push_time = feeback.find(name='span',attrs={\"class\":\"push-ipdatetime\"}).text\n",
    "     print(push_userId,push_content,push_time )\n",
    "    \n",
    "for remove in mainContent(['span','div']):\n",
    "     remove.decompose()\n",
    "\n",
    "print(mainContent)"
   ]
  },
  {
   "cell_type": "markdown",
   "metadata": {},
   "source": [
    "#### Example2 ETtoday News"
   ]
  },
  {
   "cell_type": "code",
   "execution_count": 1,
   "metadata": {},
   "outputs": [
    {
     "name": "stdout",
     "output_type": "stream",
     "text": [
      "2020/06/05 11:42 政治 李來希挺韓國瑜「認真市政不貪污」：罷免後明天會更好？ https://www.ettoday.net//news/20200605/1730670.htm\n",
      "▲李來希。（資料照／記者李毓康攝）記者蘇晏男／台北報導高雄市長韓國瑜罷免投票剩不到24小時，全國公務人員榮譽理事長李來希5日上午就在臉書發文反罷韓，質疑韓國瑜不貪污、不炒土地，認真做事，為何要罷免？且罷免之後，明天會更好嗎？李來希貼文中附上一張韓國瑜梗圖，上面不僅寫有「6月6日，不投票，只監票，高雄市民是不是改變了？我們相信高雄市民的眼睛是雪亮的，選舉罷免是人民的權利，我個人完全尊重」，還列出高雄市府不貪污、不炒土地、不包工程、全心全力為高雄市政打拼等優點。李來希因此質疑「不貪污，要罷免？不炒土地，要罷免？不包工程，還是要罷免？認真做事，更是要罷免？為什麼？為什麼？為什麼？罷免之後，明天會更好？北漂青年從此就可以高枕無憂了？繼續北漂，是嗎？」對此，有網友贊同李來希的想法，在底下留言表示「高雄身在福中不知福」、「現在的執政黨只有政治，毫無市民」、「因為韓市長，我與小兒子終止北漂11年，回到高雄這一塊孕育我們成長的土地。期盼我能長居在這美好的家鄉，兒子的長才能在這兒有所發展」；不過也有人認為「嗯這些都不是北漂青年所擔心的吧⋯？」。▼李來希發文挺韓國瑜。（圖／翻攝自Facebook／李來希）更多關於韓國瑜罷免案...► 王金平表態挺韓國瑜：我希望韓市長做好、做滿► 罷韓倒數72小時！民進黨正式催票「史上第一次」請高雄人踴躍投票► 罷韓門檻提高原因曝光！要多4661張同意票才能過關...Wecare火力全開急催票熱門新聞...► 搞懂罷免門檻了嗎？　罷韓投票前一定要知道的「3件事」► 高市選委會公布6月6日公民數增加　門檻提高！57萬4996有效票才能罷韓► 這不是韓國瑜的第一次！曾為核四被提罷免…20年來4案通通都失敗►上網登錄過期票券　現賺1.5倍東森幣★★★好康來了！過期票券換東森幣 ★★★舉凡餐券、住宿券、SPA券等過期票券都可以起死回生，兌換東森幣加碼1.5倍，這麼好康的事，到底要怎麼做呢？首先，最重要的是把家中的過期票券找出來，進入東森購物的頁面，輸入會員帳號及密碼，就會出現票券驗證的畫面，接下來只要依序填寫禮券編號、條碼序號，並選擇信託銀行，就驗證成功囉。【快點連結】\n",
      "2020/06/05 11:41 健康 承翰爸鬱悶36天＋胃出血過世！醫曝「受損最嚴重」等級：恐已傷及肌肉層 https://www.ettoday.net//news/20200605/1730612.htm\n",
      "▲鐵路勇警李承翰的父親因為長期鬱鬱寡歡，加上嚴重胃出血於4日晚間過世。（圖／記者翁伊森翻攝）記者李佳蓉／綜合報導為了保護車上乘客，鐵路勇警李承翰遭刺殺殉職，鄭嫌於一審時因精神問題獲判無罪，李父得知消息後難以接受，決定上訴到底，孰料還沒等到判決結果，4日晚間即因胃出血加上長期鬱鬱寡歡離世。醫師指出，胃部依照發炎程度分為3類，其中又以胃潰瘍導致的胃出血、解黑便症狀最為嚴重。李父李增文長期患有胃出血宿疾，但很能忍痛，好幾次妻子要他就醫都被婉拒，在得知李承翰一審判決後就鬱鬱寡歡，每日難以入眠，病情也跟著每況愈下，但仍強忍痛處不願就醫。直到4日上午因胃出血到醫院就診，血壓不斷下降，一照胃鏡發現內部全是血，還吐血2次，隨後昏迷，最後只能在妻女陪伴下返回家中，走完最後一程。請繼續往下閱讀...根據健康知識網站《健談》採訪新光醫院家醫科醫師柳朋馳指出，胃酸有助於消化、殺菌，一旦開始分泌時，胃黏膜就會啟動特殊保護機制以防胃酸侵蝕胃壁。但若長期且持續侵犯胃黏膜細胞，即可能導致胃黏膜機制受破壞、新生黏膜生長速度不及胃壁受損狀況，因而引發胃炎。▲胃潰瘍已是胃發炎最嚴重程度，胃酸已侵犯道黏膜下層，甚至肌肉層。（圖／健談授權提供）一般胃炎狀況可大可小，柳朋馳依照胃部受損狀況分為胃發炎、胃糜爛及胃潰瘍3類，其中胃發炎為最輕微症狀，當損傷已接近黏膜下層處，就會導致胃糜爛，部分患者可能感覺到胃痛、胃脹，但也有患者沒有任何不適。最嚴重的就是胃潰瘍！柳朋馳表示，當胃酸已侵犯至黏膜下層，甚至傷及肌肉層，而導致患者有胃出血、解黑便的狀況，有些人還會常感到劇烈胃痛，但也有患者自覺沒有明顯症狀。柳朋馳提醒，當胃部持續反覆發炎，且未痊癒，就會惡化為「胃潰瘍」，若長期忽視胃炎可能使病況加劇，甚至會影響生活品質。民眾若發覺出現胃脹、胃痛症狀應積極就醫檢查並接受治療，以降低日後罹患胃癌的風險。\n",
      "2020/06/05 11:41 國際 花費百萬治病...家中唯一小兒子仍身亡　一家四口隔日跟著服毒！ https://www.ettoday.net//news/20200605/1730561.htm\n",
      "▲男子不幸逝世後，一家人竟然也跟著服毒。（圖／示意圖／視覺中國）記者李振慧／綜合報導印度近來發生一起不幸事件，奧里薩邦(Odisha)一名男子因為病重逝世，沒想到他逝世後卻傳出一家四口也跟著服毒的消息，造成母親與姊妹不幸身亡，另外2人還在搶救醫治中。《印度斯坦時報》報導，事件發生在奧里薩邦西部的賈爾蘇古達(Jharsuguda)，當地官員莫漢蒂(SuchismitaMohanty)表示，這家人因為承受不了家中年紀最小的兒子，33歲男比斯瓦爾(SrikantBiswal)病重逝世的消息，媽媽竟然帶著所有女兒一起服下毒藥。官員表示，比斯瓦爾的父親退休後於2016年逝世，家中經濟重擔便落在他身上，沒想到他於2018年發生交通事故後，便一直在醫院接受治療，家人陸續為他花費高達印度盧比300萬元（約台幣118萬元）的醫藥費，仍然不幸於1日逝世。目前送醫的4人，母親與其中1名女兒已經身亡，另外2人仍處於危殆情況中。►我該答應女友嗎？\n",
      "2020/06/05 11:39 社會 南下墾丁突停路中！「8男女亂舞狂歡」車全堵　超扯影片曝光...網罵爆了 https://www.ettoday.net//news/20200605/1730567.htm\n",
      "記者周亭瑋／綜合報導眼看疫情趨緩，許多民眾把握好天氣出遊，然而在南下墾丁的路上，竟有兩台轎車突在路中停下，前後一共8男女跳下車猖狂亂舞，脫序行徑害其他車輛全卡在後方，怒將畫面PO網。黃先生3日在「恆春半島公共事務討論社團」po出影片，傻眼表示「疫情趨緩大家開心出遊，還是要注意安全啦！這樣突然開門，害我差點便溺在車上，曾經看過有人被旁邊的車子嚇到，結果自撞安全島，還好當下有hold住。」▲男女紛紛竄出車門，跳舞狂歡。（圖／黃先生授權引用）事件發生於台26線大潭路段、接近小七後壁湖門市的車道上，當時一前一後的兩輛白色轎車，莫名在道路上停下，緊接著一共8名男女陸續竄出，像開轟趴一樣舉手揮舞、扭動身體超過10秒，才又上車前行。過程中，甚至有位長髮女生站到另一個車道上，害駛來的轎車急煞；而後方5台車輛也被迫停下，不敢向前移動。離譜行徑讓網友全怒了，紛紛飆罵「這些人有病嗎」、「天阿~同學這也太嚇人了吧」、「白癡的行為」、「沒有脫衣服，扣分」、「公共危險罪了吧！這車禍算誰的阿」。而接獲檢舉的恆春警方則呼籲，民眾切勿開玩笑，逕自在車道上併排臨時停車，如違停未逾3分鐘以上者，處500-600元罰鍰，若不慎造成意外，還能以危險駕駛告發。▼亂舞超過10秒，才上車繼續前行。（圖／黃先生授權引用）\n",
      "2020/06/05 11:37 財經 渣打：75%台灣人面臨財富缺口　退休金2622萬難過理想生活 https://www.ettoday.net//news/20200605/1730665.htm\n",
      "▲根據調查，高達75％台灣受訪者面臨財富缺口，推估60歲財富巔峰時期握有的財富平均僅有87.7萬美元。（示意圖／記者袁茵攝）記者紀佳妘／台北報導渣打集團最新發布「全球財富預期」調查，台灣地區受訪者預估在60歲時，可望達到財富巔峰值87.7萬美元（約新台幣2,622萬元），報告結果指出，其中有75%受訪者將面臨財富缺口，並不足以支付理想的生活品質。渣打集團「全球財富預期」調查（WealthyExpectancyStudy），調查範圍包括台灣、中國大陸及香港等10個市場，針對近萬名新興富裕族群、富裕族群、高資產族群等3種不同財富階段的受訪者進行線上問券調查，綜合收入與資產現況、存款、退休基金、投資等要素，推估在60歲時預期擁有的財富巔峰值。請繼續往下閱讀...調查結果指出，台灣受訪者平均財富巔峰預估值為87.7萬美元（約新台幣2,622萬元），略低於全球平均100萬美元，而香港的平均財富巔峰值則可望達249.7萬美元，也是這次受調查的10個市場中最高，排名第二、第三的是新加坡（240.6萬美元）、中國大陸（217.2萬美元）。調查也指出，台灣受訪者預期到60歲時，僅有9%的人有希望達到或是非常接近預期的財富目標，而有近75%的人與理想的財富目標有超過5成的差距。渣打進一步分析台灣人財富預期有差距的原因，主要是投資理財習慣偏好存款與股票、股利等資產類別；與其他市場相比，台灣使用數位理財平台與工具的比例也較低，僅近3成受訪者會使用數位平台如網站、投資理財app等管道進行財富管理，推估這可能是實際財富與預期目標有落差的原因。渣打銀行優先理財客群暨分行通路管理處主管王開平表示，即便是富裕或高資產族群，隨著總體經濟的變化，也無法確保未來財富與生活品質無虞，銀行必須提供客戶全方位理財規劃與諮詢服務，協助他們達成理想中的財富目標，因此將打造完善的數位平台與服務，將便捷的金融服務融入到客戶的生活。►過期票券別浪費！點這邊...幫你搶救變身\n",
      "2020/06/05 11:37 體育 NBA下季日程超緊湊「本季打完不到1個月又訓練營」　球員工會董事憂心 https://www.ettoday.net//news/20200605/1730652.htm\n",
      "▲NBA下季日程相當緊湊。（圖／達志影像／美聯社）記者游郁香／綜合報導NBA確定將在美國時間7月31日復賽，本季最晚會在10月12日結束，很快11月10日又要舉行訓練營，為將在12月1日開打的2020-21賽季做準備。本季結束後不到1個月，訓練營就要登場，如此緊湊的安排，讓球員工會執行董事羅伯茲(MicheleRoberts)有些疑慮，「我很驚訝看到這樣的安排。」NBA復賽後完整時間表曝光，7月31日重啟2019-20賽季，本季最晚會在10月12日畫下句點，接著10月15日舉行選秀會，10月18日開啟自由市場，11月10日舉辦訓練營，12月1日打2020-21賽季的開幕戰。請繼續往下閱讀...值得一提的是，若本季總冠軍賽打到G7，也就是10月12日，不到1個月後，參與總決賽的隊伍又要開啟訓練營，這讓球員工會執行董事羅伯茲有些擔心，她直言很驚訝看到這樣的安排。美國《ESPN》指出，將2020-21賽季開打日期訂在今年12月初，有利NBA球員參加將在2021年7月23日登場的東京奧運，也可以避免NBA季後賽、選秀和自由市場與NFL開幕戰撞期。《ESPN》薪資專家馬克斯(BobbyMarks)則分析，今年12月1日舉行下季開幕戰，再加上177天的例行賽賽程，下季例行賽預計在5月26日告終。接著進行55到60天的季後賽，賽季將持續到7月底。如此一來，可以讓自由市場在2021年8月1日開啟，2021-22賽季又可以回到10月底開打。►上網登錄過期票券　現賺1.5倍東森幣從嬰幼兒到熟男熟女全部適用\n",
      "2020/06/05 11:37 國際 「在美國，你不能燒教堂！」川普推文引爆網友「照樣造句」洗版怒嗆 https://www.ettoday.net//news/20200605/1730497.htm\n",
      "—DonaldJ.Trump(@realDonaldTrump)June4,2020川普4日在推特上發文，以大寫字母寫下「在美國，你不能燒教堂！」，語氣激昂。此話一出再度引發輿論怒火，許多網友紛紛在下方「照樣造句」回嗆，「你不能使用武力攻擊美國人」、「你不能派遣軍隊攻擊美國人」、「你不能對著和平示威者發射催淚瓦斯，把聖經跟教堂當作政治的背景道具」、「在美國，你不會對美國人宣戰！」左派政治部落格「帕爾默報告」（PalmerReport）創辦人比爾．帕爾默（BillPalmer）說，「在美國，你不能為了站在教堂前面拍照，就對著和平示威者發射催淚瓦斯！」美國政府倫理局（OGE）局長肖伯（WalterShaub）指出，「你向那間教堂的牧師發射催淚瓦斯！」其他網友批評，川普「正在燒毀整個國家」、「建築物不比人民更重要」。▲華盛頓特區示威衝突升級。（圖／達志影像／美聯社）▲美國華盛頓特區示威人潮不散，白宮戒備升級。（圖／路透）但是，也有許多網友力挺川普。有人批評前副總統、民主黨總統參選人拜登（JoeBiden）才是「真正的種族主義者」。支持川普的選民也大方表態，「這就是我投給你的原因！在你的競選團隊裡服務非常驕傲」也有網友附和總統先前對於左派「反法西斯團體」ANTIFA的指控，「到處都是ANTIFA」。青年組織「川普學生」（StudentsforTrump）創辦人、時事評論員富尼爾（RyanFournier）說，「謝謝你為了宗教自由站出來，總統先生！」▲川普針對「佛洛伊德之死」示威發表演講之後，到聖約翰公會教堂（St.John'sEpiscopalChurch）前高舉《聖經》，高喊「我們是全世界最偉大的國家」。（圖／路透）「佛洛伊德之死」示威遍地開花，引發一連串暴力行為，華盛頓特區5月31日情勢激烈，白宮對面的聖約翰公會教堂（St.John'sEpiscopalChurch）遭到示威波及，地下室爆發小型火災，幸好並未造成太大破壞。總統川普1日對此發表全國演說時，譴責暴力行為，誓言在必要時刻派遣軍隊控制局勢，接著前往聖約翰公會教堂前方，舉起《聖經》拍照，高喊「我們是全世界最偉大的國家」。但此前，教堂前的和平示威者遭警方發射催淚彈與橡膠子彈驅離，許多輿論揣測，此舉是為了總統的拍照地點清場。教區主教巴德（MariannEdgarBudde）看見新聞才知道總統到訪，完全沒有收到通知，她憤怒批評川普根本沒來禱告，所要傳達的訊息也與教堂立場、耶穌基督教誨「背道而馳」。►時間存在的意義就是襯托妳的美麗！►二手票券豐富你的生活舉凡餐券、住宿券、SPA券等過期票券都可以起死回生兌換東森幣，這麼好康的事，到底要怎麼做呢？首先，最重要的是把家中的過期票券找出來，進入東森購物的頁面，輸入會員帳號及密碼，就會出現票券驗證的畫面，接下來只要依序填寫禮券編號、條碼序號，並選擇信託銀行，就驗證成功囉。\n",
      "2020/06/05 11:37 大陸 17歲少女懷孕產女…母氣炸：孩子父親是誰？她竟淚吐「一長串名單」 https://www.ettoday.net//news/20200605/1730467.htm\n",
      "▲豆豆生父。（圖／翻攝自微博）記者鄭思楠／綜合報導上海少女小夢（化名）在父母眼中是個老實的女孩，卻在17歲時意外懷孕，更讓人難以置信的是，為了找到寶寶「真正的父親」，卻牽出了一樁天理難容的恐怖犯罪。目前，通過親自鑑定後，豆豆的父親竟是一家公司的股東，自己的孩子甚至已經26歲。綜合陸媒報導，2016年2月初，年僅17的小夢（化名）在醫院生下了1個女兒，但也是這個時候，父母才知道，老實的女兒居然懷孕了！全家都懵了，但詢問小夢孩子父親是誰，小夢說，自己和班級裡一個男同學發生過關係。母親趕緊到學校找到了這個男生，對方承認和小夢發生過關係，但是經過親子鑑定，卻不是孩子的父親。隨後，2016年4月，小夢在家人的陪伴下來到徐匯公安局，並由此解開了一個更為令人震驚的過去。她自述，14歲的時候，網聊認識了一位張姓男子。張男1971年生，案發時已經40多歲了，以同學的名義約小夢見面，之後誘迫發生了關係。▲少女被男友逼下海。（示意圖／免費圖庫pxhere）小夢曾想結束這種不正當的關係，但張男卻不肯輕易鬆口、甚至以曝光她的影片跟隱私來威脅，並提出了更令人震驚的要求，要將對方介紹給其他成年男性，之後在每次小夢跟其他男子發生關係後，安撫性的給錢。案件曝光，張男被逮捕，被判處入獄11年。不過，他的鑑定結果顯示，也不是豆豆的親生父親。對小夢一家而言，撫養豆豆異常艱難，於是向法院起訴，請求法院找到豆豆的父親，讓他支付撫養費。通過一連串鑑定後，豆豆的父親董姓男子找到了，1968年生，自己的孩子都已經26歲，如今是一家公司的股東。他表示，公司經營不善，而且小夢生下豆豆也完全沒經過自己的同意。經法院調解後，董男和小夢最終達成一致，他分2次支付30萬元人民幣（約新台幣126萬元）撫養費，但他表示，自此就一刀兩斷，再也不會跟小夢一家有任何瓜葛了。►戴口罩也要記得保養\n",
      "2020/06/05 11:36 社會 胃裡全是鮮血！承翰爸「血便」仍堅持走進醫院　急救8小時病逝…家屬哭癱 https://www.ettoday.net//news/20200605/1730669.htm\n",
      "▲李承翰父血便仍堅持走進醫院，搶救8小時後宣告不治，家屬難以接受。（圖／記者翁伊森翻攝）記者陳韻如／嘉義報導鐵路勇警李承翰一案，鄭姓犯嫌一審判無罪，讓李承翰父親難以接受，4日傍晚因胃出血加上案情纏身抑鬱而終，享壽67歲。據了解，李父4日上午因出現血便，送醫後照胃鏡發現內部全是血，在急診室內吐血2次，最後經急救後仍不治身亡，前後時間僅僅8小時，讓家屬悲痛萬分。對於鄭嫌判決結果出爐後，李承翰的父親李增文難以接受，卻是默默地將所有打擊、悲傷全往肚裡吞，不願告訴家人，這段時間以來，他成日鬱鬱寡歡，沉默寡言，就連身體出狀況也不肯告知，更不願就醫，導致其胃出血的症狀因此加重。李父4日上午9時許出現血便，在李母勸說下就醫，而他仍不願叫救護車，堅持自己走進醫院。然而，李父照胃鏡後，發現內部全是血，甚至不斷吐血，隨後陷入昏迷，經急救後仍於下午5時許病逝，前後僅僅不到8小時，讓家屬悲痛不已。李父堂弟傷心表示，原本幸福的家庭，如今外甥無故遭人刺死，李父也抑鬱而終，現在首要關心的就是李承翰92歲的阿嬤，一年內遭逢2次白髮送黑髮人的痛，也讓家屬擔心不已，直嘆，「以後的日子都不知道要怎麼過」。►越想越不對勁！【更多新聞】「日子怎麼過下去…」承翰爸苦全吞肚裡　忍劇痛吐血亡！堂弟慟：他什麼都不說最後身影曝！承翰爸不願叫救護車　暴瘦忍痛「堅持走進醫院」…狂吐2次血亡主任檢察官慰問「案件上會努力」！李母泣：拜託了，我沒力氣像承翰爸每次都到\n",
      "2020/06/05 11:36 生活 唯一高雄人！董事長特准「早退不扣薪」催返鄉：幫全公司投下這一票 https://www.ettoday.net//news/20200605/1730626.htm\n",
      "▲高雄市韓國瑜將面臨罷免投票。（圖／記者洪正達攝）記者黃可昀／綜合報導高雄市長韓國瑜的罷免投票明（6日）登場，很多高雄人早就買好今晚車票，準備一下班就趕回故鄉投票。台北一名網友透露，他今天下班就要搭客運返鄉，董事長得知後賦予他重責大任，並讓他早退不扣薪，只求他要代替公司全體員工投下神聖一票。請繼續往下閱讀...▲老闆讓他趕快回高雄投票。（圖／翻攝自FB全民割草行動）原PO在臉書社團《公民割草行動》表示，全公司就他一個高雄人，所以只有他有資格參與罷免案投票，無論同事抱持何種政治立場，真正有權左右罷免案的也只有他一人。他今晚要趕6點31分的客運，只好跟公司請假提早下班，董事者聽說後立刻批准他的假單，而且佛心大開不扣薪，只拜託他「幫全公司投下這一票！」絕對要審慎考慮再做出決定，讓他頓時覺得身負重任，必須懷抱著嚴肅的心情回到高雄投票。其他網友紛紛回應，「貴公司前途無量」、「你們公司不會發大財，但會賺大錢」、「這公司必須推爆」、「真棒的老闆...很多社團看到公司在刁難的」、「跟我一樣，公司唯一的一個高雄戶籍，原本沒排到（休假），後來公司發公文：高雄戶籍6/6一律排休。」罷韓選舉進入倒數階段，網路上各種聲浪四起，韓國瑜則是抱著平常心推市政，4日下午前往左營新莊一路與勝利路的通車典禮。原訂工程是在6月中才會完成，5月下旬又遇到強降雨的淹水影響，照理來說進度應該會延後，但施工團隊看天氣一放晴就加速趕工，最後提前在6月4日即完工，外界猜測，很有可能是韓國瑜市長趕在罷免投票前積極端出政績，期望能挽回高雄市民對他的信心。▼面對罷韓，韓國瑜仍平常心跑市政。 （圖／記者吳奕靖翻攝）\n"
     ]
    },
    {
     "name": "stdout",
     "output_type": "stream",
     "text": [
      "2020/06/05 11:35 社會 癌患砸重金「肝動脈導管」搶命卻脫落　一個月後病逝...告別式超跑雲集 https://www.ettoday.net//news/20200605/1730637.htm\n",
      "▲吳先生的家屬為他舉辦隆重的告別式。（圖／記者黃子倩攝）記者黃子倩／高雄報導高雄一名吳姓癌末男子曾在生前發文控訴，指左營一間診所進行肝動脈導管埋設，但事後意外發生導管滑脫，當時吳男控訴診所內的吳姓醫師有醫療疏失，沒想到發文後一個月，吳先生就不幸病逝，5日家屬舉辦告別式，現場千萬級高檔名車雲集，場面相當盛大。▲吳先生的好友在告別式現場用大圖輸出的照片弔念他。（圖／記者黃子倩攝）一個月前才剛怒控醫師醫療疏失的吳先生，突然病逝，這消息讓他生前的好友以及家屬難以接受，5日選在夢時代旁的台糖空地，替他舉辦隆重的告別式，吳先生的生前好友也特別大圖輸出多張與他的合照，要來弔念這位好朋友。在2017年被診斷出罹癌的吳姓男子，2019年8月到左營一家診所進行「永久的肝動脈化療」，在大腿埋設了導管，但沒想到2019年的11月4日發現大腿紅腫嚴重，當時詢問診所醫師，醫生表示為「這是化療藥副作用與併發症」，給予一條外傷藥膏塗抹，但18天之後，情況越來越嚴重，吳姓男子趕緊轉院就診，但卻被醫師告知最嚴重得截肢。當時被指控的診所醫師找來律師出面說明，委任律師劉嘉凱表示：「吳姓病患確實有在這個診所就診，他是有化療的需求，只是他在化療過程中，導管有滑脫，診所醫師有建議另行裝入，但是吳姓病患沒有接受，另外求診，現在事隔大半年，診所對吳姓病患後續為何會導致這個結果並不了解，相關訴求希望病患可以循求正常途徑，向高雄市衛生局請求調處或是走醫療審議的程序，診所這邊都會欣然接受」。▲吳先生的家屬為他舉辦隆重的告別式。（圖／記者黃子倩攝）►「時間對我們來說完全沒用！」\n",
      "2020/06/05 11:33 地方 懷孕移工自行到案　盼移民署協助返鄉開啟新生活 https://www.ettoday.net//news/20200605/1730663.htm\n",
      "▲失聯移工阿蒂希望帶著腹中胎兒回鄉團聚，開啟新生活。（圖／記者林悅翻攝，下同）記者林悅／台南報導為因應我國防疫措施，移民署配合推動「擴大自行到案2.0」，採免收容、免管制、低罰鍰的優惠措施，專案即將於6月30日結束，失聯移工阿蒂（化名）日前至移民署南區事務大隊台南市第二服務站表達「想回家」心願。阿蒂告知移民官，自己懷孕6個多月，同為印尼籍的先生原本也在台灣當移工，去年年底先行返國買地，目前以種植咖啡豆維生，她希望帶著腹中胎兒回鄉團聚，開啟新生活。阿蒂失聯前在台南擔任看護照顧阿公，其實雇主一家人都對她很好，只是當初盤算著如果從事每日派遣的清潔工作，只要不休假，每天都有現金入帳，所以選擇在工作期滿前夕離家出走。阿蒂後悔的說雖然當時有續聘的機會，但是仍因一時糊塗不告而別，內心對雇主和阿公感到很抱歉。阿蒂來台將近11年，中文非常流利，她表示不想用非法的身分讓寶寶在異鄉出生，這些日子顛沛流離，更不時耳聞有些同鄉淪落為人口販運集團控制的對象，如今透過減免措施投案，僅需繳最低罰鍰新台幣2000元，往後只要經核發簽證就能再入境台灣，更得知印尼代表處提供暫時落腳處的美意，已是十分幸運；阿蒂認為，既然為人母，就要學會負責，她說：「我會讓孩子光明磊落的成長，也會教他講中文，告訴他台灣是一個美麗的寶島。」台南市第二服務站主任陳南翰表示，擴大自行到案專案兼顧防疫及維護人權，相關資訊可洽詢移民署專線「0800-024-881」或勞動部專線「1955」，主動投案，儘早返家；另為響應該政策，駐臺北印尼經濟貿易代表處，特別於桃園市及高雄市各承租1戶透天別墅，供待離境之印尼籍人士暫時居住，自行到案者如須入住可逕洽印尼代表處熱線0901-132-000（HotlinePWNIKDEITAIREI）。・卸妝膏：一罐卸全臉，回到家5分鐘就能躺著發懶\n",
      "2020/06/05 11:33 社會 新義里大橋追撞畫面曝！白車飛撞砂石車爛毀　記憶體大廠員工「2死3重傷」 https://www.ettoday.net//news/20200605/1730632.htm\n",
      "記者黃孟珍、莊智勝／苗栗報導苗栗縣三義鄉新義里大橋高架段4日下午近1時發生一起嚴重死亡車禍，一輛白色自小客行經事故路段時突飛撞前方砂石車，由於撞擊力道相當猛烈，白車車頭當場爛毀，車內前後安全氣囊也爆開。警方事後趕抵現場，發現白車內受困的5人均為知名記憶體大廠員工，經送醫搶救後仍釀成2死3重傷慘劇。▲白色自小客上匝道後速度飛快，接著猛力撞上砂石車後側。（圖／記者黃孟珍翻攝）行車紀錄器畫面拍下，當時砂石車沿著車道直行，但後方一輛白色自小客卻突然高速駛近，還從內側車道跨越到外線道，隨後猛力撞上砂石車車尾，自小客車頭瞬間爛毀。救護人員獲報後趕抵現場，發現白車車內共5名男性傷患受困，傷者身分均為知名記憶體大廠員工，當下已有部分傷患失去意識，因此警消立即用油壓剪等破壞器材拆卸車門，一一協助傷者脫困，並分別送往大甲光田、大甲李綜合、苑裡李綜合醫院搶救，無奈副駕駛座的陳男（26歲）、以及副駕後座劉男（37歲）仍在到院前死亡；而何姓駕駛（26歲）則是右大腿骨折，生命跡象暫時穩定，另外2人傷勢也相當嚴重，目前仍在治療中。砂石車蕭姓駕駛表示，當時自己行駛在外線道爬坡段，從後照鏡就看到白車從匝道上來後車速相當快，隨後沒多久就立刻撞上。警方初步調查，發現自小客車內前後安全氣囊均爆開，足見撞擊力道之大；目前砂石車蕭姓駕駛酒測值為0，白車駕駛何男則待測，確切事故發生原因仍待釐清。欸~妳過來一下！妳過來一下▼白色自小客車頭爛毀，車內5人「2死3重傷」。（圖／記者黃孟珍翻攝）\n",
      "2020/06/05 11:32 國際 白宮防護升級！華盛頓市長要川普部隊「退出首都」　外媒曝：她權力有限 https://www.ettoday.net//news/20200605/1730493.htm\n",
      "▲示威群眾聚集在白宮外。（圖／路透）記者陳宛貞／綜合外電報導美國「佛洛依德之死」掀起的示威邁入第10天，白宮外抗議民眾明顯減少，日前仍被捕捉到工人加設防止車輛撞擊的水泥護欄，還有數千名身穿防暴裝備的國民警衛隊（又稱國民兵）及聯邦警察部署白宮及華盛頓紀念碑周圍。華盛頓特區市長鮑賽（MurielBowser）4日則表示，希望他們之中大部分人員能夠退出華府。就在上周末的和平示威後，華府及附近地區的商家半夜遭到破壞、洗劫，迫使鮑賽在1日及2日晚間7點後實施宵禁。白宮外圍防護裝置也不斷升級，過去每逢總統就職遊行才會使用的圍欄4日開始設置，包括將近2.5公尺高的金屬圍欄，以及防範車輛衝撞的水泥護欄。鮑賽4日則在記者會上表示，她對華府國民警衛隊協助維持秩序沒有意見，但目前正在研究合法的選項，以扭轉總統川普（DonaldTrump）從其他州派遣部隊到華府的做法，「我們希望州外的部隊退出華府。」根據國民警衛對說法，目前約有3300多名隊員部署華府，或在從佛羅里達州、印第安納州、馬里蘭州、密蘇里州、密西西比州、紐澤西州、俄亥俄州、南卡羅來納州、田納西州及猶他州前往華府的路上。此外，鮑賽還對來自12個聯邦機構的數百名武裝人員的指揮權提出質疑，包括美國海關及邊境保衛局（CBP）、美國聯邦監獄管理局（BOP）、運輸安全管理局（TSA）的人員，本州被派駐政府大樓外及華府街道上。其中部分人員穿著沒有明顯標誌的制服，讓人們對其身分、職責感到疑問。眾議院議長裴洛西（NancyPelosi）4日也致函川普表示，「我們擔心軍事化加劇、缺乏透明度會增加混亂。」但《路透社》指出，鮑賽的權力有限。華府安全局勢複雜，因為聯邦特區沒有完全的自治權，不像大多數州長全權負責安全事務。華盛頓特區居民繳納聯邦稅，但在國會沒有代表。且在緊急狀況下，聯邦政府凌駕於地方當局之上。華府國民警衛隊便直接向川普匯報工作，而其他地區國民警衛隊則向州長匯報。►不再眷戀青春，因為我持續擁有。\n",
      "2020/06/05 11:32 政治 雲端最前線／早有心理準備？韓國瑜已擬好罷免感言？ https://www.ettoday.net//news/20200605/1730664.htm\n",
      "新聞節目中心／綜合報導罷韓倒數！據了解，6月6日當天韓國瑜仍會跑原定的市政行程，要對外展現為市政「心無罣礙」。根據近韓人士透露，韓將在投票結束後前往四維行政中心等待結果，並準備率市府團隊表態，ETtoday《雲端最前線》將在投票當天下午4點開始全程記錄、深度解析開票結果，親韓藍營代表也將在節目中透露韓的下一步。《雲端最前線》5日邀請台北市議員王世堅、台北市議員鍾沛君、兩岸政策協會研究員張宇韶以及時事評論員王時齊與主持人楊文嘉深度探討。▲高雄市長韓國瑜。（圖／記者洪靖宜攝）蔡政府推出振興「三倍券」刺激消費，成為近日最熱話題，不少人覺得有錢領很棒，但也有不少人批評問題很多，就連自家人台北市議員王世堅都連日開砲，更拿出總統蔡英文臉書12年前的文章指出「小英當年也主張發現金」，藍營諷刺這是「穿越時空打臉自己。」對此，執政黨高層透過5點分析反擊，強調蔡英文當年是「超前部署」，不同時間環境背景下不能混為一談。美國明尼阿波里斯市4日舉行佛洛伊德（GeorgeFloyd）的追悼會，有數百位民眾自發參與，其中市長佛雷前往悼念時，還直接跪在棺木前，單手扶著棺木痛哭。在追悼會中，全場也起立默哀「8分46秒」，因為這是佛洛伊德被警察用膝蓋壓住脖子的時間。登上《雲端最前線》一同揭秘。《ETtoday筋斗雲》《ETtoday新聞雲》《播吧》關於《雲端最前線》根據comScore的統計調查，《ETtoday新聞雲》2016年連續在7、8、9三個月到達率已躍居台灣新聞網站的第一名，全台灣1556萬上網人口中，9月份有1260萬人到訪《ETtoday新聞雲》，比率高達93.4%。網路新聞跟世界各國一樣，幾乎已是台灣民眾最重要、甚至是唯一來源。當社群媒體的影響力已經超越報紙與電視，《ETtoday新聞雲》在忠孝西路一段4號15樓所建置的新聞直播中心，2016年12月5日正式開台。 《雲端最前線》為《ETtoday新聞雲》新聞直播中心全新製作的時事政論節目，在緊鄰行政、立法、監察三院政治權力中心的攝影棚內，周二至周五中午12時將以即時多元的雲端直播科技，由關注台灣政治運動變遷超過20年的資深媒體人楊文嘉擔任主持，偕同政治人物、學者專家等來賓，針對立院動態、公共政策、熱門時事、網路聲浪等不同議題，進行即時與深度的評論與解析。 《雲端最前線》於2016年12月5日正式首播，每周二至周五中午12時現場直播，網友們可同步於《ETtoday新聞雲》的官網、新聞雲、筋斗雲、播吧等臉書粉絲頁、東森新聞雲APP，即時收看。\n",
      "2020/06/05 11:31 旅遊 揪閨蜜來趟藝文之旅！無邊際泳池賞夕陽、逛美術館　晶英行館第3人入住免費 https://www.ettoday.net//news/20200605/1730642.htm\n",
      "▲無邊際泳池賞夕陽。（圖／晶英國際行館提供，下同。）記者陳涵茵／綜合報導防疫新生活飯店提前部署推優惠搶客，想感受不一樣的藝文之旅，可以到高雄逛逛武營國家藝術文化中心、駁二與哈瑪星與西子灣一帶，金馬賓館當代美術館更與晶英國際行館攜手，推出第3人入住免費優惠。▲飯店內設有蒸氣三溫暖及無邊際泳池。晶英國際行館「好友三人行專案」，獨享第三人免費入住優惠，平日入住18坪御典侶驛市景大床房或御典雙驛市景雙床房，可在雲垂樓眺望港灣景致享用養生晨食及雅緻食刻下午茶，也可選擇將餐點送進房內，3人入住平日每房8,200起，六月各周末及端午連假期間，再加碼享假日不加價優惠，於8月31日前入住還可7折價格加購高鐵票。▲金馬賓館來趟藝文之旅。（圖／晶英國際行館提供）▲金馬賓館鳳凰花開。（圖／晶英國際行館提供）和好閨蜜一起出遊，可在滿溢芬多精的蒸氣三溫暖及無邊際泳池中愜意度過；每周六還有池畔派對佐夕陽，翌日更可前往依山臨海的金馬賓館當代美術館，感受空間光影變化帶來的藝術純粹，用藝術療癒身心。高雄中央公園英迪格酒店也推出週末住房優惠，即日起到7月19日期間，透過酒店官網或APP預訂「週末雙享特惠」，可享住房標準費率再打9折的優惠，並加贈住期間翌日雙人早餐，7月底前週末住宿送早餐每晚3,330+15.5%元起。►影／「振興三倍券」教學懶人包　看完7張圖快速上手►敦南誠品承載他30年記憶　民眾不捨：全新24小時書店讓台北走進新時代►墾丁海景房免費升等！福華推「619護照」全台7間飯店享現金抵用券、優惠券►我們的美麗就用白紙黑字寫下來\n",
      "2020/06/05 11:31 寵物動物 鳥寶「上喙光速生長」險插脖　新竹老字號鳥店神手一修還牠帥樣 https://www.ettoday.net//news/20200605/1730531.htm\n",
      "▲這隻黑頭藍牡丹鸚鵡天生畸形喙。（圖／T.C.Peng提供，請勿隨意翻拍，以免侵權）記者何睿宜／採訪報導「有史以來幫忙修過最誇張的了！」在新竹30年老字號鳥店工作的T.C.Peng日前接到一個案子，一隻黑頭藍牡丹鸚鵡因為天生鳥喙畸形、異常增生，導致上喙到差點插到脖子，狀況十分危急。所幸，經過T.C.Peng細心修整後，鳥寶已恢復正常模樣。T.C.Peng受訪時表示，這次接手的黑頭藍牡丹是天生畸形喙，「下喙向右歪，靠近舌根處整個簍空可以看見後舌跟及喉嚨，上喙過長，異常增厚。」這種情況下，若再不進行修剪，鳥寶的上喙將直接頂進脖子裡，下喙也會一直異常向上生長，最嚴重會因為嘴巴無法正常進食而虛弱致死。請繼續往下閱讀...一般來說，喙部異常生長是以肝臟問題、疥癬居多，有時也可能是籠內沒有放置可供磨喙的物品，或是喙部受過比較嚴重的傷，而造成這樣的狀況。但T.C.Peng仔細觀察發現，該牡丹喙部雖然增生但表面光滑發亮，羽毛完整顏色飽滿亮麗，加上體格壯實、眼神清亮、動作親人，帶來的外出籠也乾淨整潔，種種跡象顯示牠相當受到照顧。▲雖然鳥喙畸形但不影響進食，不料上喙自去年開始莫名光速生長。（圖／T.C.Peng提供，請勿隨意翻拍，以免侵權）根據飼主說法，鳥寶的上喙自去年開始莫名光速生長，但因嘴巴剛好側面剛好錯開，不影響正常進食，也以為會自然代謝掉落，便沒有感覺急需處理，「直到最近愈長愈快，快要頂到脖子卻還是沒有掉落，覺得不對勁，趕緊殺來求助。」T.C.Peng從後續聊天中得知，飼主讓家中鳥寶們住在約一立方米(1m³)的「豪宅」中，裡頭可供磨嘴的東西應有盡有，伙食也很豐富，「只是主人經驗不足也沒在上網，以為喙部不用剪會自己掉落，所以我才會在貼文裡特別強調正義魔人退散，這只是一個難得一見案例的分享帖，不想一堆不了解真實情況的人在底下弄得烏煙瘴氣。」▲修剪下來的鳥喙。（圖／T.C.Peng提供，請勿隨意翻拍，以免侵權）這次幫黑頭藍牡丹修整鳥喙，總共花費半個多小時，每修到一個階段就會讓鳥寶回外出籠，休息一下再繼續修，重複直到完成，「這樣可以預防緊迫跟觀察咬合狀態（抓在手上肌肉往後拉扯，看咬合狀態不準）。」動用到的工具則包括指甲鉗、指甲剪、銼刀、電動美甲機、拋光棒等，其中要特別注意的就是磨喙，「過程中需要極度小心磨下來的粉塵，手只要稍微擋住鼻孔，邊磨要邊由內往外輕吹乾淨，才不會造成吸入性肺炎。」▲鳥寶修完變大帥哥。（圖／T.C.Peng提供，請勿隨意翻拍，以免侵權）T.C.Peng笑說，許多鳥友都戲稱她是店裡的「萬能小編」，除了負責店裡各項事務加上網路經營外，也提供幫鳥寶們修整的服務，「我們鳥園一直以來提供免費的修指甲、修飛行羽、修喙的服務，只是可能沒來過的鳥友們不知道。」不過，鳥的神經纖細容易受驚，喙部更是敏感部位，「尤其畸形喙大修整可能會造成鳥寶緊迫，甚至有生命危險。」因此許多店家、鳥友即使會修也會拒絕幫忙，避免發生萬一。雖然，簡單的修喙就跟弄指甲一樣，「拿挫刀挫一挫就好」。但畸形喙的修剪卻每隻都是個案，「鳥的喙裡是有神經血管的，需要豐富的經驗跟技巧，才能修，這都是時間的積累。」以T.C.Peng自己來說，每天平均修喙10隻以上，假日一到，許多鳥友帶鳥寶「回娘家」，一天更是高達20、30隻以上，經手的也不乏喙部有異的鳥兒，就這樣慢慢累積經驗和技巧。她將牡丹小帥哥修整前後的對比照分享到臉書，鳥友們看了紛紛驚嘆，「可愛的孩子～感謝有妳」、「修得好漂亮」、「妳真是牠的貴人」、「妳很專業」、「修完是大帥哥了」、「謝謝妳，幫了鳥寶一個大忙」。▲畸形喙大修整可能會造成鳥寶緊迫，甚至有生命危險。（圖／T.C.Peng提供，請勿隨意翻拍，以免侵權）▲修剪畸形喙需要豐富的經驗跟技巧。（圖／T.C.Peng提供，請勿隨意翻拍，以免侵權）▲鳥寶：謝謝妳幫我修得帥帥的！（圖／T.C.Peng提供，請勿隨意翻拍，以免侵權）►ETtoday寵物雲有IG了，來追蹤我吧！►手上票券過期了？快點連結讓它起死回生！►就算爬到樹上！妳還是很美【你可能也想看】►影／象龜泡澡掉出「第五條腿」　飼主急問「怎縮回去」怕細菌感染►撿到鵜鶘蛋！6天後孵出一坨「粉色醜萌黏土」　珍貴成長過程曝光►原本不信溝通師！　鼠寶抖出「被騷擾的秘密」她一秒謝罪►影／家裡養了一隻「酷企鵝」　經典髮型＋萌萌大眼讓網友融化了►女兒賴床媽喊3句就不耐煩　看到「親生的還在床上」秒稱讚一串▼更多精采影音。\n",
      "2020/06/05 11:30 影劇 柯學家來了！畢書盡被這招收服？宋柏緯孫可芳「破」台語尬玄彬孫藝珍 https://www.ettoday.net//news/20200605/1730018.htm\n",
      "FB簡立喆主播goo.gl/cUWJx7好選喆新單元「大明星料理教室」來了，首集就邀到畢書盡來教你做最道地韓式辣炒年糕！即將邁入尾聲的《若是一個人》，孫可芳、宋柏緯神複製玄彬孫藝珍？還有第一次駕到《星光好選喆》的政壇最真男人AKA扶龍王——王世堅，黃金陣容來陪你度過六月的第一週！▲▼《星光好選喆》新單元「大明星料理教室」邀請畢書盡擔任首集來賓。（圖／星光好選喆）請繼續往下閱讀...即將邁入尾聲的《若是一個人》，孫可芳、宋柏緯兩人挑戰台語劇必玩情境劇環節，接連挑戰韓劇《愛的迫降》和《婚姻故事》一刀未剪超經典吵架戲，雙雙大秀「破」台語笑果十足！▲▼孫可芳、宋柏緯還原《愛的迫降》經典場面頻笑場。（圖／星光好選喆）政界最真男人、擁有「扶龍人格」的台北市議員王世堅來了！私下是個迪士尼控的王世堅，玩起遊戲還是不忘「理柯」？！▲「政壇最真男人」王世堅玩遊戲不忘「理柯」！（圖／星光好選喆） 「韓冰跟簡立喆誰比較正？」、「蔣萬安、吳宜農誰才是台北市最帥？」今天（5日）下午一點的《星光好選喆》，就由自帶綜藝感的王世堅來為你解答！▲王世堅接受測謊挑戰，超麻辣問題也沒在怕？！（圖／星光好選喆）想學習畢書盡的好手藝？想看孫小豆、宋柏緯來還原爆笑台版《愛的迫降》？本週節目好康要送大家《音速小子》的閃光鞋環！只要在節目播出時，按讚、分享、留言就有機會獲得！記得鎖定Youtube頻道《ETtoday星光雲/官方平台》還有《電癮好選喆TopMoviePicks》，每週不定時上片，讓你天天跟大明星0距離！ 請訂閱【電癮好選喆Topmoviepicks】https://goo.gl/3S03OY\n",
      "2020/06/05 11:27 政治 鐵警李承翰老父悲憤離世　國民黨：請蔡政府儘速推動司法改革 https://www.ettoday.net//news/20200605/1730659.htm\n",
      "▲李承翰父親（右）。（資／記者許宥孺攝）記者羅婉庭／台北報導針對鐵路警察李承翰因公殉職，凶嫌一審因精神鑑定獲判無罪後，李承翰父親昨晚抑鬱離世。國民黨5日表示，制度無法保障警察安全，司法無法還給被害人正義，人民對司法已失去信心，請蔡政府儘速推動司法改革。文傳會主委王育敏強調，當加害者的人權被充分保障時，更應該重視被害者及其家屬對於伸張公理正義的祈求，但當前司法審判的失衡，讓公理正義的伸張無法符合社會期待，也導致被害這家庭二度傷害的憾事不斷重演！王育敏強調，刺殺鐵路警察李承翰的凶嫌一審獲判無罪後，國民黨5月6日即陪同警眷友及過去也曾遭遇類似案例的刑警遺孀召開記者會，大聲疾呼政府的「司法改革」應加快腳步，莫讓警察夢魘一再成為憾事。遺憾的是，司法改革的進程遙遙無期，李承翰父親等不到公理正義的到來，讓受害家庭遭逢二次傷害，這樣的悲劇一再上演，社會對司法的不信任感恐不斷加劇。根據國民黨檢視蔡英文總統過去四年施政表現的民意調查結果顯示，在11項施政領域中，蔡英文的「司法改革」只得到4.96分「死當、墊底」的成績，顯見蔡英文雖然於2016年曾召開「司法改革國是會議」，洋洋灑灑端出153頁成果報告，但社會大眾仍對於司法改革進程的緩步不前感到無奈與不滿。「司法是維護社會正義的最後一道防線」，王育敏強調，當前司法審判的制度體系無法獲得人民信賴、無法彰顯社會公理正義的價值，而改革的腳步更無法符合社會大眾的期待，她呼籲蔡英文總統應該正視司法體制的缺陷，儘速推動司法改革的進程，讓司法能重獲民眾信心，也讓社會安全體系得以維繫。\n"
     ]
    },
    {
     "name": "stdout",
     "output_type": "stream",
     "text": [
      "2020/06/05 11:27 社會 「日子怎麼過下去…」承翰爸苦全吞肚裡　忍劇痛吐血亡！堂弟慟：他什麼都不說 https://www.ettoday.net//news/20200605/1730611.htm\n",
      "記者翁伊森、陳韻如／嘉義報導鐵路勇警李承翰遭刺殺案，鄭姓犯嫌一審被判無罪。李父得知消息後難以接受，決心替兒子上訴到底，孰料，時隔36天，李父4日晚間就因胃出血加上案情纏身抑鬱而終，家屬悲痛欲絕。李父堂弟悲痛表示，李父平時情緒就很壓抑，「沒看他流過淚，也不曾抱怨」，如今卻含恨離世，家屬也不知道未來該怎麼辦。▲李承翰阿嬤1年內遭受2次白髮送黑髮人的痛，5日上午在李父靈堂前崩潰痛哭。（圖／記者白珈陽攝）對於鄭嫌判決結果出爐後，李承翰的父親李增文難以接受，卻是默默地將所有打擊、悲傷全往肚裡吞，不願告訴家人，這段時間以來，他成日鬱鬱寡歡，沉默寡言，就連身體出狀況也不肯告知，更不願就醫，導致其胃出血的症狀因此加重，最終於4日傍晚離世。▲李父抑鬱而終，家屬悲痛萬分。（圖／記者翁伊森攝）李父堂弟接受訪問表示，李父從小個性就很老實，他從來沒看過李父跟人有過爭執，對父母也很孝順，平時不菸不酒，李承翰的事情發生後，李父的情緒就相當壓抑，他從來沒看過李父流下一滴眼淚，更不曾有過一句埋怨。▲李父堂弟受訪表示，哥哥平時情緒相當壓抑，沒有人知道他內心的想法。（圖／記者白珈陽翻攝）李父堂弟提到，李父內心的痛苦任何人都無法體會，而李父也將所有情緒壓抑在內心，沒有人能知道他內心的想法，始終把所有苦都自己吞下，就連身體不適，李母叫他看醫生，李父也都回應，「我沒事」。李父堂弟說到激動之處也不禁眼泛淚光，原本幸福的家庭，如今外甥無故遭人刺死，李父也抑鬱而終，現在首要關心的就是李承翰92歲的阿嬤，一年內遭逢2次白髮送黑髮人的痛，也讓家屬擔心不已，直嘆，「以後的日子都不知道要怎麼過」。►越想越不對勁！【更多新聞】最後身影曝！承翰爸不願叫救護車　暴瘦忍痛「堅持走進醫院」…狂吐2次血亡被徵做「口罩國家隊」！竟利用面膜當掩護　另闢口罩產線…業者見檢方上門臉綠承翰爸嚴重胃出血+抑鬱纏身！妻悲曝：不想讓他變植物人…急救後忍痛放手\n",
      "2020/06/05 11:26 社會 宜蘭人力派遣公司遭砸店槍擊1人中彈　警2小時火速逮10人 https://www.ettoday.net//news/20200605/1730650.htm\n",
      "▲▼宜蘭人力派遣公司1人傷槍擊案，羅東警方2小時內偵破，火速逮捕10人到案。（圖／記者游芳男翻攝，下同）記者游芳男／宜蘭報導宜蘭冬山路5段一家人力派遣公司日前發生債務糾紛砸店毀車開槍衝突事件，5日上午竟又發生有人又前往尋仇開槍，造成一名31歲胡姓男子腿部中彈，緊急送醫，槍嫌逃逸後，羅東警方2小時內偵破，火速逮捕10人到案。羅東分局表示，5日7時50分許接獲報案在冬山鄉冬山路五段發生槍擊案，立即派遣員警趕赴現場，經了解一輛自小客車遭毀損，自小客車駕駛31歲胡姓男子（人力派遣公司負責人）遭開槍右大腿中彈，胡男與先前5月26日在冬山鄉冬山路三段及五段路口因債務糾紛涉嫌遭砸店、開槍之被害人是同一人，胡男經送往博愛醫院醫救治後，目前無生命危險。槍擊案發生後，羅東分局獲報後立即與刑警大隊組成專案小組，經調閱現場監視器分析過濾人車，鎖定3部可疑涉案車輛，於9時40分許在宜蘭縣員山鄉隘界路查緝10人到案。警方調查，許姓及簡姓犯嫌2人，在5月間向胡男借款新台幣20萬元，約定於1周後償還債務竟未償還，胡男多次索討，讓已還債7萬元的許姓及簡姓2人十分不滿，竟夥同不詳男子共4人開一部車，在5月26日晚上20時許，連續2次到胡男所經營之人力派遣公司連砸店2次洩憤。許男等3人下車砸店時，適逢胡男友人駕車經過，欲攔下許男的車時，卻遭許姓等犯嫌開車衝撞，胡姓3友人見狀後憤而下車持棍棒砸許男的車，未料車內不詳男子於車內朝外開槍射擊一發後，旋即許男等4人棄車逃離現場，胡男友人見狀後亦紛紛駕車離開。►二手票券豐富你的生活►其他人也看了這些...►宜蘭人力派遣公司遭砸店毀車　清晨再爆槍擊1人中彈送醫急救►蘭院建築模型展遭幼童轟炸式摧殘！家長默默閃人...學生10個月心血毀了►哥倆太猛了！「灰頭土臉」大玩神明廳香灰撒滿地　網笑：珍貴照好好保留\n",
      "2020/06/05 11:24 房產雲 疫情衝破「金鐘罩」　英國學生宿舍租賃業估收入損失上看20％ https://www.ettoday.net//news/20200605/1729726.htm\n",
      "▲儘管學期課程仍在進行，英國牛津大學校園在疫情期間空空蕩蕩。（示意圖／翻攝自Facebook／the.university.of.oxford）記者張靖榕／綜合外電報導英國受疫情影響，3萬9811死亡人口至今仍是全球第二高，而隨著旅遊禁令、學校改採遠距上課等限制，也重創專作學生房屋租賃的行業。學生聯合會（UniteStudents）先前就曾估計，2019到2020學業年度，他們在全英國的租賃收入將大減16％至20％。不動產投資信託「學生聯合會」專門在英國各地建造學生宿舍，並提供學生租賃，是全英最大的學生宿舍提供者之一，在過去這項投資幾乎是穩賺不賠的生意，學生聯合會每年也保持相當收入，但今年重創各行各業的疫情海嘯，也讓這家不動產投資信託「卸下金鐘罩」。自強生政府下令居家隔離後，英國各所大學已自3月下旬關閉，改以學生在室內進行遠距上課為主。許多學生得知學校新政策後，與其在宿舍繼續待著，很多人都選擇回家，並且要求退還宿舍租金，或是直接解除合約。學生聯合會4月的一項估計，2019到2020學年度將面臨至少16％到20％的損失，而下一個學年度與後疫情時期重疊，還有許多未知數。另一間同業「帝國學生不動產」（EmpiricStudentProperty）5月則表示，今年損失可能上看12％。英國疫情自3月爆發，截至台灣時間4日上午9點30分，累計確診人數28萬1270例、死亡人數3萬9811人；確診人數位居全球第4，死亡人數則位居第2。\n",
      "2020/06/05 11:22 財經 和泰興業起家厝再現風華！中部分公司動土　「彰化新地標」預計明年5月完工 https://www.ettoday.net//news/20200605/1730629.htm\n",
      "▲彰化縣長王惠美（右五）與和泰興業總經理王玄郎（右四）主持開工儀式。圖、文／大金提供和泰興業於1963年選擇於彰化設廠，從早期的生產不銹鋼餐具、廚具爐具，到代理大金空調後成為台中分公司。近年來隨著業務面及進出貨量的成長幅度，考量建物屋齡，以及原有的空間漸顯不敷使用。同時也希望藉由本案的建築規劃設計，打造出一棟兼具商務辦公及倉儲物流機能的實用綠建築，構成引領業界的標竿。和泰興業總經理王玄郎：「謝謝彰化鄉親大力支持重建，未來主要滿足幾點需求：因應供貨需求的成長，規劃整體物流動線，並加入垂直運輸動線，促使倉儲物流運轉順暢。建築設計結合大金品牌意象與現代建築，呈現舒適明亮且分區明確的工作環境，能有效提升營運效率，規劃整合相關機能以及附屬設施，使營運管控更加容易。」彰化縣長王惠美：「為了服務鄉親，和泰興業預定在此有兩期的工程投資，第一期主要是商辦及物流中心，也期許有更多的企業能持續投資彰化，讓彰化繼續發光發熱！」請繼續往下閱讀...和泰大金協助客戶量身打造最適合的空氣解決方案。兼顧舒適與節能的空間、與自然共生的黃金級綠建築規劃，也落實在本次的中部分公司。台灣綠建築四大指標群中，本案皆全數落實執行，並符合綠建築九項指標中的八項指標。整體建築物預計於明年5月份完工，期待能帶來煥然一新的面貌，更好的服務體驗。\n",
      "2020/06/05 11:21 社會 驚悚畫面！礁溪汽機車碰撞磨地拖行　油箱爆裂瞬起大火2車燒光光 https://www.ettoday.net//news/20200605/1730608.htm\n",
      "▲▼宜蘭廂型車與機車在路口相撞並起火，兩車被大火吞沒。（圖／記者游芳男翻攝，下同）記者游芳男／宜蘭報導宜蘭礁溪鄉5日上午發生廂型車與機車車禍，廂型車撞機車時，機車被拖行且油箱破裂漏油，並在地面摩擦產生火花起火，兩車被大火吞沒燒光光，機車男駕駛幸意識清楚，但呼吸急促、胸口疼痛，被送宜蘭陽大附醫救治。警方正釐清肇事原因。宜蘭消防局5日近6時許，獲報礁溪鄉興農路217號附近，車禍引發車輛火警，派遣礁溪分隊救災人車前往救援，車禍為興農路由西往東行駛的廂型車（於）與奇立丹路由南往北行駛的機車在路口相撞，機車卡於廂型車車頭下方，撞擊後機車被廂型車拖行且機車油箱破裂漏油，並在地面摩擦產生火花造成兩車起火燒毀，。這場車禍，機車男駕駛男性幸意識清楚，但呼吸急促、胸口疼痛，被送宜蘭陽大附醫救治。▲宜蘭廂型車與機車在路口相撞並起火，兩車全燒毀。（圖／讀者提供）►二手票券豐富你的生活►其他人也看了這些...►宜蘭人力派遣公司遭砸店毀車　清晨再爆槍擊1人中彈送醫急救►蘭院建築模型展遭幼童轟炸式摧殘！家長默默閃人...學生10個月心血毀了►哥倆太猛了！「灰頭土臉」大玩神明廳香灰撒滿地　網笑：珍貴照好好保留\n",
      "2020/06/05 11:21 論壇 蔡亦竹／來自人性！振興券比消費券更能刺激經濟　 https://www.ettoday.net//news/20200605/1730581.htm\n",
      "我們想讓你知道…振興券是你要花1000去換的，那你會不會花？當然要花啊●蔡亦竹／日本筑波大學歷史人類學博士、實踐大學日文系助理教授發振興券和消費券的不同，在於最基本的經濟學思考。而且是總體經濟學，不是你在那邊說，你家開店、去賣場、買東西有記帳，你就覺得那經濟學。不要跟我說什麼，政策就是要大家方便，要大家贊同，不然來民調今年開始不用繳稅，看多少人贊成啊！消費券沒加乘效應消費券的失敗，正在於它無條件的發放。因為不管是消費券還是振興券，政府花稅收出來不是印錢免成本，而是要促進經濟循環讓錢水流動，景氣好起來之後，自然可以多收到稅金。不然織田信長開樂市樂座，免過路費、免營業稅幹嘛，他白癡嗎？當然是因為吸引人潮之後，自然國力增強，就這麼簡單。消費券既然每個人3600等同現金，那每個人拿到錢會馬上花掉嗎？會。你會拿去買東西，然後原本該拿來買東西的錢存起來，因為你覺得時機不好。你不會每個月花兩萬，但是你有消費券就花23600，而是一樣花兩萬，多存3600的錢覺得自己賺到。結果馬政府出了3600*兩千萬人口，然後經濟還是一樣沒加乘效應。▲實體「振興三倍券」分成5張200元及4張500元的發放模式。（圖／行政院提供）振興券用1000換3000　大家會想收阿什麼是加乘效應？很簡單啦，之前疫情正嚴重的時候，我官網生意很差，問為什麼？大家都說，因為賺不到錢，所以買東西要節制。阿你節制我就賺不到錢，我賺不到錢我也節制，所以我也不買你賣的公仔，你公仔不好賣，你當然也不會去買許易鼎的茶葉，然後賣茶葉的沒錢，所以也不買我衣服了，這就是不景氣的循環。但是，振興券是你要花1000去換的，那你會不會花？當然要花啊，不然你康安嗎？而且你不花超過1000塊，那就多舞的不是嗎？而且講最快的，今天就一堆人在問說，3000塊份的振興券多少多少要收了，之前消費券等同現金，誰要賣你啊？那這次為什麼大家可以會想要收？因為大家都知道「那是1000塊去換3000塊份」啊！但是換回來的振興券，是可以一比一買東西的，他換回來一定拿去消費啊，不然當壁紙逆？這樣政府所投入的經費，才會真正進入經濟循環。我賺到錢了，我買你東西，你又去買駱師傅（駱英毅）的手搖茶，駱師傅覺得爽就去大亂步吃宵夜，然後大亂步的魔人朋友又來買我衣服，爽。▲振興三倍券使用方式。（圖／經濟部提供）你只看得到有沒有發現金，但是從頭到尾你只想到你自己。然後政府都不必顧全局都要顧你，真正要你為國家想想的時候，就你是小市民啦，相信黨啦，台灣價值充滿啦，幹洨一堆。然後大家都不必賺錢，都你要業績飽飽，然後存錢，別人管他的這樣。消費券那時候大家都拿來抵現金消費，然後錢存起來了，像你這種伸手牌的，會拿到現金馬上去多消費幫全國拚經濟喔？講那麼多，到底你振興券要不要2000賣我啦？►吃得健康，美麗出門，寵愛媽咪！熱門點閱》►鍾文榮／「振興三倍券」看不出有「非花不可」的玄機►李沃牆／「振興三倍券」問題多　勿變成「三振出局券」►紀冠伶：大法官高舉「性自主權」高於「家庭價值」►2020罷韓》給下一位高雄市長　高雄傷痕累累待災後重建●本文獲作者授權，轉載自「蔡亦竹」個人臉書，以上言論不代表本網立場。歡迎投書《雲論》讓優質好文被更多人看見，請寄editor88@ettoday.net或點此投稿，本網保有文字刪修權。\n",
      "2020/06/05 11:21 國際 長髮妹「自買止痛藥吞」　全身燒焦掉皮露紅肉…甜美臉蛋佈詭異粽色斑點！ https://www.ettoday.net//news/20200605/1730524.htm\n",
      "▲泰國一名女子因為自行服用止痛藥，造成過敏全身如燒焦一般。（圖／翻攝自當事人臉書下同）記者陳亭伃／綜合報導不少人在身體不適時，都會自行購買止痛消炎藥緩和，然而日前一名泰國美女，因為牙齒疼痛，未經過醫師診斷就自行跑去買止痛藥，早上、中午各吃一顆，竟出現嚴重過敏，全身如燒焦般的疼痛、脫皮，就像被火在燒體內的器官一般疼痛。女子被緊急送醫之後，立刻接受過敏反應治療，2周後才出院回家。（以下圖片請斟酌觀看）根據英過《太陽報》報導，住在泰國春武里的凱可涵（YothikaKaewkham）在臉書上分享自己一周前，未經過醫師診斷之下，逕自跑到藥局購買含有布洛芬（ibuprofen）止痛藥緩解牙痛。而就在早上與午間個吃一顆之後，竟出現全身如火燒般的灼熱感，接著出現蕁麻疹、皮疹、水泡的狀況且相當疼痛。凱可涵的丈夫看到之後相當緊張，立刻將她送往醫院急救。▲女子皮膚剝落、起蕁麻疹、皮疹。凱可涵到院之後，醫療團隊評估需要立刻送進重症監護病房，進行過敏反應測試與藥物治療。經過7天之後，凱可涵的狀況才得以緩解，但仍可以看到她的皮膚仍有破損、爛掉的樣貌，醫師要求她再多在院觀察7天，並告誡凱可涵千萬不要在擅自購買藥物服用。出院後的凱可涵將自己的經歷放上網路，照片中可以看到她如脫皮般剝落的皮膚，樣貌相當驚人，她也表示，經過這次的經驗，希望大家身體不適都要去看醫生，千萬不要帶著自己可以治癒的心態。泰國食藥署副署長唐威瓦特（SurachokeTangwiwat）指出，凱可涵的中毒性藥物過敏相當嚴重，還能活下來真的是相當幸運，這就是為什麼不斷告訴大眾，一定須藥處方箋才能購買藥物。●好康來了！過期票券換東森幣！舉凡餐券、住宿券、SPA券等過期票券都可以起死回生兌換東森幣，這麼好康的事，到底要怎麼做呢？首先，最重要的是把家中的過期票券找出來，進入東森購物的頁面，輸入會員帳號及密碼，就會出現票券驗證的畫面，接下來只要依序填寫禮券編號、條碼序號，並選擇信託銀行，就驗證成功囉。【快點連結】\n",
      "2020/06/05 11:20 寵物動物 白文鳥閉眼仰躺「煮沸熱水」被瘋傳！　飼主急貼真相笑翻12萬人 https://www.ettoday.net//news/20200605/1730534.htm\n",
      "—うた(@mochimaru_1209)May31,2020►手上票券過期了？快點連結讓它起死回生！►就算爬到樹上！妳還是很美►組合只要980元，卻送1000元東森幣，根本賺到，地表最划算無誤【你可能也想看】►影／窗台有鳥窩！女兒抱怨10多年「看牠臉色」開冷氣　媽1句回覆網讚爆►阿公騎單車載狗孫兜風！　菜籃塞一坨「三層肉溢出」超療►全家帶狗去散步巧遇「史詩級萌獸」！　半路認錯媽屁顛跟回家►開門準備上班…超ㄎㄧㄤ虎斑貓亂入家門　飼主尷尬：你認錯樓層啦►挑戰氣炸鴕鳥蛋「鍋子太小」　他研究一星期獲得完美成果！▼更多精彩影音aru_1209經常在網路分享愛鳥的生活點滴，這天他看到Maru跳進鍋碗裡面，興奮地自顧自的玩水，甚至直接躺在水面，閉起眼睛彷彿很享受的樣子，可愛的模樣讓飼主忍不住拍下來分享，並寫道「臉的方向好像不太對，不是嗎？」由於Maru的神情實在太放鬆了，加上碗裡的水花四濺，看起來就像煮沸的水，讓有些網友誤會是在煮小鳥，照片迅速在網路上傳開。►ETtoday寵物雲有IG了，來追蹤我吧！隨後飼主馬上貼出影片並解釋，「這是誤會啦！你們看Maru的腳，他只是在洗澡，請大家不要擔心。雖然讓大家誤會了，但是鳥寶洗澡後的氣味特別香甜！」許多網友看完照片紛紛也留言打趣的說，「差點要打給動保處了」、「Maru的表情太享受才會讓人誤會啦」、「這鳥身體跟腳是呈現90度了嗎」、「我不信！多拍幾張Maru的照片來看看」、「鳥：洗澡洗太爽錯了嗎」。動画もあるよ〜pic.twitter.com/8zDlnBPfDe\n",
      "2020/06/05 11:19 國際 影／「跪殺佛洛伊德」3白人警保釋金3000萬！　「教唆二級謀殺」最高可關40年 https://www.ettoday.net//news/20200605/1730511.htm\n",
      "記者張方瑀／綜合報導美國「佛洛伊德之死」4名涉案員警在事發後已遭解職並收押，法官在4日裁定，其中3名員警被控「協助與教唆二級謀殺」與「協助與教唆二級過失殺人」，保釋金各為100萬美元（約台幣3000萬元），而下次出庭時間為29日。▲由左至右為亞歷山大關（J.AlexanderKueng）、藍恩（ThomasLane）、托浩（TouThao）。（圖／達志影像／美聯社）明尼蘇達州亨內平郡（HennepinCounty）法官史考金（（PaulScoggin））裁決，三名在非裔男子佛洛伊德死亡現場的員警，34歲的托浩（TouThao）、37歲的藍恩（ThomasLane）以及26歲的亞歷山大關（J.AlexanderKueng）分別以「協助與教唆二級謀殺」與「協助與教唆二級過失殺人」起訴，最重可能面臨至少40年的有期徒刑。史考金表示，三人的保釋金為100萬美元，若是達成附帶條件，可以減為75萬美元（約台幣2235萬元）。附帶條件為不得從事任何執法工作、上繳所有槍枝、吊銷槍枝使用許可證、不得與佛洛伊德的家屬聯繫等。而三人的下次出庭時間為29日。另外，以左膝壓制佛洛伊德（GeorgeFloyd）的44歲員警蕭文（DerekChauvin）已先被控二級謀殺罪，最高也將面臨40年有期徒刑，且不見得能假釋。►市長單膝下跪「扶棺抖肩」痛哭！　百人出席追悼會…起立默哀「8分46秒」►「殺佛洛伊德3白人警」首開庭！左膝惡魔蕭文面臨40年徒刑…出獄已破80歲►「佛洛伊德之死」3警被控協助教唆謀殺！　美東4日下午首出庭►防疫期間也要一樣美麗！►二手票券豐富你的生活～ \n",
      "2020/06/05 11:18 財經 華碩AIoT團隊打造全新智慧製造解決方案　目標奪得30個智慧檢測專案 https://www.ettoday.net//news/20200605/1730651.htm\n",
      "▲華碩董事長施崇棠。（圖／資料畫面）記者姚惠茹／台北報導華碩（2357）今（5）日宣布，隨著「智慧物聯網」時代來臨，2019年底將原本AIoT部門擴充升級為「智慧物聯網事業群」進軍AI生態系，歷經設計力、技術力及持續獲利等三大面向層層把關，華碩從供應商端實現產業升級工業4.0所需要的彈性、速度、生產力、品質力中，發現重複動作性極高且大量仰賴人工判斷的品質瑕疵檢測為最大轉型痛點，即率先投入智慧製造解決方案。華碩表示，針對金屬、塑膠、風扇、印刷電路板等電腦周邊元件生產業及系統組裝業作為首要發展方向，盼藉由AI的助力突破良率瓶頸，降低人工檢測可能的誤判所造成的損失，長此以往更能利用人工智慧大數據針對品質瑕疵種類做統計分類以歸納出形成原因，從源頭改善進而減少製程瑕疵。請繼續往下閱讀...華碩全球資深副總裁暨智慧物聯網事業群共同總經理許祐嘉表示，華碩目前有數百家的配合供應商，當華碩有能力組團隊協助其改善品質檢驗流程，供應商接受意願也高，這對於向來就相當重視產品品質的華碩而言，正是一個魚幫水、水幫魚的雙贏局面。華碩指出，對製造業來說，以光學檢測替代人工目檢是常見做法，但對金屬機構件業者相對困難，因光線反射使得人工目檢常需要多角度翻轉產品才能看到瑕疵，就算是光學鏡頭同樣也會產生瑕疵遮蔽，因此掌握光學及元件表面特性取得完整且正確的瑕疵資料極為重要，故利用機器學習、類人工神經網絡深度學習等人工智慧技術訓練正確的AI檢測模型，正是智慧物聯網事業群核心技術之一。華碩智慧物聯網事業群共同總經理張權德表示，一般光學檢驗精準度約80～90%，代表可能有超過10%以上的瑕疵被誤判，人工目檢精準度則約90%，目前華碩已經能讓AI透過學習後大幅將精準度提升至98%。華碩說明，電腦及家電上的關鍵零件「風扇」，雖然體積小，卻是能夠左右產品壽命的關鍵元件之一；過去風扇製造業者檢測風扇品質時，是以人耳判別，不僅需花費3~6個月不等的時間進行品檢員培訓，還會有人耳疲乏及潛在職災等因素，可能降低檢出率或稼動率(Activation)。華碩補充，為解決此棘手問題，華碩導入人工智慧波形檢測系統，錄製合格風扇的運轉聲音，讓AI學習「好的風扇聲音波形」，將可快速辨識品質優良的風扇，而且這項運用聲音進行品質檢測的技術也能搭配機具電流、電壓、震動等特徵，應用在所有「動件」產品上，像是工廠馬達透過AI監測生命週期，聽出馬達異常時就能立即發出警告，讓工廠適當維修汰換，避免因馬達臨時故障產線停擺，造成巨大損失。華碩全球資深副總裁暨智慧物聯網事業群共同總經理許祐嘉表示，今年華碩智慧物聯網事業群團隊也訂下積極目標，包括風扇及金屬機構件供應商，預計搶下30個智慧檢測專案，因為事業群創立的初衷，就是期望推動產業共同升級，協助供應鏈體質提升，以面對國際競爭，而持續累積經驗驗證佈局則是首要任務。隨著各大代工廠紛紛導入智慧製造、AI檢測方案，華碩智慧物聯網事業群共同總經理張權德表示，過去演算法與AI模型是高度客製化，提高AI檢測方案可複製性是下一階段目標，如此一來，可以快速普及並規模化來推廣。華碩強調，AIoT團隊的終極眼光是聚焦在「全品質分析」，未來3~5年目標將以數據分析，探究料件引發瑕疵的原因，協助供應鏈找出良率高或低的根本解答，打造成功方程式，並藉由長期價值開創及累積，成為華碩品牌的重要基柱。►過期票券別浪費！簡單3步驟　教你換1.5倍東森幣\n"
     ]
    },
    {
     "name": "stdout",
     "output_type": "stream",
     "text": [
      "2020/06/05 11:16 政治 年輕人「被迫亮票」不敢回家...林鶴明：罷免首投族這舉動讓人感動！ https://www.ettoday.net//news/20200605/1730646.htm\n",
      "▲林鶴明。（圖／HitFm《周玉蔻嗆新聞》製作單位提供）記者蔣婕妤／台北報導高雄市長韓國瑜罷免案6月6日要投票，剩下最後倒數一天。民進黨副秘書長林鶴明5日接受資深媒體人周玉蔻專訪時表示，有些年輕人是「罷免首投族」，他們明天也要去行使公民權利，還有一些年輕人因為「被迫亮票」不敢回家，卻還是堅持回去投票，「年輕人知道他為什麼要去投票，這是讓人很感動的事情。」林鶴明表示，罷韓案要先對高雄市民表達敬意，因為他們用行動告訴大家，台灣人不是投完票就不管政治，除了投票給政治人物權利，也可以用投票把權力收回，從小學習選舉罷免是公民權利，但高雄這次是真的舉辦罷免投票，「高雄市民用行動告訴大家，這是人民權利，他們的光榮感，這種選舉不是光是投給誰，而是這是可以行使的權力，我們是高雄的主人。」　林鶴明透露，有一位父親跟他分享，兒子是「罷免首投族」，今年一月十一日的總統大選他還不能投票，但現在可以了，他的第一張票是罷免票，他說自己要去投票，「有一群年輕人他們是罷免的首投族，第一張票就是罷免票，他們要去行使公民權利，年輕人知道他為什麼要去投票，這是讓人很感動的事情。」林鶴明提到，他聽到一段錄音，一個年輕人說這一次他要去投罷免票，但他不能回家，「因為國民黨說不要去投票，這樣投票變成亮票，他父母說不要回來了，因為爸媽是支持市長的，蓋牌讓他被迫表態，他說要先找個地方過夜，不想破壞家裡關係，我聽到路錄音滿感動的，年輕人不知道他在做什麼？他完全知道他在做什麼。」　\n",
      "2020/06/05 11:16 社會 空少謊稱「總統專機有炸彈」！華航解雇他法院認有理 https://www.ettoday.net//news/20200605/1730625.htm\n",
      "▲華航空少謊報總統專機有炸彈，事後遭解雇，法院認為華航解雇有理。（圖／記者呂佳賢攝）記者吳銘峯／台北報導蔡英文總統2016年6月出訪友邦時，中華航空黃姓空服員竟報警謊稱「總統專機有炸彈」，事後證明是烏龍一場。華航認為名譽受損，先將黃男改調地勤，後來解雇。黃男不滿，提出確認僱傭關係存在之訴，一審認華航無理，但二審逆轉改判解雇有理。案經上訴，最高法院5日駁回上訴確定。本案發生於2016年6月24日，蔡英文總統宣誓就職一個月後就啟動「英翔專案」，訪問巴拿馬及巴拉圭並過境美國。不過總統專機出發當天，警方卻接獲報案，指稱「總統專機有炸彈」。事後證實是烏龍一場，但檢警清查後，發現報案人在新北市新莊區一家超商旁，使用公用電話卡向警方報案，指稱總統專機有炸彈後即掛電話，最後警方在案發第二天就循線逮捕華航空服員黃男。黃男被捕後，否認具有恐嚇犯意，辯稱當天參加桃園市空服員職業工會發起的罷工活動，因剛好遇到蔡英文出訪，他為了喚起社會大眾注意，才會謊報總統專機有炸彈。黃男隨後被新北地檢署依照《民航法》「散布危害飛航安全不實訊息罪」提起公訴，最後黃男遭判刑3月定讞。華航在事發後，認為名譽受損，隨即將黃男改調地勤人員，並在事發後4個多月將黃男解雇。黃男不滿，打起民事訴訟要求復職。一審桃園地院審理後，認為解雇無理由，判決黃男勝訴。案件上訴第二審，高等法院審理後出現逆轉判決。高院認為黃男讓華航長年形塑維護飛安及空服員專業形象遭破壞殆盡，符合解雇的最後手段原則，因此改判決黃男敗訴。黃男不滿，再上訴第三審，最高法院審理後，採信二審見解，還是認為華航解雇有理，因此駁回黃男請求，全案確定。\n",
      "2020/06/05 11:15 政治 罷韓前夕表態　侯友宜肯定：韓國瑜全力做好所有市政 https://www.ettoday.net//news/20200605/1730645.htm\n",
      "▲新北市長侯友宜。（圖／記者羅婉庭攝）記者羅婉庭／新北報導高雄市長韓國瑜罷免投票前夕，新北市長侯友宜表態肯定韓國瑜，「這段時間看到韓市長帶著團隊全心全力做好防疫、防汛等市政工作，這是對高雄市民最好的回饋」他也重申，努力把市政做好才是最重要的事情。韓國瑜6日即將面臨罷免投票，罷免門檻57.5萬票，民進黨中常會日前通過鼓勵罷韓投票聲明，啟動催票、動員，進入另類的藍綠對決。侯友宜5日上午主持「因應嚴重特殊傳染性肺炎疫情應變會議」，罷韓前夕，侯友宜話說得比過去更明朗，給予高雄市府鼓勵。侯友宜表示，在這段時間所有人都看到韓市長帶著他的團隊全心全力做好防疫、防汛等所有市政工作，我們每個人站在自己的工作崗位全力做好，這就是對高雄市民最好的回饋。大家好好的做，努力把自己的市政做好，這才是最重要的。 ★★★好康來了！過期票券換東森幣 ★★★舉凡餐券、住宿券、SPA券等過期票券都可以起死回生，兌換東森幣加碼1.5倍，這麼好康的事，到底要怎麼做呢？首先，最重要的是把家中的過期票券找出來，進入東森購物的頁面，輸入會員帳號及密碼，就會出現票券驗證的畫面，接下來只要依序填寫禮券編號、條碼序號，並選擇信託銀行，就驗證成功囉。【快點連結】\n",
      "2020/06/05 11:15 體育 U15世界盃／WBSC公告台灣等12支隊參賽　延後10月底舉行 https://www.ettoday.net//news/20200605/1730641.htm\n",
      "▲U15世界盃中華隊上屆奪季軍。（圖／棒協提供）記者楊舒帆／綜合報導原訂8月墨西哥舉辦的U15世界盃，因新冠肺炎延後至10月舉辦，WBSC國際棒壘球總會5日（台灣時間）公布12支參賽國，亞洲包含台灣還有日本參賽。本屆U15世界盃原訂8月14日至23日在墨西哥舉辦，新冠肺炎影響延後至10月30日至11月8日開打，比賽地點在墨西哥第6大城市提華納。U23世界盃則同樣在墨西哥舉辦，比賽時間為9月30日至10月9日。女棒世界盃則延後至11月12日至21日，比賽地點同為提華納。請繼續往下閱讀...中華隊在國際棒壘球總會分齡制後，曾拿過2次季軍，先在2012年首屆U15世界盃奪季軍之後，上一屆2018年也拿下季軍佳績。U15中華隊選拔賽為華南金控盃青少棒賽，19縣市較勁，6月11日開打至21日冠軍出爐，冠軍隊伍可獲得U15中華隊組訓權，上屆冠軍為新北市隊。\n",
      "2020/06/05 11:15 政治 罷韓最後倒數！投票日韓國瑜不公開行程　他此刻心情先曝光… https://www.ettoday.net//news/20200605/1730628.htm\n",
      "▲高雄市長韓國瑜5日行程。（圖／記者洪靖宜攝）記者洪靖宜／高雄報導罷韓投票倒數1天！針對高雄市長韓國瑜6月6日當天會有那些行程，新聞局也表示，在投票日曝光，可能會引起不必要爭議，因此明日市政行程傾向不公開，而韓國瑜目前依然專心市政，每天都要對得起選民託付。▲高雄市長韓國瑜5日照常跑市政行程。（圖／記者洪靖宜攝）罷韓投票只剩下一天，高雄市長韓國瑜5日一整天安排了3個公開行程，保持拚市政抵制罷韓的決心，不過，6月6日當天，據知情人士透露，不管罷免成功與否，韓國瑜都會在開票後出來講話，而早上會有哪些行程？新聞局長鄭照新說，由於明天是投票日，投票日的曝光可能會引起不必要爭議，因此明日市政行程傾向不公開，避免引起不必要討論。而目前韓國瑜的心情如何？他說，市長基本上對於市政非常關注，全心在市政，充滿活力及動力，至於投票結果則交由高雄市民決定，他會表達尊重，市長的理念跟堅持，無論如何每一天都要對得起市民的託付，會專注在市政上面。但原先5日晚間韓國瑜晚上8點要到河東路視察路燈，與罷韓團體選前之夜最終點一樣，後來新聞局趕緊更改行程，不僅將時間延後到晚上9點30分，還換了地點到愛河之心，鄭照新解釋，因為工務局同仁在議會備詢完後，可能時間都到已經到晚上7點以後，市長體貼辛勞讓同仁先吃個飯、休息一下，因此才將改到晚上9點半，但他不諱言，與罷韓路線錯開避免衝突也是初衷，各自對政治有表述空間，但不要造成對立。\n",
      "2020/06/05 11:15 體育 中職／想打職棒快來報名　味全龍續辦測試會 https://www.ettoday.net//news/20200605/1730593.htm\n",
      "記者陳立勳／綜合報導為了讓更多人一圓職棒夢，味全龍隊6月15日與6月16日將再度自辦職棒選秀測試會，即日起至6月9日中午前可上網報名。凡現役甲組成棒球員、參加過黑豹旗全國高中棒球大賽或高中棒球聯賽木棒組進入16強的選手都可報名測試會，味全領隊吳德威表示，創辦人魏應充希望提供更多機會給有志投入職棒的球員，因此將連續第2年舉辦測試會，表現優異的選手，將獲球團推薦參與「2020中華職棒新人球員選拔會」。味全龍隊去年自辦測試會共吸引500多名選手報名，初審有162人通過進入測試會，最終球團推薦50多名選手參與中職舉辦的選拔會，創下去年參與中職選拔會及選秀指名的紀錄。請繼續往下閱讀...吳德威表示，現在隊上球員已近50位，但創辦人魏應充還是希望開一扇門，讓更多以打棒球為職志的球員有更多機會可挑戰職棒舞台，因此今年決定續辦測試會。味全總教練葉君璋指出，球隊也希望藉由測試會近身觀察球員、找到更多潛力選手，更希望已有選秀會資格的選手也能參加，像是去年參加自辦測試會的曾傳昇，實戰時展現的身手就讓葉總印象深刻，後來球隊也以第5指名簽下。目前龍隊近50名選手中，有22人去年曾參加龍隊的自辦測試會，其中來自南華大學的郭郁政、黃東淯、蔡明憲、全浩瑋、張政禹和林孝程六人也同樣參與過去年測試會，獲得球團推薦並順利參與選秀，今年測試會地點改在斗六球場舉辦，球團也將提供食宿及交通補貼，希望能讓球員能夠專心大展身手。味全龍隊今年自辦測試會即日起到6月9日中午開放上網報名，通過初步審核獲選參加測試會的選手，6月11日中午後將陸續接到電郵通知，測試會舉辦地點在雲林斗六棒球場，屆時除將邀請台灣體育運動大學協助進行球員體測，判讀球員的身體素質外，也會進一步透過球場的Trackman系統及Rapsodo來蒐集數據分析球員表現，並結合教練團對球員參與實戰的觀察報告，做為「2020中華職棒新人球員選拔會」的推薦名單依據。【註】測試會報名網址：https://reurl.cc/nzXK0e報名球員報名時需要提供個人近三年的賽事成績，供教練團參考，報名後需通過初步審核才能獲選進入測試會，球團將會在6月11日中午開始進行電郵通知。►上網登錄過期票券　現賺1.5倍東森幣地表最強美白精華，夏日必備神物\n",
      "2020/06/05 11:15 健康 食物保存不只塞冰箱！　家事達人分享5撇步：謹記「上熟下生」 https://www.ettoday.net//news/20200605/1730587.htm\n",
      "▲食物保存不只塞冰箱！家事達人分享5撇步：謹記「上熟下生」。（圖／pixabay）記者嚴云岑／台北報導每年6月7日訂為「世界食品安全日」，為因應2020年主題「食品安全人人有責」，食藥署請來家事達人陳安祺老師，教導民眾掌握清冰箱5撇步。除了定期清潔，注意保存溫度外，陳安祺也教導民眾必須遵守「熟上生下」擺放原則，以免生食血水滴到熟食，造成食物污染。世界衛生組織在今年世界食品安全日提出的5項「安全」行動，包含：安全保障（Ensureit’ssafe）、安全種植（Growitsafe）、安全經營（Keepitsafe）、安全食用（Eatitsafe）、團結合作保障安全（Teamupforsafety），期望透過上述行動，以提升全球食品安全意識。請繼續往下閱讀...食藥署署長吳秀梅表示，安全的食品供應，可以維持國家經濟、貿易和旅遊。民眾從自我做起，業者自律經營，配合政府一起為世界的食品安全盡力，期望建構消費者透明、友善與安心的消費環境。▲家事達人家事達人陳安祺分享食物保存5撇步。（圖／記者嚴云岑攝）陳安祺表示，清理冰箱5撇步包括定期清潔、注意保存溫度、生熟食分開、寫上購買日期以及先分裝再冷凍。若冰箱經常使用，可以每個月以小蘇打泡溫水與酒精進行內外擦拭，使用頻率較低者可拉長到每季清理一次。冰箱保存溫度也應避免過低，造成食物凍傷，冷藏應維持在0至7度，冷凍則要在-18度以下。食物分裝則建議使用有孔洞的籃子，生熟食分開裝，如果要堆疊的話，應謹記上熟下生原則，以免生食血水外溢污染食物。陳安祺也點出民眾保存食物盲點：反覆冷凍解凍，如此一來可能造成食物營養成分流失，或者酸敗不自知，她曾看過有人把粽子在冰箱「放十年」。建議買回來後先依個人或家庭食用份量，以夾鏈袋或保鮮盒分裝，並貼上日期再行冷凍。夏天採買時也要注意「冷鏈不斷」，尤其到市場採買時，可以帶著保冷袋裝食物，以免再回家過程就被炎日曬壞。\n",
      "2020/06/05 11:14 公益 大金空調捐贈國軍高雄總醫院50台空氣清淨機　守護醫療人員及病患健康 https://www.ettoday.net//news/20200605/1730573.htm\n",
      "▲和泰興業股份有限公司捐贈國軍高雄總醫院50台大金空氣清淨機，協助守護國軍醫院、醫護同仁及病患的健康。圖、文／大金提供新型冠狀病毒全球肆虐，各醫療院所、醫護人員成為防疫的重要環節，為善盡社會責任，和泰興業股份有限公司捐贈國軍高雄總醫院50台空氣清淨機，協助守護國軍醫院、醫護同仁及病患的健康，更藉此向辛苦的國軍醫護人員表達敬意和感謝。捐贈儀式在國軍高雄總醫院舉行，由和泰興業執行副總林鴻志代表公司捐出每台價值萬餘元、具有除菌抗病毒的大金空調空氣清淨機，並邀請陸軍第8軍團指揮官傅中將、副指揮官羅少將及該院醫護同仁共同見證，過程簡單隆重，氣氛溫馨。林鴻志表示，全國上下一心共同守護國人健康是最重要的事情，除守護民眾健康外，更要守護醫護人員健康，該公司希望回饋社會、回饋國軍官兵，讓國人都能呼吸純淨的空氣，健康快樂生活。「此次受贈的空氣清淨機，將全數用在門診、急診診療室及病房護理站，以發揮最大的效用。」高雄總醫院院長柯朝元少將表示，自新冠肺炎疫情爆發以來，醫院一直處於防疫的備戰狀態，不敢鬆懈，和泰興業熱心捐贈的善行義舉，令該院全體同仁士氣都受到鼓舞。柯院長指出，企盼藉由和泰興業的善舉能發揮拋磚引玉的效果，吸引更多善心人士及社團發揮愛心，為社會注入更多關懷。\n",
      "2020/06/05 11:13 影劇 安妮只穿白色內褲「大腿內側全看光」！　雙腳大開一字形…整片嫩肉磨出傷痕 https://www.ettoday.net//news/20200605/1730468.htm\n",
      "▸目睹醉酒女星被「輪流侵犯懷孕」！她改當主播...怪病纏身遭警告：罹癌不遠番努力，上個月終於拿到台灣的永久居留權。安妮五官精緻，擁有火辣高挑的身材，時常演出戲劇或是上綜藝節目，近日她愛上「鋼管舞」，勤練舞蹈動作，把大腿「整片嫩肉」磨到變紅，粉絲看了相當心疼。請繼續往下閱讀...安妮先前因為節目需求接觸鋼管舞，沒想到練出興趣，開始自己私下苦練，她經常將練習的過程PO在社群網站上和粉絲分享。近日安妮在IG上曬出練習影片，影片中可看到，她身穿紅色運動內衣，搭配白色三角褲，相當性感。安妮苦練鋼管舞，大腿內側磨到變色。（圖／翻攝自IG）一開始先背對鏡頭磨蹭鋼管，扭動性感翹臀，雙腳岔開成一字形，露出白皙大腿內側，該邊全看光。這段影片可以看到她大秀性感舞姿及翹臀，雙腿一岔開，有粉絲注意到她因為苦練動作，大腿內側有一大片肉磨到變紅，看了相當心疼。（圖／翻攝自IG）影片一出，粉絲們看到辛苦的安妮，紛紛留言「好辛苦」、「妳好厲害喔，安妮是我的女神」、「越來越厲害了」、「認真的女人最美麗」、「台上一分鐘台下十年功」」、「辛苦了，舞跳的越來越美了」、「辛苦了！會有成果的」。延伸閱讀\n",
      "2020/06/05 11:13 財經 股東會電子投票　「疫」戰揚名國際 https://www.ettoday.net//news/20200605/1729336.htm\n",
      "▲遇上武漢肺炎疫情來襲，金管會持續鼓勵投資人盡量以電子投票取代親自出席。圖、文／臺灣集中保管結算所提供每年五至六月，市場高度關注的股東大會陸續登場，國內外投資人都想透過股東會，表達對公司經營績效的支持與意見，但遇上武漢肺炎疫情來襲，即使國內疫情相對穩定，投資人參加股東會仍不免有室內群聚的擔心，金管會持續鼓勵投資人盡量以電子投票取代親自出席，據集保結算所統計，從4月份開始，大多數股東會現場出席人數僅約20人左右，可見國人對於防疫危機意識的提升。集保結算所朱漢強總經理表示，根據證交所統計，外資持有臺股比重已超過4成，集保以「國際化」為方針，持續擴大股東會外資股東的服務範圍，2014年起，分別與全球前二大的電子投票機構Broadridge（BR）、InstitutionalShareholderServices（ISS）建立合作關係，提供外資股東跨國投票直通處理STP服務。2019年外資STP電子投票行使權數比率高達92%，顯示STP服務已有效協助外資股東投票作業更加便捷與高效率。請繼續往下閱讀...儘管上述跨國投票STP服務或由保管銀行代理投票，已能使多數外資股東行使電子投票，然而仍有少數外國自然人或法人股東，因為未委託保管機構代理投票且沒有持有自然人憑證或網路下單憑證，致無法辨識其身分，以往僅能採取委託出席或親臨股東會現場方式來行使表決權，值此疫情蔓延期間，集保結算所特別於本（2020）年4月起，提供外籍無憑證股東得以向發行人申請身分認證碼（CN碼），作為身分認證登入之依據，並提供英文版投票畫面，使外籍股東也能在世界各國無障礙地使用電子投票參與股東會，一方面保障其股東權益，更重要的是可為防疫盡一份心力。集保結算所汪明琇經理表示，電子投票平台的中、英文雙語介面，不僅提供國內、外股東便利的股東權利行使管道，更展現臺灣資本市場邁向國際，追求公司治理的目標。本項提供外籍股東CN碼電子投票服務，自4月上線以來，已吸引了37家上市（櫃）、興櫃公司的外籍大股東申請使用，尤其是來臺第一上市（櫃）公司，對其外資大股東而言，透過電子投票參與股東會，除無須跨國移動冒感染風險外，更可親自表達對公司股東會議案之意思表示，可謂一舉數得。股東會電子投票平台「股東e票通」網址：https://www.stockvote.com.tw/evote/index.html，歡迎投資人多加利用。\n",
      "2020/06/05 11:12 3C家電 iPhone 12遲到成定局？　供應商博通CEO一句話曝玄機 https://www.ettoday.net//news/20200605/1730643.htm\n",
      "▲新一代iPhone機款是否會遲到一直是外界關注的焦點。（圖／路透社）記者王曉敏／綜合報導受到新冠肺炎疫情影響，新一代iPhone機款是否會遲到一直是外界關注的焦點，蘋果供應商博通（Broadcom）執行長陳福陽（HockTan）4日暗示，今年的iPhone推出時程可能較往年晚一些。《彭博》報導，手機製造商通常會在產品發表前幾個月開始訂購零件，以往蘋果會在9月發表新機，若遵照此時程，博通將在本季（截至7月）收到訂單。不過據陳福陽說法，今年情況可能有所不同。陳福陽4日在法說會上提及一家「北美大型手機」客戶的「重要產品週期延後」。過去陳福陽經常以這樣的方式暗指蘋果，據他的說法，這位客戶的產品週期延後，意味著博通原先預期的無線營收增長，將較往年晚一季發生。陳福陽表示，博通已經拿到了iPhone零件訂單，「只是時間的問題」。博通預期在今年第四季前不會看到營收激增，「我們預計第三季無線營收將較前季下滑。」這則報導可以說是間接證實iPhone將延遲的消息，與近來《華爾街日報》的報導及天風國際證券分析師郭明錤的預估一致。目前普遍共識是，蘋果將於今年10月發表iPhone12系列機款，不過若考慮陳福陽的說法，推遲至今年第4季可能性更高。＃不能只有我知道！過期票券爽換1.5倍東森幣\n",
      "2020/06/05 11:11 遊戲 樂高史上最狂聯名　LEGOx藍寶堅尼Sián FKP 37登台 https://www.ettoday.net//news/20200605/1730634.htm\n",
      "圖、文／ DigiMobee移動生活網LEGOTechnic每次推出新作都讓樂高迷眼睛為之一亮，今年樂高與Lamborghini合作推出備受期待的SiánFKP37車款。LamborghiniSiánFKP37在2019年法蘭克福車展首次亮相就引起高度討論，是藍寶堅尼史上第一款量產的混合動力Hybrid跑車，搶眼的尾翼讓樂高Lamborghini與日前釋出合作訊息後即引爆超高討論度。這款為LEGOTechnic樂高科技系列第三台「終極收藏家系列UltimateCollectorSeries」車款，由3,696片零件組成的LEGOLamborghiniSiánFKP37，如以往以1:8逼真還原實車原型、重現吸睛、辨識度極高的金色輪圈。並運用特殊萊姆綠消光霧面與亮面混搭配色、配上可完美展示駕駛座的經典剪刀門，不論外觀或內裝都精緻呈現車款細節，比車主們想像中更接近真實的模樣；除此之外，打開前引擎蓋，更能找到專屬於該部樂高LamborghiniSiánFKP37的獨有序號，成為超跑愛好者與樂高迷們的終極收藏品。LEGOLamborghiniSiánFKP37將於6月1日於台灣樂高授權專賣店(遠百信義A13)搶先首賣，並於8月1日全台開賣。建議售價：11999元。 \n"
     ]
    },
    {
     "name": "stdout",
     "output_type": "stream",
     "text": [
      "2020/06/05 11:11 政治 比照中央　7日起搭北捷、北市公車不再強制戴口罩 https://www.ettoday.net//news/20200605/1730618.htm\n",
      "記者陳家祥／台北報導新冠肺炎疫情趨緩，政府開始陸續解封、取消相關限制。交通部規劃在6月7日進一步鬆綁，大眾運具或場站入口處仍維持量體溫、戴口罩，進入後若可維持社交距離或有適當阻隔，可選擇是否繼續戴口罩。台北市政府5日宣布將同步實施鬆綁，可有條件免戴口罩。北市公運處長常華珍表示，4月4日開始搭乘公車捷運跟計程車全程強制佩戴口罩，交通部昨天公布6月7日部分鬆綁，大眾運具或場站入口處仍維持量體溫、戴口罩，進入後若可維持社交距離或有適當阻隔，可選擇是否繼續戴口罩。但中央也特別點出台北捷運叫難維持社交距離，因此進佔一定要戴，離峰若可保持社交距離可不戴。常華珍說，會比照中央，同步實施捷運、公車的鬆綁措施，會持續要求公車捷運跟站務人員、駕駛員量測體溫、配戴口罩，做好定時消毒工作。捷運入閘門、公車上車時仍要配戴口罩，站內、車廂內若可為持社交距離，可免戴口罩。至於如何檢視何謂適當距離？常華珍表示，差不多把手張開，若沒有碰到他人就算保持適當距離。副市長黃珊珊補充，中央因為疫情趨緩，所以不全程強制戴口罩，但進站閘口、上公車一定要戴口罩，開罰的重點會放在這邊。黃珊珊表示，中央只說能做到社交距離就可以不用戴口罩，讓基層很混亂，只能管上車跟進閘口，目前只能這樣，「今天之後在公車上不戴口罩就沒有處罰的問題」。\n",
      "2020/06/05 11:11 國際 殺意堅決！日開朗男大生成逆倫殺人魔　十字弓「箭箭爆頭」家人釀3死1傷 https://www.ettoday.net//news/20200605/1730473.htm\n",
      "▲日男大生持十字弓射殺家人。（圖／達志影像／美聯社、翻攝自推特）記者王佩翊／編譯日本兵庫縣寶塚市4日上午發生一起男大生以十字弓攻擊家人，造成祖母、母親以及弟弟死亡的案件，就連隨後趕到的伯母也中箭重傷。根據警方調查，現年23歲的嫌犯野津英滉先是掃射家中三名親人，之後竟還特地打電話叫住在附近的伯母到家中，等到伯母打開家門後，野津隨即向伯母射箭，可以說是殺意堅決，十分冷血。根據《每日新聞》報導，被害的親人有野津75歲的祖母野津好美、47歲的母親野津麻友美（音譯）、22歲的弟弟野津英志以及49歲的伯母野津百合江。事發後，祖母與母親傷重，被警方發現時已無生命跡象，送院後確定死亡，而身中兩箭的弟弟雖然隨即送醫搶救，但仍在4日晚間不治身亡。根據警方調查，受重傷的伯母表示，事發前野津突然打電話叫她到家裡來，怎知一到家中，馬上就被嫌犯攻擊，頭部中箭。據悉，伯母中箭後，連忙跑到隔壁鄰居家求救，才救回一命。據警方了解，案發現場並無打鬥痕跡，應該是野津突然發動攻擊。警方到場後發現，野津的祖母與母親頭部分別中一箭，而野津的弟弟頭部中了兩箭，加上伯母頭上的一箭，野津至少用十字弓朝4名家人射了5箭。而野津被逮後也坦承犯行，甚至絲毫沒有悔意地稱，「我就是要殺死全家。」據了解，野津高中時個性沉穩，說話語氣也很成熟，高中畢業後便考上神戶的一所大學。野津的一名國中同學表示，約莫4年前曾在加油站遇到剛好在那裡打工的野津，當時覺得他很認真，沒想到竟然發生這種事。而另一名野津的高中同學則表示，野津高中時曾加入足球社團，但是沒幾個月就退出了，他回憶道，「野津是個開朗體貼的孩子，對格鬥技有興趣，所以曾經學習相關技能。」►防疫期間也要一樣美麗！►二手票券豐富你的生活～\n",
      "2020/06/05 11:07 體育 中職／朱育賢停產全壘打王不保　蘇智傑、張志豪追很快 https://www.ettoday.net//news/20200605/1730640.htm\n",
      "▲朱育賢。（圖／記者李毓康攝）記者歐建智／台北報導樂天桃猿朱育賢打了17場比賽打出11支全壘打之後，全壘打就停了下來，反觀統一獅蘇智傑與中信兄弟張志豪近況正好，已追上朱育賢，朱育賢全壘打位置快要不保。朱育賢在開季首戰4月15日打出單場3轟，延長賽追平轟、再見轟，隔天4月16日再雙響砲，2場比賽5支全壘打平紀紀錄，隔了4場比賽，4月24日再雙響砲、25日再1轟，8場比賽8支全壘打破紀錄。請繼續往下閱讀...他在5月2日、3日各1轟，開季出賽13場、55打席、51打數就敲出十發全壘打，刷新中華職棒場次、打席、打數的最速紀錄。5月10日打出本季第11轟，再以17場比賽、74打席、68打數刷新季最快11轟紀錄。但朱育賢在5月10日之後，就未再有全壘打，到6月3日出賽為止，已連11場無全壘打，呈現低潮撞牆期。他在去年上半季也曾有連11場無全壘打，下半季一開始是連14場無全壘打，球季末則有高達連18場無全壘打。在朱育賢陷入全壘打停產期，統一獅蘇智傑從5月12日開始，12場比賽打出6支全壘打，目前已有10轟，只以1支之差落後朱育賢11轟。中信兄弟張志豪更猛，本來只有2轟，從5月13日起到6月3日已有7轟，今年也已有9轟，暫居全壘打第3名，有機會追上蘇智傑、朱育賢。►上網登錄過期票券　現賺1.5倍東森幣地表最強美白精華，夏日必備神物\n",
      "2020/06/05 11:07 財經 康和證去年賺0.47元　將持續深耕金融科技、拓展國內外債券承銷 https://www.ettoday.net//news/20200605/1730623.htm\n",
      "▲康和證券董事長鄭大宇（右）與總經理邱榮澄（左）。（圖／康和提供）記者陳心怡／台北報導康和證券今(5)日召開股東會，並表示雖然今年初爆發的新冠肺炎疫情增加營運難度，但康和將延續穩健經營的策略，聚焦核心事業，並以全面提升資訊科技能力，朝向金融科技服務發展為目標。未來亦不排除各種合作機會，透過策略合作夥伴互助互惠，提供投資人全方位的金融理財服務。受惠於台股集中市場與店頭市場表現亮麗，康和證券去年轉虧為盈，合併稅前淨利達3億846萬元、稅後淨利2億8836萬元，每股稅後淨利0.47元。子公司康和期貨去年獲利亦創新高，稅後淨利達9334萬元。當日股東會並通過配發0.33元的現金股息及0.07元的股票股利。請繼續往下閱讀...康和證券長期深耕金融科技，不斷在產品與服務上研發創新，去年獲得國家品牌玉山獎的肯定。康和證券董事長鄭大宇表示，康和積極轉型，以創新為核心策略，所投注的努力近年已逐漸開花結果。其中，為因應逐筆交易制度而自行開發的證券電子交易系統，以2毫秒的高速運算展現康和具備承接高頻交易客戶的實力；而響應普惠金融政策，康和推出的「自訂槓桿股權選擇權」創新商品，不僅滿足小資族購買績優高價股的需求，更讓投資人提前體驗盤中零股交易。在承銷業務方面，康和證券多次陪同主管機關，遠赴日本、越南、中國等地舉辦台灣資本市場上市上櫃說明會，積極推動優質海外企業來台上市櫃，獲得主管機關肯定。康和輔導的永固-KY已於5月20日順利掛牌上市，累計已成功輔導7家KY公司來台掛牌。債券業務方面，康和長期參與公債市場交易，連續6年榮獲優良中央公債造市商的肯定。今年預計將觸角拓展至國內、外債券承銷等業務，增加穩定的收益。子公司亦表現不俗。康和期貨去年度國內、外期貨與選擇權總業績量及海外期貨市占率皆顯著成長，全年獲利再創新高。康和投顧代理「KBI替代能源解決方案基金」今年再度榮獲傑出基金「金鑽奬」之「三年期天然資源股票基金」獎。除代表KBI深耕綠能產業、精準掌握投資契機之外，更凸顯康和投顧精選優質基金的深厚功力。鄭大宇表示，今年將持續聚焦核心事業，穩健經營，強化對於各業務及各事業體之執行成果的監督檢討，希望增加穩定收入，降低因風險投資報酬波動對公司損益之影響；此外，在強化獲利結構的同時，亦重視風險管理與合規遵法，嚴格要求各部門強化風控與合規。未來將繼續秉持「誠信、穩健、服務、永續」的經營理念，提供優質、專業、客製化服務，落實風險管理機制，提升公司營運體質與競爭力，以成為兩岸三地優質金融服務的標竿企業為目標而持續努力。►過期票券別浪費！簡單3步驟　教你搶救妙招\n",
      "2020/06/05 11:07 時尚 理膚寶水萬用霜特價299元必囤！網路傳說「爛臉救星」就是它 https://www.ettoday.net//news/20200605/1728965.htm\n",
      "▲理膚寶水的B5全面修復霜，有萬用霜的稱號。（圖／171cm_ryIG）文／C編工作壓力大、作息不正常，加上亂用保養品，因此肌膚很容易出現失衡的狀態，常常泛紅、出痘、脫皮或是有敏感狀態；網路上有一條傳說中的「爛臉救星」，不但舒緩敏感的肌膚，乾燥、粗糙、搔癢也能救，連嬰幼兒都適合使用，成了成份溫和的最佳證明，也有「萬用霜」稱號，不僅居家常備、包包裡、辦公室都該放一條。▲理膚寶水B5全面修復霜，40ml，原價480元、特價299元。點我購買。所謂「爛臉救星」，正是理膚寶水的B5全面修復霜，很少打廣告，卻在PTT、美妝公社爆紅，因為效果真的厲害，蘊含滿滿的維他命B5，可以修護臉部肌膚受到的傷害，溫和又單純的成分，不容易引起過敏，還可以幫助打造透亮平滑的肌膚。▲想要好肌膚都可以使用。（圖／jx.x_xIG）用過B5全面修復霜的人都覺得它相當厲害，可以說是化妝台上不能缺少的急救膏，像是肌膚敏感、有痘印困擾、醫美療程術後都可以塗抹，不僅能夠幫助肌膚保濕潤澤，還可以淡化肌膚暗沉，重現光彩亮麗，有網友就親自分享，「某天臉部皮膚乾燥脫皮，直接拿B5來塗在臉上，完全不油膩，隔天起床臉超亮亮亮亮！」不只愛美的女孩人人都有一條，連媽媽都要隨身攜帶，因為小朋友的尿布疹，也可以用它來修護，很快就可以舒緩泛紅不適，「真的好用，有寶寶必備」、「這條真的是媽媽的萬能修護霜」、「媽媽包外出必帶，小孩皮膚各種疑難病症一瓶搞定！」，網路上一面倒的好評，可見真的是受到很多媽媽的青睞。▲超萬用的全面修復霜。（圖／cherry_blossoms321IG）B5全面修復霜質地滋潤，建議可以在精華之後使用，作為保養最後一道的乳霜程序，除了可以幫助封鎖所有的精華成分，也能夠單擦呵護肌膚，一條就可以搞定全臉保養，非常實用又方便，而且無香味的設計，特別適合對香精敏感的脆弱肌膚使用。▼▼點我搶超低價▼▼▲理膚寶水B5全面修復霜，40ml，原價480元、特價299元。點我購買。\n",
      "2020/06/05 11:06 生活 端午「國道地雷路段」出爐！國5交通量翻倍「行車時間增7倍」 https://www.ettoday.net//news/20200605/1730635.htm\n",
      "▲端午連假國道車流多。（圖／高公局提供）記者李宜秦／台北報導端午連假將至，交通部高公局表示，國5連假期間交通量恐為平日2倍以上。南向南港系統至坪林、北向宜蘭至坪林等路段，部分時段車速將低於每小時40公里，行車時間將比平常增加5到7倍。高公局表示，近日疫情趨緩，交通部逐步放寬旅遊活動，預計今年端午連假國5將出現大量返鄉及旅遊車流，全日恐長時段將處於車多壅塞情形，建議民眾搭乘公共運輸，以免因壅塞而延誤行程。請繼續往下閱讀...高公局透過大數據分析，歷年國5連假期間交通量可達平日的1.5到2倍，且109年蘇花改已全線通車，交通量可能還會成長，預判109年端午連假6月25日及26日每日6到16時南向南港系統至坪林、6月26日15到22時、6月27日11到23及6月28日10到20時北向宜蘭至坪林等路段，車速將低於每小時40公里，行車時間將比平常增加5到7倍。▲端午連假國道管制措施。（圖／高公局提供）高公局表示，為疏導端午連假國5大量交通需求，將實施匝道儀控及尖峰時段分向高乘載管制(管制路段及時段如附圖)，惟高乘載管制時段內車流量仍超過路段容量，且高乘載管制前後時段，仍有大量非高乘載車輛之交通需求，南向往宜蘭方向之車潮一早即出現而回堵，北向往台北方向之車流則易壅塞至深夜才紓解，請排隊車輛耐心等候。為鼓勵民眾往返宜花東多搭乘公共運輸，減少自行開車，高公局於國5主線南下石碇至彭山隧道路段設有大客車專用道，北向宜蘭至頭城路肩機動開放通行大客車，石碇南向及宜蘭地區北向各入口大客車均不受匝道儀控管制，透過這些措施，搭乘國道客運較自行開車單程可節省半小時以上。\n",
      "2020/06/05 11:06 影劇 阿里山邪門秘境曝！23歲男誤闖「人間蒸發」　挖出百人大屠殺慘劇：當地人都說可怕 https://www.ettoday.net//news/20200605/1730613.htm\n",
      "記者田暐瑋／綜合報導「魔神仔」出沒於山區，最常拐走老人或小孩，但1998年發生一起外國少年爬阿里山，卻從此失蹤的詭異案例。當年23歲的魯本和5名台灣年輕人登山，卻在中途突然轉向，獨自前往另一條陰森路線，途中經過「千人洞」，是曾被血腥滅村的地點，之後當地人在樹上找到一條疑似是他的牛仔褲，一拉下來竟掉出滿滿骨骸，令人毛骨悚然。▲阿里山眠月線地勢陡峭。（圖／資料照／記者翁伊森翻攝）探險作家劉川裕在《新聞挖挖哇》分享魔神仔出沒個案，1998年一名23歲的紐西蘭少年魯本來到台灣爬阿里山，先搭了小火車到眠月站後，和另外5名年輕人一起前往「溪阿縱走」路線要到溪頭，卻在中途的交叉口表示要獨自行動，說著就轉往另一條通往豐山村的路線。請繼續往下閱讀...通往豐山的路上，會經過一處秘境叫做「千人洞」，當地人都知道這條路相當恐怖，千人洞在日據時期曾有一群抗日志士在此定居，共有18戶人家，附近則有鄒族原住民，但某天因為他們疏於防守，原住民趁著深夜進村，以「獵人頭」方式血腥屠殺近百人，宣告滅村，唯一的倖存者因為當晚在外過夜，才逃過一劫，此後這地方就常發生意外。▲23歲少年爬阿里山失蹤。（圖／翻攝自YouTube／新聞挖挖哇）魯本就在這段路途中失蹤，爸爸也立刻來台救兒子，找了一個熟知地形的山莊老闆上山協尋，沒想到就在千人洞附近的樹上掛著一條牛仔褲和畫有紐西蘭國旗的背包，認為應該就是魯本的物品，當山莊老闆爬上樹要扯下牛仔褲時，瞬間掉出一堆骨骸，而老闆也頓時頭一暈，之後就在山中迷路，老闆察覺不對，趕緊下跪拜拜，才終於找到出路。就在大家認為這些白骨應該就是魯本時，DNA結果出爐卻不是魯本，離奇發展讓人毛骨悚然，而過了22年，至今魯本還是找不到人，成了一起懸案。\n",
      "2020/06/05 11:05 財經 台化今召開股東會　副董洪福源：下半年景氣復甦情況還須觀察 https://www.ettoday.net//news/20200605/1730592.htm\n",
      " ►過期票券別浪費！點這邊...幫你搶救變身者余弦妙／台北報導台化今（5）日召開股東會公布108年度營收狀況，合併營收為3154億9906萬元，年減835億7518萬元，衰退20.9%；合併稅前利益為371億747萬元，年減248億5782萬元，衰退40.1%。台化副董事長洪福源表示，108年度營收減少主要原因為安排生產廠歲修較多及芳香烴三廠事故影響產量減少，不過除了事故外，主要還是因為中美貿易戰及新產能投產影響，市場觀望氣氛濃厚，石化產品價格大幅下跌，其幅度遠大於油價下滑幅度導致營利減少。請繼續往下閱讀...此外，洪福源也提到，108年國際經濟詭譎多變，且中東地緣正義衝突紛起等因素拖累全球經濟及貿易成長。而上半年石化產品市場需求延續107年的氣是有穩定成長情況，不過到了下半年中美貿易戰摩擦家大，特別是以大陸市場為主的台灣石化產業影響更大，大陸市場內需顯疲弱之際，石化產品價格也隨著油價下跌快速下滑，下游客戶觀望保守，導致第三季獲利下跌，第四季大陸石化又有新產能投入，市場需開始失衡呈現有量無價情況。展望未來，洪福源說，109年將鑒於108年芳香烴三廠異常事故的發生，因此推動人員、設備及環境改善專案，進一步達到安全生產目標，另外，在寧波已啟動新建年產20萬噸PIA及擴建苯酚廠油年產30萬噸提高到40萬噸，另外塑膠布在兩岸三廠的複合材料廠將擴充至13.2萬噸。此外，與台塑石化合資的美國路州石化廠已在今年初取得環評許可，將全力啟動興建。洪福源也提到，今年初全球接受到新冠肺炎疫情衝擊，各國為了防疫進而封城，導致消費市場衰退，在加上年初油價崩跌，使石油周邊產品跟著下跌，雖然OPEC已協議減產油價逐漸上升，且疫情也逐漸趨緩，不過對於下半年是否能恢復以往的景氣還有待觀察。\n",
      "2020/06/05 11:05 ET車雲 MINI未來不再「迷你」　首席設計師透露將打造更大尺碼的新車款 https://www.ettoday.net//news/20200605/1729963.htm\n",
      "▲MINI未來不排除推出尺碼更大的新車款，圖為Countryman。（圖／翻攝自MINI，以下同）記者游鎧丞／綜合報導英倫品牌MINI秉持著其造車原則，向來都以靈活流線、時尚都會的小巧外貌擄獲不少年輕消費者的芳心；不過這樣的現況，或許將在不久之後為之轉型；MINI首席設計師OliverHeilmer在接受外媒訪問時就坦承，為在市場銷售上尋覓突破點，品牌不排除將在Countryman之上，推出尺碼更大的跨界SUV車款。嗯……只能說看在實質的銷售營收上，MINI未來恐怕將不再「迷你」。▲日前MINI才正式發佈全新小改款Countryman。誠如先前所述，在接受外媒「AutoExpress」訪問時，MINI首席設計師OliverHeilmer就曾大方表示，即便Countryman佔品牌銷售近30％，但像是中國、美國這類市場，當地消費者對於中大尺碼的車款仍有高度需求；倘若考量到實質營收數字，MINI就不該侷限自己，要是能夠在整體設計上維持品牌風格，那麼推出一款尺碼更大的新車，並不會失去MINI本身的產品特質。但OliverHeilmer也強調，目前對於MINI設計團隊來說，在追求增加車身尺碼外，要如何提高整體車室空間的運用率，也是另一項重要的課題；以目前現行的Countryman來說，其長4,299mm、寬1,822mm、高1,631mm、軸距2,670mm的先天設定下，消費者仍普遍反應該產品並沒有相對應的空間機能；因此MINI一方面在構思新車款外，同時設法改善目前現行車款的空間運用程度。▲不過受限於外在條件影響，MINI或許將減緩新車開發速度。不過即便首席設計師如此規劃，但MINI目前恐得面對更為緊迫的現實經濟狀況，畢竟在新冠肺炎疫情、英國脫歐、BMW集團縮減成本的多項現實考量下，MINI日前就曾宣布，將先行延長市售車款的產品生命週期；這也意味著，未來一款新車想要大改款，恐將得先在市場上打滾個6到7年，這也是MINI為求降低研發成本所不得不為的必要舉措；因此未來想要看到更大的「MINI」？或許還有得等就是了……。►MINI首款電動車的輪圈和「新冠病毒」撞名！官方急改名撇清關係►MINICountryman內外精修小改款　別再叫它是英國「鄉巴佬」了\n",
      "2020/06/05 11:03 地方 為台南留下最後「熱血」　大億麗緻與南警六分局舉辦捐血活動 https://www.ettoday.net//news/20200605/1730622.htm\n",
      "台南市警六分局為歡慶6月15日警察節，與大億麗緻酒店於5日共同舉辦捐血活動，大億麗緻酒店雖將於6月30日熄燈，仍善盡社會責任，響應公益。市警六分局長陳建民表示，今年受疫情影響，捐血人數較以往還少，為避免血庫吃緊，於疫情趨緩時辦捐血活動，慶祝警察節，並結合捐血人潮，於現場設攤位進行反毒反詐等犯罪預防宣導。為配合防疫工作，本次捐血由大億麗緻酒店提供440位名額，採線上登記制，獲得民眾踴躍登記，預估捐血總袋數上看500袋。飯店提供粽情禮袋、池上米、環保購物袋等，作為捐血好禮；另外，一次捐血500cc或首捐族，加贈酒店限量馬克杯1對，警六分局並加碼前200名額，由峰智生技公司贊助的精美洗髮乳或沐浴乳1瓶。陳建民分局長為拋磚引玉，一馬當先第一位挽袖捐血，並率六分局2位副分局長、數十名警察同仁共同捐血。陳建民分局長表示，捐血不僅做公益，也促進血液循環、新陳代謝，有益健康，他自擔任外勤分局長20餘年來，捐血已超過146袋，捐出36500C.C.的熱血。陳分局長感性的說：今年的捐血活動，對走過19年歲月的大億麗緻酒店來說，是最後一次，也是他外勤分局長任內的最後一次！台南捐血中心表示，今年遇上疫情，血源較短缺，尤其每年五、六月梅雨季，連日鋒面豪雨，民眾出門捐血意願降低，所幸警察節捐血活動，解決血庫燃眉之急。警六分局表示：警察身負治安任務，是保民眾平安；在疫情嚴峻時，員警協助防疫工作，是盼民眾健康；而隨著疫情趨緩，協助防疫工作的員警旋即投入捐血活動，他們在警察節不但沒放假，反而挽袖捐血做公益，盼的就是社會健康、平安，也希望民眾熱血能一掃疫情陰霾，重新點燃希望與愛心。・卸妝膏：一罐卸全臉，回到家5分鐘就能躺著發懶\n"
     ]
    },
    {
     "name": "stdout",
     "output_type": "stream",
     "text": [
      "2020/06/05 11:03 消費 6/7大解封「賣場規定」先看！好市多維持1卡2人入場、家樂福體溫過高者不得進 https://www.ettoday.net//news/20200605/1730604.htm\n",
      "▲好市多自4月11起規定1卡只能2人進入賣場。（資料圖／記者陳涵茵攝）記者蕭筠／台北報導國內新冠肺炎疫情趨緩，已連續53天無新增本土個案，6月7日起各大場所防疫措施將逐漸解封，針對賣場是否也開放不戴口罩、進場量體溫部分，美式賣場好市多（Costco）表示，仍維持1卡限制2人入場措施，但會撤離紅外線機量體溫，而家樂福則說進入賣場之消費者仍須配合量額溫，超過37.5度、有嚴重呼吸道咳嗽症狀者，以及拒絕量測者依舊禁入。針對6月7日起是否將取消賣場相關防疫規定，好市多行銷企劃部副總經理王友玫表示，目前全台7店仍維持1卡最多2人進入賣場，主要為考量社交安全距離，並同樣建議民眾配戴口罩但不強迫，紅外線機部分則會撤離，不再測量體溫，但會要求員工戴口罩。至於賣場內提供的用餐區域配合政府維持社交安全距離，目前不會開放。▲家樂福維持「入場前量測體溫」規定。（資料圖／業者提供）家樂福量販也表示將維持「入場前量測體溫」規定，且消費者若額溫超過37.5度、有嚴重呼吸道咳嗽症狀者，以及拒絕量測體溫者，依舊禁止進入賣場，店內收銀台、自動結帳區域設立的「1公尺防疫間距」同樣暫不撤離；愛買則說配合政府防疫新生活，仍會勸導體溫過高者避免進入賣場，且建議民眾室內要戴上口罩。【你可能也想看】►好市多開賣中衛口罩「單片5.3元」！他秀發票曝「年前價格」網嘆：差好多⋯►快訊／家樂福買下頂好　連JasonsMarket全部併購►防三倍券鑽漏洞「退貨兌現」！家樂福不給錢只退券　好市多、全聯研擬中►我們的美麗就用白紙黑字寫下來\n",
      "2020/06/05 11:02 房產雲 「押金轉帳藏巨雷」3天後房東刁難：不給退　苦主曝1關鍵：會賴帳 https://www.ettoday.net//news/20200605/1730515.htm\n",
      "▲床有貓抓痕跡，房東突然不敢退押金！（示意圖／取自免費圖庫Pexels）網搜小組／劉維榛報導「請問這樣合理嗎？」一名人妻森77表示，日前退租房子時，過程中房東房仲都確認物品沒損壞，說好押金日後再轉帳歸還。結果3天後遲遲未入帳，原PO打電話訊問，房東回應床墊被有貓咪抓痕，甚至反過來要求賠償。文章曝光後，網友也氣罵「要看照片，抓的程度，折舊率，不太需要全負責！」一名女網友在臉書《爆料公社》抱怨，日前租下一間「超稀有釋出的友善寵物2房」，月租13500元，合約到期後，原PO與老公決定退租，豈料遇到房東百般刁難。原PO怒訴，5月底退租房子時，當天房東、房仲都有到現場點交，三方確定無損壞後，原PO將鑰匙歸還，就等押金入帳。結果等了3天都沒下文，詢問原因後，房東才表明「因為床墊有被貓抓的痕跡」，甚至要求賠償。「為什麼不能再當下點交的時候告知？」原PO嚥不下這口氣，氣憤直呼「等到我們一直詢問他要退押金了沒有，才來找一堆東西要我們賠？請問這樣合理嗎？想詢問大家意見？」文章曝光後，底下網友拳頭也硬了，「當然不合理。要我說，我可能會突然想起來，我也在房間某的地方藏了大約10萬的現金，現在不見了，煩請屋主退還」、「重點是有確認過，那間房已經出租給下一位房客了嗎？因為房東既然說是下一位房客提的，如果沒人租就等於詐欺」、「我的前房東也是這樣...退租時說了要壓4000元扣最後一個月的水電費，結果一個月後扣了1200元水電費，然後說了窗簾好像拉得不太順、環境好像有點不太乾淨，我其實也不知道該接什麼」。►加入房產雲，讓你買房不買貴，一起加入ETtoday房產雲吧▲苦主曝1關鍵：當場就要拿押金！（圖／翻攝臉書爆料公社）不少過來人建議，押金務必要當場退還，避免賴帳糾紛，「租屋退租清空整理好，請房東檢查，確定後再來談搬家之前的水、電、管理費算清給房東，押金錢就該當天要回來，不要讓房東拖延時間，因為拖越久就會找各種理由東扣西扣，扣到最後拿不回來，就算拿回來也只有幾千元」、「記得要簽寵物條款...如果貓抓的很嚴重就賠一組，點交完就當場立刻退押金，不要給他們方便事後才退，通常能凹就凹」。至於是否真的損壞嚴重？原PO事後在留言串回應，「貓咪有抓，但是只是旁邊有線條鬚鬚跑出來，可以修剪就好，只是我在意的是心態問題」、「昨天到現場了，後面懶得跟他爭議下去了，老人家（房東）就退一步，一人一半買一個全新的」。►買太多票券沒用完，該如何處理呢？\n",
      "2020/06/05 11:00 生活 原已辦好退休！疫情爆發…她「離院第2天」就後悔：我不想當護理界的逃兵 https://www.ettoday.net//news/20200605/1725619.htm\n",
      "▲護理師原本已辦理好退休，未料疫情爆發讓她重返崗位。（圖／護理公會全聯會提供）文／專科護理師劉千惠投入護理臨床工作30餘年，原本已經辦理好離職退休，想休息半年再二度就業其他工作，2020年春節卻事與願違，在春節前突如其來爆發的「新冠肺炎」，激起我在重症加護病房專科護理師的老靈魂，我不想這時候當護理界的逃兵。離開醫院的第2天，去新北市勞動局填寫了一份取消退休的申請單，休息2週後，從新北市醫院轉進台北市的醫院加護病房工作，繼續延續自己專科護理師的工作。請繼續往下閱讀...護理臨床30年與我相仿年齡的學姊妹們，都曾經歷了令人驚悚的921大地震、SARS爆發的緊急狀態、八仙塵爆…等重大意外事故，然而這種狀況從急診的檢傷分類到病人的運送，每一通病房呼叫鈴，醫院發生的999、333（急救或大量傷患），與醫院暴力事件到大小火災發生，我們是奔馳在第一線的護理師，也許我們會忽略家人或自己已是生病的軀體，但我們不會忽視評估任何一個發燒病人，我們也許常常失眠、頭痛，咖啡與止痛藥是我們的常備好朋友，但我們絕不會忽視每個病人的問題與主訴，總是想著如何緩解病人的痛苦。2020抗疫要贏！在中央流行疫指揮中心的領導下，我們有超前防疫計畫，在台北市新冠肺炎（COVID-19）的專責醫院工作，防疫工作從來不能輕怠與疏忽。從疫情發生到現在超過4個月了！從原先的6床到12床病房，到重症加護病房，在這裡我遇見了28年前工作於亞東紀念醫院青少年時代的5位護理師姊妹，每個人在不同的崗位上各司其職，工作的熱誠不減當年，那份工作的默契與革命情誼也在防疫的緊張臨床工作上，增加許多安全感與支持，如今我們臺灣不再是當年SARS發生時孤立無援的國家了！2020抗疫要贏！我們堅守崗位為防疫築一道銅墻，全國人民齊心團結就是堅不可摧鐵壁。在這30年的護理工作中，仍要感謝養成我與訓練我的娘家醫院（基督教花蓮門諾醫院）。辛苦了！2020抗疫要贏！護理師們，作在弱小的弟兄上，就是作在主身上，感謝主！\n",
      "2020/06/05 10:58 3C家電 「小米夏日祭」11日開跑　優惠品項由米粉決定 https://www.ettoday.net//news/20200605/1730621.htm\n",
      "▲小米台灣將於6月11日至14日舉辦「小米夏日祭」。（圖／小米台灣提供）記者邱倢芯／台北報導小米台灣宣佈，「小米夏日祭」優惠將於6月11日開始，且於今（5）日起至9日一連五天於小米台灣官方Facebook粉絲團舉辦五大類別優惠品項二選一票選活動，票數較高的品項將成為6月11日至14日「小米夏日祭」的主要優惠商品。另外，針對外界關心的振興三倍券優惠，《ETtoday新聞雲》記者也詢問小米台灣是否有相關的規劃；小米台灣指出，目前有針對7月15日將發行的振興三倍券研擬相關優惠，不過目前尚未有一個確切的方向，等到有確切方案後，會與大家分享。而針對這次的優惠品項，包含智慧家電類、智慧裝置類、耳機喇叭類、行動充電類與智慧攝影機類，官方於5日至9日於官方粉絲團中舉辦優惠品項二選一票選活動，票數較高的品項將成為6月11日至14日「小米夏日祭」的主要優惠商品，參與投票還有機會獲得500元現金券乙張。小米台灣表示，五組產品終極PK二選一項目，包含「小米空氣淨化器3」對決「米家手持無線吸塵器Lite」、「米家全景相機」對決「AMAZFIT智慧運動手錶2」、「小米藍牙耳機Air2」對決「小米戶外藍牙喇叭mini」、「20000小米行動電源3高配版」對決「小米無線車充」、及「米家智慧攝影機雲台版」對決「米家智慧攝影機」，兩兩捉對廝殺，票數較高者將於6月11日起至14日「小米夏日祭」期間享有驚喜超殺優惠價。同時，在小米台灣官方Facebook粉絲團上舉辦的五場投票均有參與者，還有機會抽中「小米夏日祭」現金折價券500元，買下你投票選出的熱門優惠商品。而「小米夏日祭」除了五項主要優惠爆品交由米粉與用戶們決定以外，也將祭出近60個品項直降、加價購組合、指定商品現金券、滿額贈等多項優惠。「小米夏日祭」期間，凡購買小米手環4折價新台幣200元，優惠價新台幣665元再贈專屬腕帶五選一；購買米家空氣淨化器Pro折價新台500元，優惠價新台幣6,395元；購買米家掃拖機器人1C折價新台幣500元，優惠價新台幣6,095元，更可以優惠價加購專屬周邊配件；購買小米AI音箱折價新台幣600元，優惠價新台幣895元；購買米家電動起子機折價新台幣150元，優惠價新台幣745元。►不能只有我知道！過期票券爽換1.5倍東森幣\n",
      "2020/06/05 10:58 房產雲 西門町「三明治屋」成奇觀！傳屋主拒都更慘被夾　專家曝重建恐無望 https://www.ettoday.net//news/20200605/1730594.htm\n",
      "▲西門町中興橋旁出現「三明治屋」。（圖／記者林裕豐攝）記者林裕豐／台北報導台北市西門町中興橋旁出現一棟三層樓的「三明治屋」，網友爆料屋主拒絕參與都更，隔壁新大樓蓋起來後，三角形的老房子剛好檔在門面，形成特殊景象，不過專家分析，由於基地面積太小，幾乎沒有都更可能性。網友在臉書社團《路上觀察學院》po文「神奇的超薄房子」好奇「一樓雖然是騎樓，但二三樓這個尖角還是有使用空間，不知道裡面長怎樣」，照片是一棟三角形的矮樓房，距離隔壁大樓一公尺，比社交距離還要近，網友反應熱烈「昨天才去這間房子對面的石頭火鍋用餐，我ㄧ直以為他是招牌看板！驚！原來是房子」。也有網友認真討論「這棟樓的產權不只一人，旁邊新大樓原本要找屋主一起都更，但是談不攏」「很可能是收購價格談不攏」，但討論到後來整個歪樓「非常適合被洪瑞真三明治購買下來」「三明治房子賣三明治，很可以」。▲「三明治屋」引發網友熱烈討論。（圖／翻攝《路上觀察學院》）記者實際走訪，「三明治房」剛好擋在新大樓的路口，附近住戶表示，隔壁新大樓當初要蓋的時候，建商想要一起都更，買下一樓，不過後來樓上的屋主還是拒絕「建商不等了，就自己蓋」。東森房屋東門加盟店店東張劍晴表示，三明治屋基地面積太小，錯過和隔壁大樓的都更後，幾乎沒有都更的可能。張劍晴說「都更靠緣分，很多時候為了談更好的條件，錯過了就沒機會，到時候想要再處理，困難度非常高」。▲「三明治屋」距離隔壁大樓僅一公尺。（圖／記者林裕豐攝）\n",
      "2020/06/05 10:58 生活 新北單親媽開店「整天只賣2碗湯」！網見菜單「點破致命傷」：會不想走進去 https://www.ettoday.net//news/20200605/1730543.htm\n",
      "▲潘媽媽投入50萬積蓄所開的小吃店。（圖／記者陳雕文攝）記者張嘉晏／綜合報導本站4日報導《單親媽砸50萬積蓄開店　每天經營18小時只賺60元…她淚喊：請大家給我機會》，文中提到，新北市永和區的潘媽媽砸了50萬積蓄開店，卻因為生意冷清，還要撥時間賣烤地瓜才能勉強生存。不過PTT網友看完後，紛紛點破店裡幾點「致命傷」，掀起一陣討論。53歲的潘媽媽多年前離婚，雖曾擔任證券營業員，但業績一年比一年差，後來乾脆全職投入賣烤地瓜。她省吃儉用後存了50萬積蓄，終於開了一間小店賣水餃、涼麵和甜品等，想就此安定下來，不再因為路邊攤被檢舉開單。請繼續往下閱讀...▲潘媽媽用心製作蕎麥涼麵。（圖／記者陳雕文攝）然而情況卻沒有因此好轉，潘媽表示，開幕沒多久她就遇到新冠肺炎，生意一落千丈，有時一天只賣2碗酸辣湯，進帳60元，背後還有4萬元房租要繳，生活壓力壓得她喘不過氣，只得在空檔時間又外出擺攤。▲潘媽媽店內菜單。（圖／翻攝PTT）消息傳回PTT上，雖有部分網友表示潘媽餐點、烤地瓜味道都不錯，但價格實在偏貴，像是高麗菜水餃一次就要點10顆，一份85元，無法依照自己的食量點，較沒有彈性空間。網友抱怨水餃不僅CP值打不贏便當，和連鎖餃子店的基本款比也貴上很多，「沒看過水餃菜單是破百的，看到都不想吃了」、「素水餃一顆還12元，貧窮果然限制了我」、「看到高麗菜鮮肉水餃價格我就不想走進去了」。第二點網友說，既然潘媽的招牌菜是涼麵，應該就要把涼麵放在菜單的左上角，讓人第一眼就看到。還有人建議她專注做鹹食或是甜品擇一就好，如此一來不必再準備這麼料，最後都用不到，「如果只單賣甜品說不定生意還比較好」、「品項太雜、庫存太多，人少我會不想吃，因為感覺不新鮮」。►過期票券復活成東森幣了！ \n",
      "2020/06/05 10:58 社會 最後身影曝！承翰爸不願叫救護車　暴瘦忍痛「堅持走進醫院」…狂吐2次血亡 https://www.ettoday.net//news/20200605/1730519.htm\n",
      "記者翁伊森、陳韻如／嘉義報導鐵路勇警李承翰為了保護車上乘客，遭到鄭姓男子持刀刺殺身亡，而鄭嫌一審被判無罪。李父得知消息後難以接受，決心替兒子上訴到底，孰料，李父還沒等到判決結果，4日晚間就因胃出血加上案情纏身抑鬱而終，家屬悲痛欲絕。據李家居住地的里長表示，李父堅持不願叫救護車，而他協助就醫後，李父也堅持自己走進醫院，沒想到出來的卻是冰冷遺體，也讓他相當難過。▲李承翰父身體不適卻不願叫救護車，堅持走進醫院，孰料卻因為嚴重胃出血於4日傍晚病逝。（圖／記者翁伊森翻攝）對於鄭嫌判決結果出爐後，李承翰的父親李增文難以接受，卻是默默地將所有打擊、悲傷全往肚裡吞，不願告訴家人，這段時間以來，他成日鬱鬱寡歡，就連身體出狀況也不肯告知，導致其胃出血的症狀因此加重，最終於4日傍晚離世。▲里長劉丙伍協助李父就醫，但當他再次聯繫家屬時，就接獲病逝消息，讓他難過表示，「明明還好好的」。（圖／記者翁伊森翻攝）李家居住的嘉義市芳草里里長劉丙伍表示，李父4日上午身體不適，但卻堅持不願叫救護車，原本打算與李母搭計程車前往醫院，而里長見狀，立刻協助送醫。劉丙伍回憶，「他當時都還好好的，還自己走進醫院」，沒想到進了醫院後，就發現李父胃部嚴重出血，還吐了2次血，直到4日傍晚，他再次與李家人連繫後，就接到病逝消息，也讓他相當難過與不捨。►欸~妳過來一下！妳過來一下【更多新聞】強忍病痛為兒討公道…承翰爸爸鬱悶吐血亡！黃敏惠靈堂上香：盼李媽媽保重被徵做「口罩國家隊」！竟利用面膜當掩護　另闢口罩產線…業者見檢方上門臉綠假VIP上網賣柏金包！貴婦砸「800萬」想買　空手而回怒告…她喊：是她先勒索我\n",
      "2020/06/05 10:58 社會 影／桃園汽車工廠凌晨大火  近百勇徹夜灌救幸無人傷亡 https://www.ettoday.net//news/20200605/1730508.htm\n",
      "記者沈繼昌／桃園報導桃園市桃園區莊敬路1家鐵皮汽車維工廠5日凌晨傳出大火，現場因堆放大批雜物導致火勢延燒迅速，桃園市消防局出動近百名消防人員全力灌救，所幸因深夜無人在廠房內沒有造成人員死傷，大火在清晨4時許被撲滅，但一樓廠房已付之一炬，火警發生原因與損失尚待鑑識調查。▲桃園市桃莊敬路一家鐵皮汽車維修廠5日凌晨大火，消防局出動99名消防人員灌救。（圖／記者沈繼昌翻攝）桃園市消防局指出，火警發生在5日凌晨1時54分，起火地點位於莊敬路2段上的一家1層樓鐵皮汽車維修工廠，消防局第一大隊出動警95名、義消4名共99人員、32輛各式消防車輛前往搶救。▲桃園市桃園區桃莊敬路鐵皮汽車維修廠5日凌晨大火，消防人員全力搶救。（圖／記者沈繼昌翻攝）大火燃燒地點堆積大批汽車維修零件與雜物，導致火勢蔓延迅速，消防人員以強力水柱灌救廠房，避免延燒至附近民宅，還好火警發生時，廠內並無人員受困，火勢在3時許被控制，清晨4時5分被撲滅，但500餘坪汽修廠已燒毀，起火原因仍待進一步調查釐清。►「即日起，我退出老化黨。」【更多新聞】►人夫偷腥被正宮告　夥同小三小四找檢察官想解套！繳51萬元遇到冒牌貨►防疫當前媒合社會新鮮人就業　新生醫專就業博覽會人氣不墜►視察桃機北跑道刨鋪工程　林佳龍：安心國旅補助反應熱烈將再加碼\n",
      "2020/06/05 10:57 生活 鐵路警老父親鬱悶離去！PTT、臉書全爆氣　矛頭全指法官：判決跟殺人無異 https://www.ettoday.net//news/20200605/1730512.htm\n",
      "▲刺死鐵路警察李承翰，鄭男一審獲判無罪。（圖／記者翁伊森翻攝）網搜小組／鄺郁庭報導鐵路警察李承翰為保護台鐵乘客，遭鄭姓兇嫌持刀刺殺身亡，而鄭嫌一審被判無罪。李父從判決後的36日裡，終日鬱鬱寡歡，4日上午因胃出血到醫院就醫，胃鏡一照全是血，急救後仍不治。消息一出，掀起各社群平台撻伐，網友紛紛狂批法官判決殺人，「審判長的判決殺了李父。審判長和持兇刀殺人的兇手無異。」在鄭男獲判無罪後，李父曾對媒體表示，「殺人的人竟判無罪，我兒子比什麼都不如」。李母透露，自從兒子遭到鄭嫌刺殺後，夫妻倆心中悲痛萬分，李父本就腸胃不好，但為了替兒子討公道，仍是強忍身體的病痛每日奔波，無奈一審判決結果與期盼落差太大，聽聞鄭嫌無罪的當下，李父無法接受，將所有的打擊、悲傷全都強忍在心裡，自判決後的36天裡，李父終日鬱鬱寡歡、沉默少言，胃出血的病情也因此加重。請繼續往下閱讀...李父於4日傍晚離世的消息一出，網友也氣憤不已，爆料公社管理員就以「警察得不到應有的保障，父母該有多悲痛」為題分享這則悲聞，其他人紛紛在底下留言，「真是人間悲劇」、「我們的法條有問題，大家一起來要求修法吧」、「反正台灣已經夠亂了，建議研擬裁撤司法院，現在的司法院對台灣只有困擾，沒有功能。」▲李承翰父親抑鬱過世，讓外界也心疼不已。（圖／記者翁伊森攝）許多人則是大批法官判決，「台灣法官真的考慮可以全換了，太爛太麻木不仁」、「這是判決殺人。審判長的判決殺了李父。審判長和持兇刀殺人的兇手無異」、「恐龍法官，悲哀，真希望有天精神病患能遇到法官」、「法官這樣算間接殺人犯嗎」、「殺童、殺警免死金牌，自衛有罪，到底是什麼法官，法律是保護畜生、人渣、垃圾，天理何在！到底誰可以保護好人？」PTT鄉民更是直酸，「文組法官：請舉證是因為判決造成鬱悶而亡」、「兩條命了」、「吐血而亡。法匠看看你們的傑作」、「好好一個家變成這樣？媽媽怎麼辦」、「只有在要選舉才會想做事，其餘時間都在演戲」、「曾經我以為抑鬱而終吐血身亡只是小說上的詞藻，現在……唉」、「明天下雪我也不意外了」、「這司法，這法官……搞得我們也都快吐血了」、「法官這業報算你的。」不少人也指出，思覺失調症不代表會殺人，認為判決比例有問題，也汙名化許多精神病患者，「我覺得醫生說的沒錯，他確實鑑定出嫌犯有精神異常！我只是好奇，為何精神異常者要免責？精神異常殺人，更該死刑不是嗎」、「能理解因精神病所以判決會有不一樣，但去你X的無罪是殺小。」\n",
      "2020/06/05 10:57 國際 把朋友砍成肉醬！ 45歲大媽冷血虐殺　滿身血喝咖啡坐等警察到場 https://www.ettoday.net//news/20200605/1730506.htm\n",
      "—DailyMirror(@DailyMirror)June4,2020記者吳孟臻／綜合報導烏克蘭羅波基夫卡（Loboikivka）1日發生一起駭人的謀殺案。45歲的女性娜塔莉亞（Natalia）涉嫌虐殺60歲的朋友瓦希里（Vasily），在警方抵達現場時，她滿身沾染被害者的鮮血，悠哉地坐在板凳上抽菸、喝咖啡，冷血行徑讓人不寒而慄。據了解，兩人本來在家裡開趴狂歡，黃湯下肚後兩人發生口角。娜塔莉亞先用菜刀多次砍殺瓦希里，接著再用斧柄把對方殘殺成血肉模糊的模樣。兇嫌毆打、折磨被害人整晚，直到確定對方斷氣才報警。當警方到達現場時，看到前院滿是鮮血，娜塔莉亞則是坐在門廊，血跡沾滿身體和雙腿，悠悠哉哉地享受早晨第一杯咖啡跟第一根菸。警方看到瓦希里殘缺不全的遺體後，對娜塔莉亞的冷血感到驚駭不止。娜塔莉亞冷靜地向警察交代整晚的殺人細節，對謀殺坦承不諱，但不記得發生衝突的原因。當地報導指出，娜塔莉亞16歲的女兒目睹整起謀殺案，現在已被安置在孤兒院，接受專人的心理輔導。隔壁的鄰居黛安娜（Diana）向媒體透露，「他的頭皮被剪掉一塊，而且嘴裡被塞入麵包，讓人聽不到他的求救聲」。警方表示，瓦希里遭虐時其實活著，代表生前遭受殘忍至極的折磨，直到嚥下最後一口氣。鑑識組在被害者頭部跟身體發現多處菜刀砍傷的傷口。警方發言人斯塔切夫斯卡（HannaStarchevska）指出，娜塔莉亞將被送到精神病院檢查，如果罪刑確定，將面對最高15年的刑期。鄰居表示，娜塔莉亞出現酗酒問題前，曾擔任過當地的郵局局長，是個受人尊敬的女性。►13歲少女和大叔私奔　睡夢中遭父親「鐮刀斬首」榮譽處決►報復前妻！冷血爸勒昏2孩　「往嘴灌建築泡沫」確保死透►防疫期間也要一樣美麗！►二手票券豐富你的生活～ \n"
     ]
    },
    {
     "name": "stdout",
     "output_type": "stream",
     "text": [
      "2020/06/05 10:56 社會 主任檢察官慰問「案件上會努力」！李母泣：拜託了，我沒力氣像承翰爸每次都到 https://www.ettoday.net//news/20200605/1730597.htm\n",
      "▲嘉義地檢署主任檢察官蔡英俊前往靈堂慰問，交予慰問金2萬元。（圖／記者白珈陽攝）記者翁伊森、白珈陽、莊智勝／嘉義報導鐵路勇警李承翰爸爸不堪愛子殉職打擊，4日傍晚抑鬱而終。嘉義地檢署主任檢察官蔡英俊5日上午前往承翰爸靈堂上香，並交付慰問金2萬元給家屬。蔡英俊輕拍承翰媽媽肩膀表示慰問之意，同時承諾「案件上我們會努力」；承翰媽聞言後也語帶哽咽地表示，「拜託你們了，因為我沒有力氣像他（承翰爸）每次都去……。」蔡英俊表示，檢察長昨晚接獲噩耗後特別關心，但因今日有要事需要處理，無法親赴靈堂致意，所以特別指派他到場上香，並交付慰問金2萬元給家屬，「檢察長特別指示，就上訴部分，要承辦檢察官與二審檢察官密切合作，希望在二審時能夠還給李承翰、及其家屬一個公道，希望二審能夠逆轉。」談起承翰爸，蔡英俊說，一審開庭時就有檢察官回報，李爸爸每次都會親自到場，對於這件案子非常關心、執著，「這部分，我們也希望祂現在能夠放下，後續就交給我們，對於相關事證，我們會在法庭上積極舉證，我們會努力。」【更多新聞】►最後身影曝！承翰爸不願叫救護車　暴瘦忍痛「堅持走進醫院」…狂吐2次血亡►「我的心肝兒子！」92歲承翰阿嬤拄拐杖、望子遺像痛哭　家屬急攙扶離場▼蔡英俊希望承翰爸爸能夠放下，「後續就交給我們，希望二審可以逆轉，還給家屬公道」。（圖／記者白珈陽攝）\n",
      "2020/06/05 10:56 財經 謝金河：台灣下一個亮點產業　資安商機！ https://www.ettoday.net//news/20200605/1730615.htm\n",
      "財▲財信傳媒董事長謝金河。（圖／記者湯興漢攝）財經中心／台北報導財信傳媒董事長謝金河，昨（4）晚在臉書發文，建議大家可以把一部分的焦點用來研究台灣的資安產業。他在臉書發文指出，在台灣的520前後，中油，台塑化，連總統府也遭到駭客入侵攻擊，資安成了台灣眼前最重要課題。這次小英總統在第二任的就職典禮致詞，核定了國家六大核心戰略產業，這其中，第二項就是結合五G及數位轉型，全力發展國家資訊安全產業，也就是資安即國安。請繼續往下閱讀...謝金河說，過去小英總統經常提到5加2產業，離岸風力發電是小英上任後全力推動的大案，這回是資安，很可能成為下一個可以奔馳十年以上的產業。謝金河說，兩年多前，曾組考察團到以色列訪問，參觀了Checkpoint及Mellnox等，都是重量級資安企業，今年Nvidia把Mellnox併購下來，股價大漲，可以想見資安產業已成科技大廠的重要拼圖。這次疫情重創資本市場，但資安相關的Splunk，Fotinet及ISE資安指數都大漲且創新高。台灣一直是資訊硬體大國，在資安產業的發展相對落後，但台灣有人才，軟硬整合的優勢，這次再加上政府的助力，這個發展勢頭已擋不住。謝金河指出，過去台灣有很多系統整合公司，過去規模都不大，但這些年成長力道加大，精誠資訊去年營收已達220億元，聚碩也到123億元，這些系統整合服務平台都逐漸變大，為了加快腳步，今年精誠資訊入股資安專業廠晉泰，佳世達直接參股聚碩35.04%，工業電腦巨擘研華入股東元集團的東捷資訊。此外，宏碁電腦則是把旗下純資安的公司安碁資訊分割上櫃，股價一度大漲到252元。這些資安公司目前資本額都不大，市場也從來沒有人注意這個產業，這些系統整合廠過去本益比都在10倍上下，如果資安是未來明日產業，這些企業未來成長空間不可限量！\n",
      "2020/06/05 10:55 體育 拿槍抵頭逼問前女友「和那男的做多久」　前道奇明星外野手遭逮捕 https://www.ettoday.net//news/20200605/1730609.htm\n",
      " ►上網登錄過期票券　現賺1.5倍東森幣地表最強美白精華，夏日必備神物大聯盟明星外野手克勞佛(CarlCrawford)家中才驚傳命案，今他又因涉嫌在5月對前女友家暴，遭到警方逮捕，近來多次登上「社會版面」。克勞佛5月在家舉辦派對，沒想到卻傳出命案，一名5歲男童在游泳時，突然感到呼吸困難，負責照顧他的女子立刻跳下泳池營救，但兩人未能躲過死劫，雙雙溺斃，在被送往醫院途中就已宣告死亡。請繼續往下閱讀...才沒過多久，這位退役球星又出現在大家眼前，據《TMZ》報導，這位自稱克勞佛的前女友表示，克勞佛在5月8日帶著槍到她的住處，試圖解決分手問題，沒想到對方才一到現場就拿槍抵著她的頭，逼問他與另外一位男子認識多久、是否發生過性行為。前女友試圖逃離現場，卻被克勞佛推倒，還抓住頭髮往牆上撞，後來因為1歲女兒出現讓克勞佛分心，她才能趁亂逃走，克勞佛隨後也離開，不過槍枝還留在現場。克勞佛今遭到逮捕，保釋金1萬美元。38歲克勞佛大聯盟生涯15年，4度入選明星賽、奪得1座外野金手套獎，以及4度榮登美聯盜壘王，但他自2010年和紅襪簽下7年1.42億美元肥約後，表現不符身價，被網友戲稱「薪水小偷」，生涯後期轉戰道奇隊，成績也未見起色，2016年離開職棒圈。\n",
      "2020/06/05 10:55 旅遊 「基隆觀光巴士」6/6起試營！250元一日券玩翻熱門打卡點 https://www.ettoday.net//news/20200605/1730605.htm\n",
      "  基隆觀光巴士」6/6起試營運，6月6日至7月5日期間限定一日乘車券250元。（圖／基隆市政府提供）記者彭懷玉／綜合報導考量到疫情趨緩、暑假將至，基隆市政府去年推出的郵輪觀光巴士更名為「基隆觀光巴士」，路線行經旅遊服務中心、基港大樓、正濱漁港、和平島公園及海科館，1日玩遍基隆人氣景點，6月6日至7月5日周末進行試營運，原價350元的一日乘車券，期間限定特惠250元。▲和平島公園。（圖／記者彭懷玉攝）基隆不像台北大眾交通運輸發達，無車族想深度遊覽各景點頗有難度，善用大眾運輸工具及套票也是超值方法。2019年7月推出的全國首創郵輪觀光專車，今年增加營運模式，並改名「基隆觀光巴士」，在國際郵輪暫時無法搭載外籍旅客來台之際，主打國內旅客市場，採預約制及深度遊程體驗，打造安心旅遊環境。▲基隆正濱漁港彩虹屋。（圖／記者湯興漢攝）新推出的DRTS需求反應式公車預約服務，民眾只要在出發前三天購買乘車一日券並上網預約即可搭乘。今年更分為東岸線與西岸線，不管是想前往東岸正濱漁港、潮境公園逛美景打卡拍照，或是前往情人湖及大武崙砲台來場深度探索之旅，都可以一票搞定。▲情人湖。（圖／基隆市政府提供）配合交通部觀光局安心旅遊政策，觀光巴士將先以國旅DRTS路線為優先進行營運推廣，以郵輪式公車搭配隨車導覽人員為旅客提供完整的旅遊服務。一日乘車券原價350元，擬於109年6月6日至7月5日之周末進行試營運，計11天共21班次，期間一日乘車券特價250元，且無最低搭乘人數限制，自西岸旅遊服務中心出發後，沿途停靠正濱漁港、和平島公園、海科館（潮境公園）、松浦社宅，最後於廟口夜市結束行程，全程約5小時。【你可能也想看】►台東5大打卡點搶先看！「縱谷大地藝術季」開跑騎單車遨遊最美大道►賞金黃稻海最佳視角！台東絕美「天堂鞦韆」　看一望無際池上稻浪►雄獅搶頭香！「三倍券變六倍券」千家飯店皆能用、下殺3至4折►2.2折、現省萬元！北市「3間溫泉及五星飯店」解憂煩悶心情\n",
      "2020/06/05 10:53 國際 拉斯維加斯賭城重啟！醫護團隊待命...美高梅入住率達三成 https://www.ettoday.net//news/20200605/1730518.htm\n",
      "▲賭城拉斯維加斯6月4日重新開放。（圖／路透，下同）記者康心禹／綜合報導美國內華達州拉斯維加斯賭場（LasVegas）自3月18日起因新冠肺炎疫情關閉後，將於當地時間6月4日開始，在採取多項防疫措施下局部重新開放，包括入場前要量體溫、戴口罩，骰子要消毒，以及限制每張賭桌的人數等。綜合外媒報導，拉斯維加斯的部分賭場在4日零時重開前，已有數十人排隊輪候入內。一名賭場老闆表示，過去幾個月對拉斯維加斯來說是前所未有的挑戰，非常期待員工回來工作，很歡迎來自世界各地的客人。據內華達州博彩委員會釋出新的營業規則，所有賓客入場前一律都得量測體溫，而且營業場所隨時必須要有醫護團隊待命，若發現賓客身體有異樣，也必須有指定區域可以進行新冠病毒的快篩檢測。另外，賭城開放後必須遵守的規則包括，酒吧不提供餐點服務、禁止SPA及按摩服務、禁止人體彩繪及穿洞等、禁止使用健身房及設施。拉斯維加斯會展及觀光局總裁兼營運總監希爾（SteveHill）表示，賭城整體酒店入住率為兩成，較業界預期佳。而美高梅度假村（MGMResorts）的入住率更達到三成。\n",
      "2020/06/05 10:52 大陸 才剛推禁飛制裁　路透社曝「美國要改口了」：容許中國民航復飛 https://www.ettoday.net//news/20200605/1730578.htm\n",
      "▲美国或将修改禁令。（示意圖／路透社）記者鄭思楠／綜合報導路透社引述華府官員及航空公司的消息指，美國運輸部計畫調整政策，在未來幾天發布修訂的禁令，容許中國航空公司的民航機可以繼續往來美國。不過，運輸部並未就報導作出回應。報導指，此一轉變將使美國航空公司得以自6月8日開始恢復每週一次飛往其選擇的城市的航班，但仍遠少於美國政府所說與中國的航空協定所允許的航班數。美國政府在星期三（3日）曾指，北京違反中美的航空協定，仍未批准美國航空公司恢復往來中國的服務，所以由今個月16日起，禁止包括國航等6間中國航空公司的飛機飛往美國。大陸《環球時報》指出，禁飛目前涉及到包括中國國際航空、首都航空、東方航空、南方航空、海南航空、廈門航空等多家航空公司。隨後，中國民航局昨（4日）晨公布調整民航政策，將放寬為阻止新冠肺炎輸入風險的限制，下周起所有未復飛中國的外國航空公司，可以選擇一個具備接收能力的口岸城市，每週運營一班國際客運航線。►戴口罩也要記得保養\n",
      "2020/06/05 10:51 軍武 穿「飛鼠裝」潛入作戰　「三大致命缺點」成阻礙 https://www.ettoday.net//news/20200605/1730596.htm\n",
      "▲電影《紅海行動》中，士兵身穿飛鼠裝進入敵區。（圖／翻攝電影紅海行動）記者曾俊豪／綜合報導電影《紅海行動》中，蛟龍突擊隊隊員以「飛鼠裝滑翔」的方式進入戰場，讓外界好奇，這個模式究竟離實戰有多遠？大陸《解放軍報》發文指出，任何具有軍事潛力和戰術優勢的新興事物都有可能被用於作戰，但目前來看，安全性、訓練成本以及功能性重疊等三個主要原因，讓飛鼠裝仍無法投入實戰。《解放軍報》5日以「翼裝飛行距離實戰還有多遠」為題刊文，當中所指的「翼裝飛行」即是台灣所稱的飛鼠裝滑翔，文中直接點出「飛鼠裝滑翔」距離用於大規模作戰目標還很遠。報導歸納三個重點，首先是「飛鼠裝滑翔」的安全性得不到充分保證，此飛行模式風險性很高，從事此類飛行的運動員堪稱「刀尖上的舞者」，以目前的條件和水平，還無法確保能完全規避其中的風險。其次，是培訓成本太高。從事「飛鼠裝滑翔」運動的門檻，號稱是500次以上的高空跳傘，但要用於作戰，僅「入門」肯定不行，必須達到「精通」的程度，要精通這項技能，必須進行更多的訓練。然而，這些經歷和訓練，勢必得用驚人的經費投入和飛機出動架次來換取，過高的成本，則會讓軍隊對其進入日常訓練和大規模作戰「說不」。最後，「飛鼠裝滑翔」雖然有一定的軍事潛力和戰術優勢，但其功用並非無可替代。報導指出，隨著隱形技術的發展與應用，直升機已經能夠輕而易舉完成兵力投送任務，達到「飛鼠裝滑翔」的突襲效果。▲大陸《解放軍報》提出三大原因，分析飛鼠裝滑翔無法實戰。（圖／翻攝電影紅海行動）文章強調，「飛鼠裝滑翔」還有一個巨大缺陷，就是無法負重，將導致作戰的士兵必須赤手空拳深入敵後，這一點對空降突襲作戰來說是不可想象的。不過，文章也提到德國特殊降落傘和物流聯盟研發的「獅鷲・下一代降落傘系統」，這種降落傘系統的主體構成之一就是准硬殼式飛翼，它的機翼和機身內，有用於放置武器裝備和物資的空間，降落傘背包也集成在翼身之內。這套系統空重約30公斤，翼展比為5∶1，使用者從高空跳下，能夠滑翔15分鐘以及40公里左右的距離。此外，「獅鷲」降落傘系統的部件還包括導航系統、供氧系統和帶顯示器的頭盔，讓它能較容易實現「高跳高開」、「高跳低開」等飛行和傘降方式，增加飛行隱蔽性和安全性。報導強調，目前研發公司還計劃為「獅鷲」降落傘系統安裝微型渦噴發動機作為動力，照此方向發展，若「飛鼠裝滑翔」的的安全性、成本問題能夠解決，在未來的軍隊日常訓練和作戰中，或許真能看到「蝙蝠俠」現身。▲翼裝飛行危險性極高。（圖／翻攝電影紅海行動）\n",
      "2020/06/05 10:49 社會 涉用人頭詐暖冬補助　承億文旅董座請回...副總等11人5到30萬交保 https://www.ettoday.net//news/20200605/1730598.htm\n",
      "▲承億文旅涉詐領暖冬補助，遭檢調搜索約談，圖為嘉義市總部辦公室。（圖／記者翁伊森攝）記者李忠憲／台中報導承億文旅集團傳出詐領觀光局暖冬補助款，檢調約談董事長戴俊郎等12人，5日複訊後認為涉犯詐欺、偽造文書、商業會計法等罪，戴俊郎先請回，洪姓副總、財務長、會計及館長等11人，諭令30萬至5萬元交保候傳。台中地檢署獲報，承億文旅集團申報暖冬補助有問題提出告發，檢察官立刻指揮調查單位進行蒐證監控，發現承億文旅2019年1月1日至1月31日止，暖冬補助期間涉嫌以假人頭等不實資料請領補助，清查發現詐領金額約數十萬元。檢調昨日認為時機成熟，昨天上午指揮台中、嘉義等調查人員，兵分5路前往台中、嘉義、屏東墾丁等承億名下旅店搜索，除查扣相關帳冊、住宿名單等資料外，也帶回董事長戴俊郎、洪姓副總、會計、財務主管、墾丁店館長、承辦員等共12人。檢調認為相關人涉犯詐欺、偽造文書、商業會計法等罪嫌，經陸續移送台中地檢署漏夜複訊後，戴勝郎無保請回，洪姓副總等11人則分別諭令30萬至5萬元交保候傳。檢方表示，全案目前仍在持續偵辦中，確實詐領金額有待持續追查釐清。・網路好評、7天有感【更多新聞】►第2屆台中購物節「OnLine直送」　店家免費上架且不限商品數量►台中男併排停車不理警攔查開走　拒檢逃逸罰2萬+扣照6個月►塞狗屎剃光頭毆打被害人就範　警瓦解苗栗暴團「風客會」逮10人\n",
      "2020/06/05 10:48 政治 管碧玲預言罷韓成功3大政治效應　「國民黨更有機會改革」 https://www.ettoday.net//news/20200605/1730599.htm\n",
      "▲民進黨立委管碧玲。（圖／記者李毓康攝）記者林銘翰／台北報導高雄市長韓國瑜罷免案投票進入倒數一天，民進黨立委管碧玲5日表示，罷韓如果順利成功，可以產生三個重大的政治效應，包括政治人物不敢再輕易背叛選票的承諾，以及國民黨會更有機會改革，能夠藉此貼近土地與人民。管碧玲原為高雄市第五選區（鼓山、鹽埕、旗津、三民區41里）立委，今年因應高雄市選區改制，轉任民進黨不分區立委。隨著罷韓投票日接近，管碧玲近日也積極站上高雄街頭，向第一線向市民發放罷韓黃絲帶及布條，為罷免案做最後衝刺。對於罷韓投票進入倒數階段，管碧玲5日也預言，罷韓如果順利成功，可以產生三個重大的政治效應。首先，政治人物不敢再輕易背叛選票的承諾。其次，國民黨會更有機會改革，能夠藉此貼近土地與人民。最後，台灣的民主也能夠再向上提昇，民意的審判之槌，重重的敲響台灣民主發展的歷史案桌，為台灣民主政治奠定一個新的里程碑。管碧玲也呼籲，罷韓運動震撼人心，請大家用選票給支持罷免的所有人按個讚。更多關於韓國瑜罷免案...► 王金平表態挺韓國瑜：我希望韓市長做好、做滿► 罷韓倒數72小時！民進黨正式催票「史上第一次」請高雄人踴躍投票► 罷韓門檻提高原因曝光！要多4661張同意票才能過關...Wecare火力全開急催票熱門新聞...► 搞懂罷免門檻了嗎？　罷韓投票前一定要知道的「3件事」► 高市選委會公布6月6日公民數增加　門檻提高！57萬4996有效票才能罷韓► 這不是韓國瑜的第一次！曾為核四被提罷免…20年來4案通通都失敗►上網登錄過期票券　現賺1.5倍東森幣\n",
      "2020/06/05 10:43 地方 90歲翁運動獨走5公里　體力驚人卻忘了回家路 https://www.ettoday.net//news/20200605/1730523.htm\n",
      "▲屏東警分局護送90歲翁返家。（圖／記者陳崑福翻攝）記者陳崑福／屏東報導屏東市一名年約90歲吳姓老翁，清晨獨自外出運動，卻迷失方向，警方趕到以警用小電腦查出他的地址後，攙扶老翁座上巡邏車，護送他返家。屏東警分局民族派出所日前接獲110報案，指在屏東市中山路發現迷途老人，請求警方協助，巡邏副所長張艷凱、警員吳婷慈立即趕赴現場，在與老翁溝通得知他是早晨出門散步，但散步後卻忘記回家的路怎麼走，幸而，遇上熱心民眾報警求助。由於他無法說出住處，員警於是使用警用電腦查出地址，再護送返家。據了解，高齡90歲吳姓老翁清晨竟一人徒步走了5公里，體力實在驚人。隔壁鄰居告訴警方，老翁的子女都在外地工作，平時一人獨居，子女在放假的時後會回家照顧，而他習慣早起運動，不曾記不清回家的路，這是第一次遇警方護送他回家，會請他的子女多加注意，不要讓他一人獨自外出運動。屏東警分局呼籲民眾，對於長輩的交通工具或身上，可佩掛或張貼紀載家人電話的紙條，俾利發生迷途情況時，年長者能即時獲得幫助。►自然美「超效保濕按摩卸妝膏」特賣Day7►二手票券豐富你的生活\n",
      "2020/06/05 10:43 地方 獨木舟環島快樂出航　海巡全程守護 https://www.ettoday.net//news/20200605/1730489.htm\n",
      "▲海巡署南部分署第六岸巡隊守護獨木舟團隊航行安全。（圖／記者陳崑福翻攝，以下同）記者陳崑福／屏東報導為響應向海致敬親海活動，台灣環島獨木舟有限公司辦理「2020年帆船獨木舟環島」活動，從屏東大鵬灣啟航，獨木舟團隊行經屏東縣林邊溪至滿州鄉漁村公園，全程由南部分署第六岸巡隊掌握航行動態，守護活動安全。▲▼守護航行安全。台灣環島獨木舟團隊員有7名(6男1女)，於6月1日上午航行進入南部分署第六岸巡隊轄區，隨即由海巡人員於岸際一路關注南下航行，過程中分別進入海口及鵝鑾鼻漁港休息過夜。由於獨木舟團隊於航行過程未僱用戒護船筏，基於人員安全考量，第六岸巡隊主動全程掌握航行動態，派遣線上巡邏組於加祿堂沙灘等8處岸際配置救生艇機動待命，守護獨木舟團隊航行安全。帆船獨木舟環島活動從屏東大鵬灣啟航，於3日下午2時許由滿州鄉漁村公園上岸陸運至台東，接續以逆時鐘方向繞台灣一圈，預計6月26日返回大鵬灣，離行前感謝海巡人員於獨木舟航行期間的協助與安全戒護。南部分署第六岸巡隊建議民眾辦理各項水域活動時，應主動規劃安全防護措施或僱用相關戒護船筏，以確保活動全程的安全；另海巡署秉持為民服務精神，民眾於海域、岸際如有發現危急救援案件，請立即撥打118海巡服務專線，海巡署將立即派員前往協處。►自然美「超效保濕按摩卸妝膏」特賣Day7►二手票券豐富你的生活\n",
      "2020/06/05 10:43 影劇 伊能靜突大聲喊停「沒收婆婆的碗」！　遭嚴厲勸別吃晚餐…秦昊媽求饒：太痛苦了 https://www.ettoday.net//news/20200605/1730521.htm\n",
      "記者劉宜庭／綜合報導52歲的伊能靜小10歲老公秦昊近期一起上節目，錄製大陸實境節目《婆婆和媽媽》，真實呈現私下互動，婆媳之間的相處方式，更是被讚宛如親生母女一般自然又輕鬆，最新播出內容中，她不僅要婆婆別吃晚餐，還直接伸手沒收對方的碗，幽默逗趣的相處方式，再度成為眾人熱議焦點。▲伊能靜一家人登上實境節目《婆婆和媽媽》。（圖／翻攝自微博／《婆婆和媽媽》）請繼續往下閱讀...由於在上一集播出的《婆婆和媽媽》中，伊能靜曾和婆婆抱怨秦昊嘴笨，不滿老公平常明明對她很好，卻吃虧在不會表達，「他就是個不會表達平常生活對我特別好的人，說都說不明白，我這個木頭老公…我就服了他。」於是，在最新一集節目中，婆婆跟秦昊、伊能靜外出時，一路上不斷叮嚀兒子要多讚美媳婦，當秦昊疑惑問「讚美什麼呀」，她索性表示，「你不用管，我給你提詞。」一家人坐下來享用美食時，看見伊能靜頻頻建議正在減肥的秦昊可以多吃幾口，婆婆立刻語帶暗示地說，「你媳婦多掛著你啊，尋思讓你到這來嚐一嚐，讚美讚美。」見兒子依舊沒開始讚美，婆婆持續進行「溫馨提醒」，「我今天一看你媳婦簡直對你太關心了，就怕你吃不好。」秦昊無奈表示，「媽，我一定誇，你放心。」接著，他便開啟好話模式，對著伊能靜連連誇讚，「全世界哪有對我這麼關心的老婆，我這是一輩子、我這十輩子，媽，咱們家祖墳在哪，冒煙呢吧，我太幸福了，幸福、太幸福了。」▲伊能靜勸婆婆別吃晚餐。（圖／翻攝自微博／新浪娛樂）沒想到，一番話卻依舊被親媽吐槽，「我怎麼聽這麼勉強呢」，秦昊無奈表示，「我已經詞窮了…媽，我盡力了。」更有趣的是，用餐過程中，伊能靜聽見婆婆透露吃蝦吃到快飽了，突然冷不防地說，「那妳晚上就別吃了。」婆婆瞬間停頓變臉，表示自己腦筋思路一下子沒轉過來，面露疑惑問：「這跟晚飯有關係嗎？」為了幫婆婆實施減肥計畫，伊能靜苦勸，「妳現在這麼造了，妳晚上不要吃了嘛。」婆婆則求饒，「唉呀，這個減肥對我來說太痛苦了，這不能吃、那不能吃，多鬧心妳說。我想這樣，從明天開始減吧！」後來，婆婆為了不浪費，想把豆花酒釀喝完，沒想到遭伊能靜大喊「停」，對方還伸手將她的碗直接沒收，忍不住對著兒子感嘆，「你媳婦也太狠了。」雖然一番話字面上看似抱怨，但婆婆一說完，在場3人全都笑出聲來，顯見純粹只是開玩笑，婆媳之間宛如親生母女的相處方式，也再度成為網友熱議焦點之一。▲伊能靜沒收婆婆的碗。（圖／翻攝自微博／新浪娛樂）►點我看伊能靜沒收婆婆碗影片►來讓「過期票券」變黃金！\n"
     ]
    },
    {
     "name": "stdout",
     "output_type": "stream",
     "text": [
      "2020/06/05 10:42 生活 罷韓熱！高鐵今19:15加開「南下列車」　增配5節自由座車廂 https://www.ettoday.net//news/20200605/1730602.htm\n",
      "▲高鐵今晚加開南下列車。（圖／長榮文苑酒店(嘉義)提供）記者李宜秦／台北報導高雄市長韓國瑜罷免選舉將於明日登場，高鐵公司表示，將於今晚7點15分自南港站加開一班南下列車，配置5節自由座車廂，旅客即刻起就可訂票。受選舉投票影響，高鐵本週末運量較大，今晚到明日多為熱銷車次，高鐵公司日前宣布，將於6月5日至7日間增開12班次列車。經持續檢視旅客訂位狀況後，高鐵宣布今晚再加開一班南下各站停靠之列車，並配置5節自由座車廂，列車將於晚上7點15分自南港出發，9點50分抵達左營。請繼續往下閱讀...高鐵公司表示，旅客即刻起，可透過高鐵合作之便利商店、網路訂票系統、TExpress手機購票系統、語音訂位系統等站外通路或至各車站售票窗口及自動售票機訂位購票乘車，歡迎多加利用。\n",
      "2020/06/05 10:40 時尚 潤娥直播驚現神級美腿！碎花裙上身完全凍齡　網驚：不科學 https://www.ettoday.net//news/20200605/1730135.htm\n",
      "▲南韓少女時代成員潤娥度過30歲生日，穿墨綠碎花裙直播，凍齡樣貌引發熱議 。（圖／翻攝自潤娥IG）記者鮑璿安／台北報導南韓少女時代成員潤娥在5月30日度過了30歲生日，期間不忘與粉絲直播同樂，潤娥不僅梳起俏麗公主頭，穿著綠色碎花洋裝宛如鄰家女孩一般，視線向下看，更露出招牌筆直長腿，整體造型仿佛凍齡，瞬間回到少女時代初期，獲得網友大讚：「吃了防腐劑。」    在Instagram查看這則貼文           @jur___k分享的貼文於PDT2020年6月月3日下午6:11張貼    在Instagram查看這則貼文           TIPTOE（@vpsky）分享的貼文於PDT2020年6月月4日上午1:05張貼潤娥近期將事業重心轉往戲劇，剛度過30歲生日的她，更親切開直播與粉絲聊天，畫面中潤娥穿著MIUMIU2020早秋洋裝，墨綠底色與純白荷葉邊衣領相呼應，銀色排扣點綴在裙身中央豐富視覺效果，搭配蓬鬆袖口彰顯復古風格。然而裙裝屬於高腰剪裁，以放射裙襬收尾，向下看潤娥的白皙長腿大方見客，筆直腿型完全零死角，腳踩黃色高跟鞋以及白色長襪收尾，整體造型宛如洋娃娃一般，遊走於可愛與復古之間。潤娥逆齡程度絲毫看不出已經步入30歲，她也在直播中可愛擺拍、許願吹蠟燭，精緻五官引發網友討論，「太凍齡」、「潤娥穿碎花裙好美啊」、「吃了防腐劑的臉蛋。」同場加映南韓碎花裙品牌frombeginning    在Instagram查看這則貼文           프롬비기닝（@frombeginning_）分享的貼文於PDT2020年6月月1日下午11:11張貼南韓網拍品牌frombeginning旗下推出多款碎花裙，長版剪裁再搭配上小碎花，整體效果十分清新，再注入荷葉邊或是V領等復古元素，就能打造韓妞視覺。MONTS同樣來自南韓的女裝品牌MONTS，受到藝人李聖經、AOA成員雪炫、庭沼珉等人公開上身演繹而走紅，旗下衣著也是走偏復古設計，包括條紋、荷葉邊、碎花元素一躍而上短版襯衫以及裙裝等單品，上身效果遊走於正式與休閒之間，也受到韓妞們喜愛。    在Instagram查看這則貼文           MONTS몬츠（@montskorea）分享的貼文於PST2020年2月月24日下午11:32張貼\n",
      "2020/06/05 10:39 旅遊 聯名橋頭麻辣火鍋　台北美福潮粵坊推出9道創「辛」料理 https://www.ettoday.net//news/20200605/1730591.htm\n",
      "▲台北美福潮粵坊推出9道創「辛」料理。（圖／台北美福提供）記者黃士原／台北報導台北美福大飯店館內的潮粵坊港潮餐廳聯手台北東區25年的麻辣火鍋名店「橋頭」，自6月5日至7月5日推出9道創「辛」料理，每道160元起。身兼橋頭創辦人的梁振業主廚，其麻辣醬料偏重四川風味，辛香麻爽，交由台北美福大飯店的王志孚行政主廚，結合粵菜及港點等獨特烹調手法，端出麻辣燒春雞，撈麵麻辣牛腱撈麵、麻辣燻蹄撈麵、麻辣水煮肥牛、極味麻辣牛三聖共6道火熱新菜，每道580元起；而傳統的港式點心部分也以麻辣風情再次型塑，推出了椒麻炆牛肚、橋頭麻辣叉燒生煎包，以及麻辣鮮蝦餃，每道160元起。▲麻辣水煮肥牛。▲麻辣燒春雞。▲天府一品節節香。王志孚主廚改良川菜中的經典之作「麻辣水煮肥牛」，以擁有勻稱肥瘦比例的美國牛小排切片，搭配橋頭麻辣醬特調成的水煮湯汁，加入蒜頭提香，再在底部鋪上銀芽增添口感的豐富性，牛肉肥美，湯汁辣而不燥。至於以台灣人熟悉的撈麵再變化推出「麻辣牛腱撈麵」和「麻辣燻蹄撈麵」，則是以橋頭麻辣醬汁為底蘊加入花椒、八角等中藥材製成的滷汁，加入清洗汆燙好的美國牛腱心及豬腳，各自燉滷兩個鐘頭，再將港式生麵以滾水煮熟，淋上滿載肉香的滷汁，再襯上片好的牛腱或者燻蹄。▲麻辣鮮蝦餃。▲麻辣叉燒生煎包。【你可能也想看】►屬豬或名字有ㄓㄨ揪起來　西堤消費兩套餐1元換購德國豬腳►身分證對對碰回歸！8、3、1、2、0中5碼　吃温野菜可享5折►每日20組！狗一下居酒食堂再推日料吃到飽　還有和牛大炙燒免費送►6月底前快閃優惠！宜蘭人假日吃MUTABLE　2人同行第2人0元►我們的美麗就用白紙黑字寫下來►更多吃喝玩樂大小事，快追隨旅遊雲官方Instagram\n",
      "2020/06/05 10:38 國際 川普簽署備忘錄　加強審查在美上市中國企業 https://www.ettoday.net//news/20200605/1730590.htm\n",
      "▲美國總統川普。（圖／路透）文／中央社記者江今葉華盛頓4日專電美國總統川普今天採取行動，加強審查在美國上市的中國企業，並要求總統金融市場工作小組在60天內遞交評估與建議報告，以確保美國投資人的投資安全。這份備忘錄是在川普上週宣布對中國制裁後的最新行動。備忘錄表明目的在保護美國投資人免受來自中國企業重大風險，確保美國金融市場完整性。川普在備忘錄中指控中國企業從美國金融市場獲益，但中國政府卻阻止中國企業遵守適用在美上市公司的投資者保護措施。他表示，美國證券交易委員會（SEC）與上市公司會計監督管理委員會（PCAOB）多年來敦促中國企業提高財務資訊透明度未果，這對投資美國證券交易所上市中國企業的投資人來說存在重大風險。對此，他要求總統金融市場工作小組在備忘錄發布60天內，向總統提交報告，說明行政部門可能採取的保護措施、對於未提供審計文件或不遵守美國證券法採取審查與強制行動，以及建議SEC與其他聯邦機構應採取的額外措施等。川普於5月29日在白宮召開記者會宣布中止與世界衛生組織（WHO）的關係、撤銷香港特殊待遇等多項反制中國措施。川普當時也提到，正採取行動保護美國金融體系完整性，訓令總統工作小組「單一金融市場」（OneFinancialMarkets），研究在美金融市場上市的中國公司有哪些差異做法，目的在保護美國投資者。投資公司不應讓客戶承擔隱性和過度風險，融資給不按相同規則行事的中國企業。►防疫期間也要一樣美麗！►二手票券豐富你的生活～\n",
      "2020/06/05 10:37 房產雲 天母SOGO商圈宅轉手「同戶不同命」　一個賺2千萬、一個無奈平盤賣 https://www.ettoday.net//news/20200605/1730283.htm\n",
      "▲北市天母「知田」社區，13樓戶歷經兩次轉手，第一手屋主轉手賺進2千多萬元。（圖／記者張菱育攝）記者張菱育／台北報導同戶轉手2次交易，2位賣家命運卻是大不同！位於天母SOGO商圈內的「知田」13樓戶，曾陸續在2015、2020年轉手，第一手買方，在預售時以6889萬取得，並在2015年以9000萬元出售，等同大賺超過2000萬元；而第二手買方持有約5年後，再度轉手，卻僅能以平盤9000萬元賣出，專家估計，計入稅額、裝潢等費用，二手買方等同小賠出場。「知田」位於士林區德行東路，屋齡約7年，樓高14層，總戶數63戶。13樓戶第一手屋主於2009年預售時以6889萬元買進，2015年歷經第二次轉手，總價9000萬元，如今相隔5年，今年2月第三次轉手，以同樣9000萬元交易，也就是第一手屋主轉手賺進2111萬元，但是第二手屋主則是持平賣出。成交單價部分，也從預售時每坪69萬元，漲至現在的每坪86.7萬元，漲幅高達25.7%。▲天母「知田」屋齡約7年，距離捷運芝山站約步行10分鐘。（圖／記者張菱育攝）信義房屋天母七段店專案經理林威呈表示，「知田」這個社區坐落於天母SOGO商圈內，這商圈鄰近捷運站、百貨公司，屬於機能較便利的商圈，開車出入台北市也可以避免掉美、日僑學校上下課擁擠車潮。林威呈指出，附近相似的建案如「筑丰天母」、「國揚天母」等建案，高樓層有景觀戶別，單坪成交單價也上看百萬元，這次成交的「知田」13樓戶，屬於次高樓層，朝北看陽明山，所以該戶擁有高樓層、有景觀、總價在1億元內等的優勢條件，再加上又可以買到室內54坪的空間，性價比相對較高。\n",
      "2020/06/05 10:36 政治 快訊／蔡英文指示內政部全力協助李承翰家屬 https://www.ettoday.net//news/20200605/1730582.htm\n",
      "▲總統蔡英文。（資料照／總統府提供）記者蔣婕妤／台北報導鐵路警察李承翰為保護台鐵乘客，遭兇嫌刺殺身亡，而鄭嫌一審被判無罪，李父因不滿判決，長期鬱悶於4日胃出血病逝。對此，總統蔡英文也在第一時間請內政部就後續事宜給予家屬全力協助。針對因公殉職的鐵路警察局員警李承翰父親李增文於4日離世，總統府發言人張惇涵5日表示，這是讓人非常心痛不捨的消息，在得知這項不幸後，蔡總統除了隨即請內政部就後續事宜給予家屬全力協助，也指派總統府秘書長蘇嘉全代表向家屬慰問致意。★★★好康來了！過期票券換東森幣 ★★★舉凡餐券、住宿券、SPA券等過期票券都可以起死回生，兌換東森幣加碼1.5倍，這麼好康的事，到底要怎麼做呢？首先，最重要的是把家中的過期票券找出來，進入東森購物的頁面，輸入會員帳號及密碼，就會出現票券驗證的畫面，接下來只要依序填寫禮券編號、條碼序號，並選擇信託銀行，就驗證成功囉。【快點連結】\n",
      "2020/06/05 10:36 國際 FBI：無情報指出「反法西斯團體ANTIFA」與暴動有關…打臉川普！ https://www.ettoday.net//news/20200605/1730499.htm\n",
      "▲美國「佛洛伊德（GeorgeFloyd）之死」示威遍地開花，但情勢越演越烈，引發一連串暴力行動。（圖／達志影像／美聯社）記者吳美依／編譯美國「佛洛伊德（GeorgeFloyd）之死」示威情勢失控，總統川普將國內暴動全都歸咎於「反法西斯主義」（ANTIFA）團體，5月31日更宣布要將其列為恐怖組織。但是，聯邦調查局（FBI）華盛頓外勤辦公室的調查報告表示，「沒有情報指出，ANTIFA涉入周日（5/31）的暴力行動」。FBI華盛頓外勤的調查報告，「根據機密人力來源（CHS）仔細調查、公開來源與社群媒體夥伴的參與及聯絡……沒有情報指出，ANTIFA涉入或出席周日的暴力行動」。▲「佛洛伊德之死」示威延燒，華盛頓特區（Washington,D.C.）衝突升溫。（圖／達志影像／美聯社）此份報告標題為「喬治．佛洛伊德死後華盛頓地區內亂的責任歸屬」，被標註著「僅供官方使用」（FOUO），是由一名FBI官員匿名提供給《國家雜誌》（TheNation）。FBI自從上周末開始每天發布類似報告，在文件中的「關鍵更新」部分提及示威的一系列暴力行動，包括有人朝向警察扔磚頭，以及民眾發現一個裝有爆炸性物質的後背包。FBI一名內部人士透露，上述文件中，沒有任何ANTIFA涉入暴力示威的證據，反而針對某一個極右翼社群媒體團體提出警告，稱其成員「呼籲極右翼分子攻擊聯邦探員，使用自動武器對付示威者」。《國家雜誌》為了避免造成執法調查的困擾與阻礙，在報導中沒有公布該組織的名稱。▲ANTIFA是激進的反種族主義、反國族主義組織，據FBI調查，該組織與這一次示威暴動無關。圖為奧勒岡州波特蘭（Portland）的ANTIFA團體進行抗議。（圖／達志影像／美聯社）佛洛伊德之死示威遍地開花，情勢逐漸演變成暴動，川普將國內動亂歸咎於「反法西斯聯盟領導的無政府主義者」與「激進的左派無政府主義者」，並在推特發文指出，他會將ANTIFA列為恐怖組織。但如今FBI調查無果，美國政府目前也沒有權力將國內團體定義為恐怖組織，ANTIFA甚至不是一個有組織的團體。ANTIFA是「反法西斯者」（anti-fascist）的縮寫，這是一個激進的反種族主義、反國族主義組織，不仰賴司法體系，對抗右翼勢力，與之相關的團體過去會透過破壞財物、實施暴力表達訴求。►川普說全美暴動都怪它　一次看懂Antifa始末…捍衛理念不惜動用暴力►川普痛批極左派煽動暴力　擬將「反法西斯團體」列為恐怖組織►時間存在的意義就是襯托妳的美麗！►二手票券豐富你的生活舉凡餐券、住宿券、SPA券等過期票券都可以起死回生兌換東森幣，這麼好康的事，到底要怎麼做呢？首先，最重要的是把家中的過期票券找出來，進入東森購物的頁面，輸入會員帳號及密碼，就會出現票券驗證的畫面，接下來只要依序填寫禮券編號、條碼序號，並選擇信託銀行，就驗證成功囉。\n",
      "2020/06/05 10:36 社會 不滿被分手！輔大男衝世新求復合…警局旁「猛勒女友頸」　她嚇傻急呼救 https://www.ettoday.net//news/20200605/1730496.htm\n",
      "▲蔡姓男子在李姓女子行經警局車道出入口時，竟伸手勒住她脖子，企圖限制她自由。（圖／翻攝Googlemap）記者徐愷昕／台北報導就讀輔仁大學文學院3年級的蔡姓男子，因不滿世新大學李姓女友與他提分手，竟前去女方學校找她談判，過程中見李女對他不理不睬，激動的在警局車道旁以手臂拉扯、勾住女方脖子，嚇的李女即呼救。事後，蔡男被依強制罪處有期徒刑3月，得易科罰金9萬元。蔡男與李女原是男女朋友，李女2019年11月初提出分手後，蔡男為求復合，同月29日下午前往世新大學找李女談判，然而因李女表明不再與男方有所接觸，並起身前往捷運站，蔡男見她如此冷落，竟尾隨在李女後方，趁女方行經文山警分局車道出入口時，徒手拉扯、以手臂勒住她脖子，不讓李女離開。李女當下嚇的大聲呼喊「救命！」怎料蔡男仍不願放手，一旁路人見情況危急趕緊報警，直到警方前來事情才終於落幕，而蔡男隨後速被依強制罪送辦。►偷偷分享少女秘密！法庭上蔡男否認犯行，辯稱自己與李女交往期間對方雖常提分手，但他不曾答應，因此認為2人始終是情侶關係，李男強調，事發當天是怕李女情緒失控衝向馬路發生危險，才用雙手抱住她，並沒有用力或讓女方受傷，同時他也質疑，明明2人是情侶，怎能用「強制罪」辦理，強制罪應是用於雙方是利害關係相對人的情況。李女反駁表示，2人交往期間蔡男經常情緒失控，他們11月初確實就已經分手，當時還大陣仗鬧到警局，雙方家長也都在場。而事發當天，蔡男從後方掐住她脖子時，害她一度無法呼吸，所幸員警趕緊出來制止，對方才終於鬆手。台北地院審理時，員警出庭證稱，案發當下並無看到李女有失控要衝到馬路上的狀況，法官認為蔡男一路尾隨、緊追已危害到女方決定與自由，甚至造成她生活極大困擾，審結依強制罪判蔡男有期徒刑3月，得易科罰金9萬元。►二手票券豐富你的生活\n",
      "2020/06/05 10:36 財經 國巨看第三季景氣「能見度不明朗」！董事長陳泰銘：收購基美很划算 https://www.ettoday.net//news/20200605/1730456.htm\n",
      "▲國巨股東會，國巨董事長陳泰銘接受媒體訪問。（圖／記者林敬旻攝）記者楊絡懸／台北報導被動元件大廠國巨（2327）5日召開股東會，針對今年下半年營運和未來景氣，國巨董事長陳泰銘表示，每間公司的結構情況不同，受到新冠肺炎（COVID-19）疫情影響的關係，其實第三季的能見度仍不明朗，國巨公司仍審慎看待，不過國巨的財報併入基美後，應會持續增長，這個收購案相當划算。陳泰銘說，受疫情影響，各企業本來要推動的計畫都有些停頓，尤其5G是整個科技業未來2年的重點，然而不幸的是，疫情使得這計畫往後延遲，但各國政府都希望能經濟復甦，5G作為基礎建設、網路的政策將會先行，「我個人認為，各政府會以5G作為首波的產業進步，讓5G相關的產業跟著運轉。」請繼續往下閱讀...至於美國擴大禁止華為的影響，陳泰銘透露，國巨於手機涵蓋率非常廣，而華為其實也是國巨的客戶之一，因此無法過分評斷華為的影響。不過他認為，美國與中國科技之間的競爭，相信每個國家都有各自的策略，若沒有這些影響，5G基地台的增設也勢在必行，主要是5G的基礎建設的需求已存在於市場，「只是這個大餅能否重新分配，我就不評論了。」對於企業政策是否有變動，陳泰銘指出，國巨四、五十年如一日，基本的策略從來是這樣定調，只要有助於國巨全球通路的提升，在策略上都沒有太多改變，國巨於任何時都會持續把握和考慮。▲國巨股東會，董事長陳泰銘（右）介紹執行長暨總經理王淡如。（圖／記者林敬旻攝）另外，陳泰銘表示，國巨的存貨必須維持在健康的狀態，就算第三季不明朗，也不可能等到明朗時才把低庫存拉升，因為企業重點仍是廠區的布置、產能的配置，這些都需要長期的規劃，國巨也重視對產量、產能是長期的規劃，包含半導體產業等各行各業觀看展望半年有難度，下一季看起來都不會太明朗。國巨不受五一長假影響，5月營收44.86億元，月增1%、年增37.6%，創16個月以來新高紀錄；累計前5月營收189.47億元、年增5.8%。國巨指出，5月雖因中國廠區「五一」長假使得工作天數減少，但當地廠區的復工及產能利用率逐漸改善，且客戶訂單需求穩健，使得5月業績表現仍較4月成長。對於未來展望，國巨表示，目前營運及客戶訂單出貨皆正常，而中國廠區的產能利用率也持續改善，並逐步調整成品庫存水位偏低的情況，但全球疫情仍然嚴峻且不確定性高，對未來營運仍持審慎態度。\n",
      "2020/06/05 10:34 社會 韓國瑜臉書悼承翰爸　痛心嘆：犧牲卻沒得到應有的公道 https://www.ettoday.net//news/20200605/1730579.htm\n",
      "▲高雄市長韓國瑜。（圖／記者洪靖宜攝）記者洪靖宜／高雄報導鐵路勇警李承翰的父親因無法接受兒子遭刺殺殉職，且一審鄭嫌還因精神問題獲判無罪，為此鬱鬱寡歡36天，在4日傍晚嚴重胃出血離世，消息令人心痛，而高雄市長韓國瑜也在臉書上哀悼，也盼司法早日還給李承翰及家人一個公道。鐵路警察李承翰遭乘客鄭姓男子持刀刺死，兇嫌一審因精神問題判處無罪，目前二審上訴中，但李承翰的父親因不滿判決，長期鬱悶於4日胃出血病逝，令網友鼻酸不捨。高雄市長韓國瑜也在臉書發文，寫下「李爸爸，一路好走，還記得英勇的嘉義鐵路員警李承翰嗎？去年7月，李承翰執勤時為了保護車上乘客，不幸遭刺因公殉職，最後兇嫌一審卻獲判無罪，讓家屬悲痛萬分，想不到承翰殉職還不到一年，4號晚間又傳來另一個噩耗，李爸爸也因病辭世了。」韓國瑜說：「承翰身為鐵路警察，在崗位上盡忠職守，為了保護乘客而犧牲，但他的犧牲卻沒得到應有的公道，當英勇的人民保姆得不到政府的保護、司法的幫助，最後只能換來李爸爸一句『希望兒子下輩子別再當警察』，這種心情是多麼悲憤？對警察同仁的士氣又是多麼大的打擊？」最後，他也盼李爸爸一路好走，也請李媽媽務必保重身體，更重要的是，期盼司法能早日還給承翰一家人一個公道，也期盼台灣社會充滿溫暖和諧，不再有悲劇發生。\n",
      "2020/06/05 10:33 財經 加油要快！下周油價估漲1.8元「九二汽油站回20元大關」 https://www.ettoday.net//news/20200605/1730584.htm\n",
      "▲北半球進入夏天用油旺季，專家預估下周國內汽、柴油零售價格將再度調漲。（圖／記者林敬旻攝）記者林淑慧／台北報導用車族加油要快！隨著北半球進入夏天用油旺季，加上產油國依進度持續減產，帶動國際油價上漲，專家預估下周國內汽、柴油零售價格每公升約各調漲1.8及1.7元，提醒民眾把握時間在周末加滿愛車油箱，才能替自己省點荷包。油價專家表示，依據浮動油價調整機制作業原則，在不考量亞鄰競爭國最低價的條件下，九二無鉛汽油將站回20元大關，加滿愛車油箱等於要多花90元，這也將是國內連續六周調漲油價。請繼續往下閱讀...▲台灣中油加油站。（圖／記者姜國輝攝）依據浮動油價調整機制作業原則，在不考量亞鄰競爭國最低價的條件下，調整後的參考零售價格分別為：92無鉛汽油為21.7元、95無鉛汽油23.2元、98無鉛25.2元、超級柴油19.1元。依據中油油價調整機制估算，油價專家指出，累算至6月4日之7D3B週均價為38.37美元，較上週34.07上漲4.30美元。新台幣兌美元匯率29.943較上週30.034升值0.091。實際調整金額請於週日中午12時詳見台灣中油全球資訊網暨經濟部網站。►過期票券別浪費！簡單3步驟　教你搶救妙招\n"
     ]
    },
    {
     "name": "stdout",
     "output_type": "stream",
     "text": [
      "2020/06/05 10:32 生活 國中會考1.7萬考生拿5A　寫作測驗1588考生拿6級分 https://www.ettoday.net//news/20200605/1730562.htm\n",
      "▲國中會考今日公布成績。（圖／記者許展溢攝）記者崔至雲／台北報導109年國中教育會考今（5日）公布各科成績，紙本成績單今日也將寄送。根據台師大心測中心資料顯示，5科都拿A等級「精熟」共17418人，占所有考生的8.46%，另外，又有1588人寫作測驗拿6級分，佔全體考生的0.77%。台師大心測中心主任陳柏熹指出，各科要拿到A++，國文僅能錯4題；英文僅能錯1題；社會錯3題；自然錯2題；其中，數學因有非選題，因此使用加權分數，分數得到93.46以上才有A++。請繼續往下閱讀...根據本次計分結果顯示，「精熟」等級最低答對題數比率約78至88%，「基礎」等級則約占34至42%。以國文科為例，總題數48題，答對40題可達「精熟」等級，答對題數比率約83.33%；答對20題可達「基礎」等級，答對題數比率約41.67%。此次計分結果各科達精熟的比率15.71至25.86%、達基礎的比率47.40至66.17%，待加強的比率13.28%～27.63%。計分結果與統計資料已上網公告。國中會考各測驗科目計分及閱卷工作已於日前完成，今日同時公布並進行「各科能力等級加標示與答對題數對照表」、「各科能力等級加標示人數百分比統計表」、「各能力等級類別暨寫作測驗級分人數百分比統計表」，以及寫作測驗與數學非選擇題樣卷說明。▲109年國中會考各科能力等級加標示人數百分比統計表。（圖／教育部提供）\n",
      "2020/06/05 10:31 體育 中職／林智平變身打擊王　今天需要5打席 https://www.ettoday.net//news/20200605/1730586.htm\n",
      "▲林智平。（圖／記者李毓康攝）記者歐建智／台北報導樂天桃猿林智平5日對戰富邦悍將，打滿單場5個打席就可以變身打擊王，打擊排行榜上將有2位四割男。林智平目前出賽25場，88打席、76打數有37支安打，打擊率0.487，不足進入打擊排行榜規定90打席，因而無法擠身打擊王。請繼續往下閱讀...樂天桃猿5日是本季第30場出賽，桃猿球員要進入打擊排行榜就要93打席（球隊出賽數x3.1打席）。林智平想要在5日進入打擊排行榜就要打5個打席，才能達到93打席，也要靠隊友打擊幫忙，若5打席都沒有安打，進入排行榜的打擊率是0.456。若目前打擊王樂天桃猿林泓育5日在5打席都是安打，打擊率最高也是0.453，林智平會以0.003的差距領先林泓育，空降為打擊王。林泓育目前是91打席，5日只要打2個打席就會繼續在打擊排行榜中，但若沒有出賽就會掉出打擊排行榜。\n",
      "2020/06/05 10:31 社會 承翰爸嚴重胃出血+抑鬱纏身！妻悲曝：不想讓他變植物人…急救後忍痛放手 https://www.ettoday.net//news/20200605/1730537.htm\n",
      " 鐵路警察李承翰父親李增文靈堂。（圖／記者翁伊森攝）記者陳羿妏／嘉義報導鐵路勇警李承翰去年7月3日於火車上處理逃票糾紛，卻遭鄭姓男子持刀猛捅慘死，今年4月30日嘉義地院一審依精神問題為由判鄭男無罪，怎料二審上訴中，李承翰父親李增文4日卻因嚴重胃出血、抑鬱離世；對此，李承翰母親張秀珍轉述醫生說法，若真的救回李增文，也會變成植物人，因此忍痛放手。▲李增文堅持走進醫院就醫，但搶救後仍不治。（圖／記者翁伊森翻攝）▲鐵路警察李承翰處理補票糾紛，不幸遭刺死。（圖／記者許宥孺攝）根據《中央社》報導，嘉義市芳草里里長劉丙伍表示，4日上午當天得知李增文身體狀況不佳，隨即駕車協助送醫，怎料下午就接到電話，李增文已離世，內心相當不捨。劉丙伍描述就醫狀況，李增文到急診後，吐了2次血，檢查後才得知是患有嚴重胃出血；張秀珍因聽聞醫生說法，不想讓李增文變植物人，最終決定忍痛放手，讓李增文離開。▲李承翰雙親對於無罪判決直呼心很痛。（圖／記者許宥孺攝）殺警案判決出爐，李增文遲遲無法接受，還曾說過「一個兒子被殺掉竟判無罪，簡直比什麼都不如」上訴已36天，他將所有苦悶全放心裡，不向家人訴說心裡話，長期鬱鬱寡歡，再加上身體本身就不太好，4日胃出血情況加劇之下，當天傍晚離世。李承翰姊姊也提到，父親身體狀況本身不佳，加上殺警案判無罪，心情更是雪上加霜，最近父親身體又犯毛病，但就是不願就醫，怎料就這樣離開了。網路好評、7天有感\n",
      "2020/06/05 10:30 社會 李承翰父最後身影曝光！堅持不坐救護車　拖「暴瘦病體」走進醫院 https://www.ettoday.net//news/20200605/1730583.htm\n",
      "▲鐵路警察李承翰父親李增文拖著不適的身體，不願意坐救護車，堅持走進醫院，卻再也走不出來。（圖／周刊王提供，下同）圖、文／CTWANT嘉義鐵路警察李承翰在值勤時遭刺死亡，一審法官判被告鄭姓兇嫌無罪，李承翰父親李增文終日鬱鬱寡歡，沉默少言，近日又因胃疾困擾，昨(4)日在里長和妻子陪同下，前往嘉義聖馬爾定醫院就醫，他堅持不坐救護車，用走的進醫院，沒想到卻永遠也走不出來。從醫院的監視器可以看到李老先生的消瘦身影，在家人的攙扶下，已經67歲的李老先生，因為身體不適，彎著腰，表情痛苦，但他堅持走進醫院，只能先暫時到一旁的椅子坐著歇息，等待妻子辦好掛號手續，虛弱到連起身都很困難。▲醫院畫面曝光，李承翰父親李老先生，因為兒子執行公務被殺身亡，終日鬱鬱寡歡，最後因為胃出血不治。家人表示，李增文長期胃出血卻不願意就醫，最後受不了，才不得已前往醫院檢查，醫師替李增文照胃鏡，發現胃裡都是血，經緊急搶救仍回天乏術。嘉義地方法院於4月30日宣判鄭嫌無罪，讓所有人都無法接受，更何況是李承翰的雙親，雖已提出上訴，家人還等不到一個公理正義，父親已經撐不住而離世，讓人不勝唏噓。延伸閱讀李承翰父「等不到翻案」吐血死　里長嘆：他有苦不說陳為民自招「我很迷信」　把妹只要出現「一個徵兆」…他秒刪妹子電話正妹調情邀約：我的咪咪很漂亮！蔡阿嘎傻眼「我3分鐘而已」　鹹濕對話曝光\n",
      "2020/06/05 10:28 社會 承翰爸等不到上訴判決抑鬱吐血不治　法務部長悲痛回應了！ https://www.ettoday.net//news/20200605/1730545.htm\n",
      "記者孫于珊／台北報導鐵路警察李承翰被刺死案，一審法官因鄭姓嫌犯患有思覺失調症判無罪，目前二審上訴中，但時隔36天，他的父親李增文4日因胃出血送急診，急救後仍宣告不治，家屬悲痛逾恆，他再也等不到兒子的上訴結果。法務部長蔡清祥5日上午表示他相當不捨與難過。▲對於鐵路警察李承翰的父親死亡，法務部長表示相當難過與不捨。（圖／記者屠惠剛攝）蔡清祥說，一聽到鐵警父親過世的消息，非常難過與不捨，第一時間已派人前往關心慰問，並呼籲家屬李媽媽要保重，會全心協助他們，把相關事項處理好。蔡清祥還說，至於相關法律已用最快速度在修法，目前已送行政院審查中，而司法精神病院及精神病條例部分，也正在跟衛福部討論，將會很快有結論，保安處分執行法及監護部分條文，本來限制在5年以下，將修正為可延長、不限次數，但每年都要做評估。李家居住的嘉義市芳草里長劉丙伍4日也難過地說，李增文的兒子被刺死，被告卻被判無罪，這對他的打擊相當大，等於是二次傷害，以他的個性，把所有的不滿都悶在心中，難怪會生病，他的胃出血可能就是這樣造成的；李承翰的媽媽更可憐，不到1年時間連續送走至親的兒子及丈夫。▲▼李增文（上）、李承翰（下）父子兩人相繼去世。（圖／資料照／記者翁伊森翻攝）票券換點囉！！！►好康別錯過～【更多新聞】►骨折沒打止痛針…他在醫院痛到持刀狂揮　恐嚇護士：要捅妳或砍醫生？►松山區民有里2惡男騙女上樓喝咖啡　「叫黑社會殺妳」性侵又拍裸照►對4少年摸胸猥褻…抓住生殖器抽動！兒少安置機構生輔員犯15罪下場曝\n",
      "2020/06/05 10:27 社會 「只剩我一個了…」兒殉職、夫抑鬱吐血亡　承翰媽泣訴：對司法已沒有信心 https://www.ettoday.net//news/20200605/1730568.htm\n",
      "▲承翰媽（右二）站在靈堂處理丈夫後事。（圖／記者翁伊森攝）記者翁伊森、白珈陽、莊智勝／嘉義報導鐵路勇警李承翰殉職後300多天，父親李增文不甘鄭嫌殺人一審竟獲判無罪，最終於4日抑鬱而終。5日上午嘉義市長黃敏惠前往李家慰問，李媽媽見到市長後忍不住痛哭，直呼「現在只剩我一個了……。」黃敏惠轉述，李媽媽說，現在的她，對於司法已經沒有信心了。黃敏惠5日上午前往李家靈堂上香致意，李媽媽見到市長，眼淚再也忍不住，哽咽地表示，自己短短一年內接連失去兒子、丈夫，現在家裡就只剩下她一個；黃敏惠也立即上前給予安慰，並希望李媽媽能夠保重身體。黃敏惠表示，日前曾經陪李爸爸聊天，雖然言談間李爸爸表達對於判決結果的不滿，但始終相信社會有公平正義，聊到未來還抱著希望，豈料最後仍是等不到上訴、等不到一個滿意的判決，抑鬱辭世。「李媽媽說，李爸爸這段時間變得非常消沉，對任何事情都不抱希望。」黃敏惠轉述李媽媽說法，在接連失去兒子、丈夫後，李媽媽已經對司法沒有信心，「但我們也會鼓勵她，我們都在，社會大眾也會關心，相信社會還是會還給公道。」【更多新聞】►「我的心肝兒子！」92歲承翰阿嬤拄拐杖、望子遺像痛哭　家屬急攙扶離場►李承翰爸爸鬱悶36天「胃出血離世」！中市警局長嘆：悲憤是鑽入心頭的毒藥►強忍病痛為兒討公道…承翰爸爸鬱悶吐血亡！黃敏惠上香：相信社會會還給公道二手票券豐富你的生活欸~妳過來一下！妳過來一下▼黃敏惠轉述李媽媽說法，她對司法已經沒有信心。（資料照／東森新聞）\n",
      "2020/06/05 10:26 大陸 全球疫苗峰會　李克強：將繼續支持受疫情影響國家 https://www.ettoday.net//news/20200605/1730580.htm\n",
      "▲6月4日晚，中國大陸國務院總理李克強在全球疫苗峰會視頻會議上發表致辭。（圖／取自新華社）記者陳政錄／綜合報導由英國首相強森主持的全球疫苗峰會視頻會議，於當地時間4日召開，30多國領導人和聯合國、世界衛生組織代表與會。中國國務院總理李克強在致詞時表示，中國將繼續為受疫情影響的國家，提供力所能及的支持，並推進疫苗臨床試驗和研發成果盡快上市使用。另面對國際追責聲浪，李克強還重申，面對突如其來的疫情，中國始終堅持以民為本、生命至上，經過全體中國人民艱苦卓絕努力，已經有效控制了疫情。但疫情並未結束，各國人民健康安全休戚相關，沒有一國可以獨善其身。▲全球正積極推進新冠肺炎疫苗的研發和臨床實驗。（圖／路透）李克強說，中國將繼續為受疫情影響的國家，特別是發展中國家的抗疫鬥爭以及經濟社會恢復發展，提供力所能及的支持。他強調，疫苗是抵禦病毒侵襲的有力盾牌。中國將繼續支持世界衛生組織在統籌疫苗研發等方面發揮核心作用，推進疫苗多中心臨床試驗和研發成果盡快上市使用，向世界提供安全、有效、高質量的全球公共產品。李克強說，全球疫苗免疫聯盟同中國一直保持良好合作，曾出資支持中方疫苗接種和國際應用。同時，中國政府願為聯盟籌資週期提供捐助，鼓勵中國研發機構、疫苗生產企業同聯盟加強協作，支持聯盟在推廣使用疫苗方面發揮重要作用。據了解，該次會議旨在為全球疫苗免疫聯盟籌資，確保疫苗可及性，特別是為加快新冠肺炎疫苗研發、生產和分配提供資金支持。會上，比爾及梅琳達·蓋茨基金會宣布，提供一筆為期五年、共計16億美元的贈款，另加上各國政府和商業領袖的承諾，會上總籌資額來到88億美元，超過原定74億美元目標。►不再眷戀青春，因為我持續擁有。\n",
      "2020/06/05 10:24 房產雲 華邦電董娘豪買「元大一品苑」　2.6億入手中間樓層創社區高價 https://www.ettoday.net//news/20200605/1730540.htm\n",
      "▲「元大一品苑」是中正區知名豪宅。（圖／業者提供）記者林裕豐／台北報導因為天王周杰倫買入，「元大一品苑」聲名大噪，實價登錄揭露12樓戶交易，交易時間為107年8月，總價高達2億6298萬元，拆算車位每坪單價168.65萬元，單價、總價創下該社區實價登錄有史以來新高，經查買家是華邦電子董娘靳蓉，特別的是，她曾在2013年以1.31億元買下6樓戶，等同個人在「元大一品苑」就擁有2戶，總共投入3.9億元。「元大一品苑」是中正區知名豪宅，基地位愛國西路30號，屋齡約9年，樓高23樓，預售時每坪均價80萬元，當時高樓層也未見百萬元單價，然而現在身價已翻一倍。▲「元大一品苑」位置精華，附近都是政府機關。（圖／業者提供）全國不動產萬華加盟店店長黃坤洋分析，「元大一品苑」共57戶，實價登錄上路以來僅有8筆交易，每坪單價約在130~150萬元之間，總價約在1.2~1.4億元。黃坤洋說「12樓戶交易，坪數165.38坪，是歷年揭露中最大坪數交易，因此總價高達2億6298萬元，也是該社區實價登錄迄今第一個破2億元的交易，該筆交易含一個坡道平面車位，以行情價350萬元拆算，每坪單價達168.65萬元，也創下最高單價紀錄。」▲「元大一品苑」實價登錄迄今交易。（圖／業者提供）全國不動產總經理藍怡婷指出，「元大一品苑」是博愛特區稀有豪宅，曾因地段鄰近總統官邸，在配合高樓層封閉窗戶等條件下才順利取得使用執照，全棟住戶幾乎皆是政商名流，市場傳出包括上市華邦電子董娘靳蓉、中鋼前董座林文淵之妻、調查局前副局長鄭明順等名人都持有該社區，而2018年2筆交易，都站穩150萬元單價，未來也將成為社區定錨價。\n",
      "2020/06/05 10:24 健康 腹瀉、便秘都靠「益生菌」！食用法則大公開…藥師：成份很重要 https://www.ettoday.net//news/20200605/1730148.htm\n",
      "▲夏天食物容易變質，若不注意恐吃壞肚子，因此不少民眾會買益生菌來吃。（圖／記者周宸亘攝）文／段方琪（Kiki）最近天氣變熱，大家開始會到吃吃喝喝，因此會有許多腸胃問題發生，在藥局許多人會來買欣X飛鳴或是若X錠(Wakamodo)，有許多人會詢問這兩個差別，為何便秘可以吃，拉肚子也可以吃呢？欣X飛鳴-為醫藥級乳酸菌，含Bifidus菌(比菲德氏菌)、Acidophilus菌(嗜酸乳桿菌)、Faecalis菌(糞鍊球菌)；Bifidus菌主要分佈於大腸，有整腸效果；而另外兩種細菌主要在小腸分佈，可增加腸內益菌，抑制壞菌；這就是有些醫師，在感冒時，會在藥中加一顆益生菌，讓好菌增加壞菌排出就是這個道理，成人每次3錠，一天要9錠；14歲以下每次2錠，一天6錠。請繼續往下閱讀...若X錠(Wakamodo)¬成分就比較多，1.消化酵素(DiastaseProteaseAcidicProteaseLipaseInvertasePhosphatase)2.乳酸菌(streptococcusfaecalis)3.胺基酸4.維他命-主要為B群5.礦物質，酵素可幫助消化加上有益生菌可抑制壞菌增生，也可營養補充(胺基酸、維他命及礦物質)，就像廣告所說的，整腸助消化。但是一次劑量需要9錠，一天要27錠。▲補益生菌後會增加好菌，改善便秘與腹瀉。（圖／取自免費圖庫Pixabay）至於為何腹瀉便秘都可以使用呢?腹瀉與便祕時，都是有可能腸內菌叢失調，因此補益生菌後就會增加好菌，改善便秘與腹瀉；至於欣X飛鳴與若X錠差別？一般小孩有些腸胃不適，多會建議欣X飛鳴；若X錠含酵素，可改善脹氣情形，許多長輩會有消化不良情形，可建議吃本錠，但因為含益生菌比較少，會建議長輩再另外補充益生菌。另外在口感方面，小孩比較能接受欣X飛鳴，粉粉有點小甜味；有小孩說若X錠有臭味；當然也要看小孩接受度。不管如何以上兩種商品皆屬於指示用藥，記得服用前，詢問藥師喔！段方琪（Kiki）藥師，留學英國，曾任醫連鎖藥妝和醫院藥師、亦曾擔任製藥廠經理。這裡悶、那裏痛，親友說吃這個藥卡有效？看病領藥怎麼吃老霧煞煞？用藥治病、要命可能只在一線之間，可不能一知半解！《ETtoday健康雲》開闢新專欄「藥師站台」，歡迎來信提出你的用藥難題，我們將請專業藥師來解答你的疑惑，幫你顧健康！信箱：ponysunny840905@ettoday.net\n",
      "2020/06/05 10:23 生活 李承翰父悲憤逝！台鐵痛批「司法判決令人不解」　盼正義撥雲見日 https://www.ettoday.net//news/20200605/1730576.htm\n",
      "▲刺死鐵路警察李承翰，鄭男一審獲判無罪。（圖／記者翁伊森翻攝）記者李宜秦／台北報導鐵路警察李承翰去年7月因勸導鄭姓乘客補票，不幸遭鄭男殺害，4月30日一審判決出爐，判處鄭男無罪，並以50萬元交保、強制就醫5年，可上訴。鄭男父親因此抑鬱，昨日不幸離世。交通部台鐵局表示，「一紙令人不解的司法判決，傷心老父愕然猝逝」。25歲鐵路勇警李承翰2019年7月間在台鐵處理逃票事件，孰料，鄭姓男子竟持刀猛捅，他奮力壓制鄭男仍遭刺中，當場血流如注，送醫搶救後仍不治身亡。鄭男事後被依殺人罪起訴，嘉義地院4月30日宣判，最終判他無罪，並以50萬元交保、強制就醫5年，可上訴。請繼續往下閱讀...▲台鐵人員與鐵路警察容易遇到補票糾紛（圖／記者李毓康攝）對此，鄭男父親難以接受，情緒因此憂鬱，昨日傳出已不幸離世，引發各界悲痛。台鐵局在官方臉書粉絲團表示，「一位英勇無私的員警，保護乘客犧牲生命，我們哀痛；一紙令人不解的司法判決，我們遺憾」。台鐵局表示，「公理正義未得彰顯，傷心老父愕然猝逝」，去年7月鐵路警察李承翰，遭逃票鄭男刺殺不幸身亡，而今年4月嘉義地院以鄭姓嫌犯患有思覺失調症判處無罪。並強調，「公理正義總有撥雲見日的一天，台鐵局和鐵路警察站在一起」。\n",
      "2020/06/05 10:23 地方 寵物食安「停看聽」　 農業局呼籲業者為毛孩食安把關！ https://www.ettoday.net//news/20200605/1730572.htm\n",
      "▲台南市農業局動保處，將積極為毛小孩食品安全做把關。（圖／記者林悅翻攝，下同）記者林悅／台南報導因應現今犬貓寵物飼養日益興盛，各式各樣種類繁多的寵物食品陸續上市，主打手工現做與客製化毛小孩造型等噱頭，成為飼主間熱門的搶購目標，寵物食品產業消費力不容小覷，同時配合網路購物商場普及，儼然已成為許多寵物食品製造商或通路商熱門銷售管道之一。台南市動保處指出，這種情況卻也意味著越來越容易在網站各式廣告圖示下進行買賣行為，而飼主往往在收到商品時，才發現文字應標示事項不足或缺漏，難免會造成毛孩們的食品安全隱憂。黃偉哲市長相當重視毛小孩各項福利，也要求農業局動保處積極為毛小孩食品安全做把關。為保障寵物食品來源透明與民眾知的權利，動物保護法第22-3條規範：「寵物食品製造、加工或輸入業者，應就所營之寵物食品向中央主管機關申報。」，農業局謝耀清局長呼籲業者應有定期於行政院農委會寵物食品申報網主動申報的觀念，以供民眾上網查詢相關資訊，違者經限期改善而未改善，將處新台幣3千元以上1萬5千元以下罰鍰。另寵物食品業者應依據動物保護法第22-5條規定之食品應標示事項，以中文及通用符號，於容器、包裝或說明書之上顯著標明，民眾若發現寵物食品有標示不全情形，可向農業局動保處進行舉發，如經查證屬實且經限期改善而未改善者，將處新台幣3萬元以上15萬元以下罰鍰。同時業者對於寵物食品不得有不實、誇張或易生誤解之宣傳廣告，倘販售宣稱具有療效之寵物食品，更可能違反動物用藥品管理法，處以新台幣20萬元以上1百萬元以下罰鍰。農業局動保處於6月3日召開「替毛孩食安把關」記者會，並邀請台南市寵物食品及用品商業同業公會郭振東理事長等共同與會，藉此機會向民眾及寵物食品業者進行宣導，應注意寵物食品申報及標示相關規範，保障毛小孩基本「食」的權利，另農業局動保處除不定期至寵物食品販賣處稽查，同時針對民眾反應案件積極查辦，2019年至2020年5月已查核3617件，輔導要求疑涉違規之業者限期改善計5件，裁罰1件，讓毛小孩吃得安心，飼主更放心。・卸妝膏：一罐卸全臉，回到家5分鐘就能躺著發懶\n"
     ]
    },
    {
     "name": "stdout",
     "output_type": "stream",
     "text": [
      "2020/06/05 10:22 體育 NBA復賽後將每日檢測「確診馬上隔離」　G聯盟取消2019-20賽季 https://www.ettoday.net//news/20200605/1730570.htm\n",
      "▲湖人一哥詹姆斯。（圖／達志影像／美聯社）記者游郁香／綜合報導停賽近3個月，NBA終於確定在台灣時間8月1日重啟賽季，22支球隊前往奧蘭多迪士尼，由於新冠疫情危機尚未完全解除，屆時將採一系列安全措施，包括每日進行統一檢測，若是有一名球員確診，他將立刻被隔離並接受治療，之後再繼續對同隊球員進行檢疫。NBA理事會5日以「29比1」通過22隊復賽計畫，賽季確定在8月1日重啟。參與復賽的球員在奧蘭多迪士尼的「校園環境」中，必須遵循一系列的防疫措施；美國《ESPN》報導，雖然球員和教練會被允許在迪士尼園區打高爾夫球或到戶外餐廳用餐，但他們必須保持社交距離。請繼續往下閱讀...NBA每天都會統一進行新冠病毒檢測，若是有一位球員確診，他將即刻被隔離並且接受治療，但賽季不會因此暫停，該球員的隊友也將陸續受檢。另外，迪士尼的工作人員不得進入球員的房間，飯店的大廳將被嚴格管制，避免人群聚集。NBA確定復賽，發展聯盟則取消了剩餘的賽季，G聯盟總裁羅因(ShareefAbdur-Rahim)5日宣布了此消息，他表示這個決定很沉重，但是現在最好的做法。►上網登錄過期票券　現賺1.5倍東森幣從嬰幼兒到熟男熟女全部適用\n",
      "2020/06/05 10:21 體育 CBA／20日球季重啟　青島、東莞兩大賽區15天打完首輪 https://www.ettoday.net//news/20200605/1730574.htm\n",
      "▲CBA20日重啟球季。（圖／CFP）記者洪偵源／綜合報導CBA將在20日正式重啟球季，分為青島與東莞兩大賽區，並且會在15天內打完第一階段的賽事，另外在外援部分，全華班球隊碰上有洋將的隊伍，出賽規則也做出修訂。青島賽區的球隊有同曦、廣廈、青島、新疆、北京、遼寧、浙江、上海、廣州以及八一，分在東莞賽區的球隊為江蘇、深圳、廣東、山西、吉林、四川、山東、天津、北控還有福建。請繼續往下閱讀...20日青島賽區有3場比賽，分別為同曦對廣廈、青島對新疆、北京對遼寧，東莞賽區為江蘇與深圳，以及廣東與山西的交手。第一階段賽事將打到7月4日止，歷時15天，第二階段打完後，將取前12名球隊打季後賽，並打兩輪單淘汰產生4強，接下來變成3戰2勝制，包括總冠軍賽。洋將部分，如果球隊沒有註冊外援包括亞洲外援，將認定為「全華班」球隊，有註冊外援的球隊碰上全華班時，外援上場限制4節4人次，第四節只能上場1人次。►上網登錄過期票券　現賺1.5倍東森幣地表最強美白精華，夏日必備神物\n",
      "2020/06/05 10:19 國際 「肯爺」Kanye West豪捐5900萬　資助佛洛伊德6歲女「一路唸進大學」！ https://www.ettoday.net//news/20200605/1730495.htm\n",
      "▲肯伊威斯特宣布捐200萬美金，資助佛洛伊德女兒上大學。（圖／翻攝自肯爺IG、路透社）記者陳亭伃／綜合報導美國全境陷入「佛洛伊德之死」示威抗議，起因為非裔男子佛洛伊德（GeorgeFloyd）遭到白人警方執法過當致死，而佛洛伊德生前育有一對兒女，女兒年僅6歲。如今面對失去父親，知名嘻哈歌手肯伊威斯特（KanyeWest肯爺）宣布，將捐助200萬美金（約台幣5900萬）給予佛洛伊德小女兒，以及日前同樣遭到警方殺害的兩名黑人家屬。根據英國《每日郵報》報導，全美面對「佛洛伊德之死」示威抗議情緒來到最沸騰，影響許多人生活、店面營業，外界對於佛洛伊德身後還有一名6歲的小女兒感到相當心疼。而日前肯伊威斯特出面表示，願意全額支付佛洛伊德女兒吉安娜（GiannaFloyd）到大學的學費，此舉一出讓所有人相當感動。肯伊威斯特設立了儲蓄基金，將給予近期遭到警方、白人殺害的非裔美國人捐贈200萬美金，包括埃博里（AhmaudArbery）事件與布倫娜泰勒（BreonnaTaylor）之死，他們同樣都是遭到警方開槍射殺下的黑人犧牲者。佛洛伊德小女兒吉安娜日前跟著家人上街，並且童言童語的說「爸爸改變了世界」，讓所有人相當心疼。吉安娜的母親難過表示，當女兒問她「爸爸去哪了？」她只能回答：「爸爸因為無法呼吸所以離開了我們」。►東西買起來，壓力發洩出去    在Instagram查看這則貼文          #kanyewestKanyeWest（@kanyew.est）分享的貼文於PDT2020年6月月4日下午2:34張貼\n",
      "2020/06/05 10:18 社會 恐怖攻擊！女騎士遭撞死機車撞爛　Uber司機酒駕肇事求輕判 https://www.ettoday.net//news/20200605/1730569.htm\n",
      "▲Uber司機郭姓男子酒駕肇事，二審求高等法院輕判。（圖／《ETtoday新聞雲》資料照）記者吳銘峯／台北報導Uber司機郭俊邑2018年間涉嫌酒駕，在台北市基隆路上以破百公里時速狂飆，撞死1名機車女騎士，又撞傷2名騎士，接著撞進騎樓內，現場汽機車零件散落，宛如恐怖攻擊。一審將郭男重判8年，案經上訴，高等法院開庭時，郭男在法庭道歉，請求和解，但家屬不接受，直呼郭男「只在法官面前道歉！」本案發生於2018年9月底，當時正值中秋節，不過台北市街頭在清晨5點多，卻發生這起恐攻級的車禍。24歲的郭男在前一天晚間與朋友喝酒到天亮，醉醺醺地開車上路。看到員警在路邊攔檢，郭男隨即將紅燈右轉，在羅斯福路上狂飆，沿途闖越多個紅燈。最後轉進基隆路4段往北二高方向。郭男此時時速超過100公里，但他因為酒駕再加上躲避查緝，竟高速從2部機車間強行穿越，先撞倒一名女騎士。郭男不僅沒停車，還加速直衝，再撞飛外側機車的陳姓女騎士。郭男車輛失控，連續撞擊路邊車輛，以及擦撞另一名機車女騎士，最後撞進騎樓裡。現場汽機車零件散落，房屋梁柱歪斜，宛若遭到恐怖攻擊。3名遭撞傷的女子中，陳女全身多處骨折，送醫不治，另2人並無生命危險。郭男肇事後，下車打電話求助，警方到場進行酒測，郭男酒測值高達每公升1.29毫克。檢方依照「殺人罪」提起公訴。一審改認定郭男犯「酒駕肇事致人於死罪」，由於郭男符合自首減刑要件，一審將他判刑8年。案經上訴，高等法院開庭時，郭男否認具有殺人犯意，辯稱當天凌晨下班後，找朋友喝了威士忌與啤酒，醉到不記得怎麼開車上路，也不記得撞到人沒停車，自己並無殺人故意，請求法院輕判。但高院勘驗他的行車紀錄器，發覺郭男一路均未減速，沿途蛇行、車身搖擺不定、擦撞分隔島、闖紅燈，可見他已經達到不能安全駕駛的地步。家屬更當庭大罵「撒謊！」、「只會在法官面前道歉」，強調郭男從未和解「你何時來找過我們！提出什麼條件！你有嗎！一句對不起都沒有！」家屬因此請求法院依照殺人罪重判。法院諭知本月24日上午10時宣判。\n",
      "2020/06/05 10:13 國際 「佛洛伊德之名永流傳！」非裔男胞弟悲痛現身紐約追悼會 https://www.ettoday.net//news/20200605/1730474.htm\n",
      "▲泰倫斯出席紐約追悼會。（圖／達志影像／美聯社）文／中央社記者尹俊傑紐約4日專電美國非裔男子佛洛伊德死於白人警察之手，掀起反種族歧視示威潮。佛洛伊德胞弟泰倫斯今天在紐約追悼會情緒激動，籲和平示威。5月25日，明尼阿波利斯市（Minneapolis）一家雜貨店的店員打電話報警，宣稱佛洛伊德（GeorgeFloyd）試圖使用一張20美元偽鈔購物。佛洛伊德遭白人員警蕭文（DerekChauvin）用膝蓋強壓脖頸近9分鐘後喪命，引爆的示威潮至今未平息佛洛伊德之死掀起的示威蔓延全美，紐約市大型抗爭活動邁入第7天。美東時間4日下午在布魯克林區卡德曼廣場（CadmanPlaza）的追悼活動吸引數千人參加，與佛洛伊德案發生地點明尼蘇達州首府明尼阿波利斯市的追悼會同步舉行。來自布魯克林的泰倫斯（TerrenceFloyd）戴著紐約洋基隊帽子，T恤與口罩上都印有哥哥的肖像。他發言前情緒激動，數度仰望天際，沉默一分多鐘才開口說：「我想感謝上帝。」他表示：「我很憤恨，但我想感謝上帝。這不是他（佛洛伊德）的錯，這是他在世的目的與意志，我花了好幾天才認清這點，但我想感謝上帝，因為我哥哥雖已逝世，佛洛伊德之名將永流傳。」一週來，紐約多地示威活動大致平和，但仍不時傳出警民對峙與暴力打劫事件。紐約市本週起實施77年來首次全市宵禁，布魯克林昨晚仍發生襲警事件，3名員警受傷，送醫治療後情況穩定。泰倫斯說：「我以示威為傲，但我不以破壞為傲。我哥哥與這（破壞）一點關係都沒有。」他呼籲賦權與民，「不只是我的人民，不只是你的人民，不只是人家認為重要還怎樣的人民，我講的是把權力還給全民，我們所有人」。現場數千人隨後在他高呼「高舉左手爭和平」下大喊「高舉右手討公道」。▲數千人在布魯克林區卡德曼廣場舉辦追悼活動。（圖／達志影像／美聯社）自2日起，紐約市每晚8時實施宵禁到隔天清晨5時。大批示威者宵禁期間仍逗留街頭，不滿警方試圖驅離，加上日前有兩輛警車加速衝撞擋住去路的示威者，影片透過社群媒體傳開，加深民眾對紐約市警察局執法過當的印象。白思豪（BilldeBlasio）與非裔妻子麥克蕾（ChirlaneMcCray）一同登台發言時，現場響起震耳欲聾的噓聲，不少人高喊「辭職」與「滾回家」。麥克蕾率先發言，與台下群眾一同高呼「黑人的命也是命」，並呼籲民眾挑戰體制，不能無視佛洛伊德之死帶來的痛苦、創傷和憤怒。白思豪表示：「這座城市不會只開空頭支票，一定會有變革，紐約市警察局會改革。你們一定看得到且會相信，因為你們將親眼目睹變革。我們必須實現改革，沒做到這點鐵定不行。我們將徹底為這座城市帶來和平改變，請持續爭取變革。」當白思豪說「紐約市黑人的命也是命，美國必須重視黑人生命」時，部分民眾以笑聲回應。布魯克林追悼活動現場，大批民眾隨「說出他的名字」口號高喊佛洛伊德，並高舉「我無法呼吸」、「不給公道，就沒有和平」、「廢掉警局」等標語。在2019冠狀病毒疾病（COVID-19，武漢肺炎）威脅未除的情況下，多數參與追悼活動的民眾配戴口罩，但未保持6英尺（約183公分）距離。紐約州長古莫（AndrewCuomo）今天呼籲所有參加示威的民眾都接受病毒檢測，以免傳染給家中高危險族群。\n"
     ]
    }
   ],
   "source": [
    "import requests\n",
    "import MySQLdb\n",
    "from bs4 import BeautifulSoup\n",
    "\n",
    "def InsertDB(newsTime,tag,title,content,url):\n",
    "    conn = MySQLdb.Connect(host=\"localhost\",user = \"root\",passwd =\"root\",db=\"test\",charset=\"utf8\")    \n",
    "    cmd = conn.cursor()\n",
    "    \n",
    "    sql = \"INSERT INTO news (publish_date,title, url, content,tag) VALUES (%s,%s,%s,%s,%s)\"\n",
    "    val = (newsTime,title,url,content,tag)\n",
    "    cmd.execute(sql,val)\n",
    "    conn.commit()   \n",
    "    conn.close()\n",
    "    \n",
    "\n",
    "def getNewsContent(url):\n",
    "    contenturl = requests.get(url)\n",
    "    content = BeautifulSoup(contenturl.text)\n",
    "    adTags= content.findAll(name ='div',attrs={\"class\":\"ad_in_news\"})\n",
    "        \n",
    "    for ad in  adTags:\n",
    "        if ad.has_attr(\"ad_in_news\"):\n",
    "            ad.decompose()\n",
    "        if ad.has_attr(\"ad_readmore\"):\n",
    "            ad.decompose()\n",
    "            \n",
    "    b= content .find(name ='div',attrs={\"itemprop\":\"articleBody\"}) \n",
    "    text = b.getText()\n",
    "    text = text.replace(\" \",\"\").replace(\"\\n\",\"\")\n",
    "    return text\n",
    "\n",
    "def getNewsInfo(url):\n",
    "    res = requests.get(url)\n",
    "    soup = BeautifulSoup(res.text)\n",
    "    a = soup.find(name ='div',attrs={\"class\":\"part_list_2\"})\n",
    "    a = a.select(\"h3\")\n",
    "    \n",
    "    for item in a:\n",
    "        newstime = item.select('span')[0].text\n",
    "        newsTag = item.select('em')[0].text\n",
    "        newsTitle = item.select('a')[0].text\n",
    "        newsurl = 'https://www.ettoday.net/'+item.select('a')[0]['href']\n",
    "        context = getNewsContent(newsurl)\n",
    "        \n",
    "        InsertDB(newstime,newsTag,newsTitle,context,newsurl)\n",
    "        \n",
    "        print(\"%s %s %s %s\" %(newstime,newsTag,newsTitle,newsurl)) \n",
    "        print(context)\n",
    "    \n",
    "\n",
    "url='https://www.ettoday.net/news/news-list.htm'\n",
    "getNewsInfo(url)"
   ]
  },
  {
   "cell_type": "code",
   "execution_count": null,
   "metadata": {},
   "outputs": [],
   "source": []
  },
  {
   "cell_type": "code",
   "execution_count": null,
   "metadata": {},
   "outputs": [],
   "source": []
  },
  {
   "cell_type": "markdown",
   "metadata": {},
   "source": [
    "### Selenium"
   ]
  },
  {
   "cell_type": "code",
   "execution_count": 5,
   "metadata": {},
   "outputs": [],
   "source": [
    "from selenium import webdriver"
   ]
  },
  {
   "cell_type": "code",
   "execution_count": 6,
   "metadata": {},
   "outputs": [],
   "source": [
    "driver = webdriver.Chrome()"
   ]
  },
  {
   "cell_type": "code",
   "execution_count": null,
   "metadata": {},
   "outputs": [],
   "source": [
    "#設定視窗最大化\n",
    "driver.maximize_window()"
   ]
  },
  {
   "cell_type": "code",
   "execution_count": null,
   "metadata": {},
   "outputs": [],
   "source": [
    "url = 'http://www.google.com'\n",
    "driver.get(url)"
   ]
  },
  {
   "cell_type": "code",
   "execution_count": null,
   "metadata": {},
   "outputs": [],
   "source": [
    "#回傳目前的網址\n",
    "driver.current_url"
   ]
  },
  {
   "cell_type": "code",
   "execution_count": null,
   "metadata": {},
   "outputs": [],
   "source": [
    "# 網頁重新整理\n",
    "driver.refresh()"
   ]
  },
  {
   "cell_type": "code",
   "execution_count": null,
   "metadata": {},
   "outputs": [],
   "source": [
    "# 儲存截圖 save_screenshot()\n",
    "driver.save_screenshot('pic/screen.png')"
   ]
  },
  {
   "cell_type": "code",
   "execution_count": null,
   "metadata": {},
   "outputs": [],
   "source": [
    "driver.close() #關閉目前視窗\n",
    "#driver.quit() #關閉所有視窗,並退出Driver"
   ]
  },
  {
   "cell_type": "markdown",
   "metadata": {},
   "source": [
    "#### 元素定位"
   ]
  },
  {
   "cell_type": "markdown",
   "metadata": {},
   "source": [
    "##### By id"
   ]
  },
  {
   "cell_type": "code",
   "execution_count": null,
   "metadata": {},
   "outputs": [],
   "source": [
    "# <div id=\"aaa\">...</div>"
   ]
  },
  {
   "cell_type": "code",
   "execution_count": null,
   "metadata": {},
   "outputs": [],
   "source": [
    "driver.find_element_by_id(\"aaa\")\n",
    "driver.find_elements_by_id(\"aaa\")"
   ]
  },
  {
   "cell_type": "code",
   "execution_count": null,
   "metadata": {},
   "outputs": [],
   "source": [
    "from selenium.webdriver.common.by import By\n",
    "driver.find_element(By.ID, \"aaa\")\n",
    "driver.find_elements(By.ID, \"aaa\")"
   ]
  },
  {
   "cell_type": "markdown",
   "metadata": {},
   "source": [
    "##### By Class Name"
   ]
  },
  {
   "cell_type": "code",
   "execution_count": null,
   "metadata": {},
   "outputs": [],
   "source": [
    "#<div class=\"myclass\">...</div>"
   ]
  },
  {
   "cell_type": "code",
   "execution_count": null,
   "metadata": {},
   "outputs": [],
   "source": [
    "driver.find_element_by_class_name(\"myclass\")\n",
    "driver.find_elements_by_class_name(\"myclass\")"
   ]
  },
  {
   "cell_type": "code",
   "execution_count": null,
   "metadata": {},
   "outputs": [],
   "source": [
    "from selenium.webdriver.common.by import By\n",
    "driver.find_element(By.CLASS_NAME, \"myclass\")\n",
    "driver.find_elements(By.CLASS_NAME, \"myclass\")"
   ]
  },
  {
   "cell_type": "markdown",
   "metadata": {},
   "source": [
    "##### By Name"
   ]
  },
  {
   "cell_type": "code",
   "execution_count": null,
   "metadata": {},
   "outputs": [],
   "source": [
    "#<div name=\"abc\">...</div>"
   ]
  },
  {
   "cell_type": "code",
   "execution_count": null,
   "metadata": {},
   "outputs": [],
   "source": [
    "driver.find_element_by_name(\"abc\")\n",
    "driver.find_elements_by_name(\"abc\")"
   ]
  },
  {
   "cell_type": "code",
   "execution_count": null,
   "metadata": {},
   "outputs": [],
   "source": [
    "from selenium.webdriver.common.by import By\n",
    "driver.find_element(By.NAME, \"abc\")\n",
    "driver.find_elements(By.NAME, \"abc\")"
   ]
  },
  {
   "cell_type": "markdown",
   "metadata": {},
   "source": [
    "##### By CSS"
   ]
  },
  {
   "cell_type": "code",
   "execution_count": null,
   "metadata": {},
   "outputs": [],
   "source": [
    "#<div id=\"area\"><span class=\"location\">abc</span></div>"
   ]
  },
  {
   "cell_type": "code",
   "execution_count": null,
   "metadata": {},
   "outputs": [],
   "source": [
    "driver.find_element_by_css_selector(\"#area span.location\")\n",
    "driver.find_elements_by_css_selector(\"#area span.location\")"
   ]
  },
  {
   "cell_type": "code",
   "execution_count": null,
   "metadata": {},
   "outputs": [],
   "source": [
    "from selenium.webdriver.common.by import By\n",
    "driver.find_element(\"#area span.location\")\n",
    "driver.find_elements(\"#area span.location\")"
   ]
  },
  {
   "cell_type": "markdown",
   "metadata": {},
   "source": [
    "##### By Link Text"
   ]
  },
  {
   "cell_type": "code",
   "execution_count": null,
   "metadata": {},
   "outputs": [],
   "source": [
    "#<a href=\"http://www.google.com/search?q=iphone\">iphone</a>>"
   ]
  },
  {
   "cell_type": "code",
   "execution_count": null,
   "metadata": {},
   "outputs": [],
   "source": [
    "driver.find_element_by_link_text(\"iphone\")\n",
    "driver.find_elements_by_link_text(\"iphone\")"
   ]
  },
  {
   "cell_type": "code",
   "execution_count": null,
   "metadata": {},
   "outputs": [],
   "source": [
    "from selenium.webdriver.common.by import By\n",
    "driver.find_element(By.LINK_TEXT, \"iphone\")\n",
    "driver.find_elements(BY.LINK_TEXT, \"iphone\")"
   ]
  },
  {
   "cell_type": "markdown",
   "metadata": {},
   "source": [
    "##### By Partial Link Text"
   ]
  },
  {
   "cell_type": "code",
   "execution_count": null,
   "metadata": {},
   "outputs": [],
   "source": [
    "#<a href=\"http://www.google.com/search?q=iphone\">iphone</a>>"
   ]
  },
  {
   "cell_type": "code",
   "execution_count": null,
   "metadata": {},
   "outputs": [],
   "source": [
    "driver.find_element_by_partial_link_text(\"phone\")\n",
    "driver.find_elements_by_partial_link_text(\"phone\")"
   ]
  },
  {
   "cell_type": "code",
   "execution_count": null,
   "metadata": {},
   "outputs": [],
   "source": [
    "from selenium.webdriver.common.by import By\n",
    "driver.find_element(By.PARTIAL_LINK_TEXT, \"phone\")\n",
    "driver.find_elements(By.PARTIAL_LINK_TEXT, \"phone\")"
   ]
  },
  {
   "cell_type": "markdown",
   "metadata": {},
   "source": [
    "##### By XPATH"
   ]
  },
  {
   "cell_type": "code",
   "execution_count": null,
   "metadata": {},
   "outputs": [],
   "source": [
    "#<input type=\"text\" name=\"abc\" />"
   ]
  },
  {
   "cell_type": "code",
   "execution_count": null,
   "metadata": {},
   "outputs": [],
   "source": [
    "driver.find_element_by_xpath(\"//input\")\n",
    "driver.find_elements_by_xpath(\"//input\")"
   ]
  },
  {
   "cell_type": "code",
   "execution_count": null,
   "metadata": {},
   "outputs": [],
   "source": [
    "from selenium.webdriver.common.by import By\n",
    "driver.find_element(By.XPATH, \"//input\")\n",
    "driver.find_elements(By.XPATH, \"//input\")"
   ]
  },
  {
   "cell_type": "code",
   "execution_count": null,
   "metadata": {},
   "outputs": [],
   "source": []
  },
  {
   "cell_type": "markdown",
   "metadata": {},
   "source": [
    "#### Example 591租屋網"
   ]
  },
  {
   "cell_type": "code",
   "execution_count": 4,
   "metadata": {},
   "outputs": [],
   "source": [
    "from selenium import webdriver\n",
    "from selenium.webdriver.common.keys import Keys\n",
    "from selenium.webdriver.common.by import By"
   ]
  },
  {
   "cell_type": "code",
   "execution_count": 5,
   "metadata": {},
   "outputs": [],
   "source": [
    "driver = webdriver.Chrome()\n",
    "driver.get('https://www.591.com.tw/')"
   ]
  },
  {
   "cell_type": "code",
   "execution_count": 6,
   "metadata": {},
   "outputs": [],
   "source": [
    "driver.find_element_by_id('auto-search-input').send_keys('竹北')\n",
    "driver.find_element_by_id('auto-search-input').send_keys(Keys.ENTER)"
   ]
  },
  {
   "cell_type": "code",
   "execution_count": 7,
   "metadata": {},
   "outputs": [],
   "source": [
    "driver.find_element_by_xpath('//*[@id=\"search-location\"]/span[1]/i').click()\n",
    "driver.find_element_by_link_text('新竹縣').click()\n"
   ]
  },
  {
   "cell_type": "code",
   "execution_count": 10,
   "metadata": {},
   "outputs": [],
   "source": [
    "driver.find_element_by_xpath('//*[@id=\"search-location\"]/span[1]/i').click()\n",
    "driver.find_element_by_link_text('新竹縣').click()"
   ]
  },
  {
   "cell_type": "code",
   "execution_count": 9,
   "metadata": {},
   "outputs": [],
   "source": [
    "driver.find_element_by_xpath('//*[@id=\"optionBox\"]/li[1]/label/span').click()\n",
    "driver.find_element_by_xpath('//*[@id=\"optionBox\"]/li[3]/label/span').click()\n"
   ]
  },
  {
   "cell_type": "code",
   "execution_count": 17,
   "metadata": {},
   "outputs": [],
   "source": [
    "driver.find_element_by_link_text('獨立套房').click()\n",
    "driver.find_element_by_xpath('//*[@id=\"search-price\"]/span[3]').click()\n",
    "driver.find_element_by_xpath('//*[@id=\"search-plain\"]/span[2]').click()"
   ]
  },
  {
   "cell_type": "code",
   "execution_count": 18,
   "metadata": {},
   "outputs": [
    {
     "name": "stdout",
     "output_type": "stream",
     "text": [
      "https://rent.591.com.tw/?kind=2&type=1&region=5&rentprice=2&area=0,10\n"
     ]
    },
    {
     "ename": "NoSuchElementException",
     "evalue": "Message: no such element: Unable to locate element: {\"method\":\"partial link text\",\"selector\":\"長春路\"}\n  (Session info: chrome=83.0.4103.61)\n",
     "output_type": "error",
     "traceback": [
      "\u001b[1;31m---------------------------------------------------------------------------\u001b[0m",
      "\u001b[1;31mNoSuchElementException\u001b[0m                    Traceback (most recent call last)",
      "\u001b[1;32m<ipython-input-18-f105f8903198>\u001b[0m in \u001b[0;36m<module>\u001b[1;34m\u001b[0m\n\u001b[0;32m      1\u001b[0m \u001b[0mprint\u001b[0m\u001b[1;33m(\u001b[0m\u001b[0mdriver\u001b[0m\u001b[1;33m.\u001b[0m\u001b[0mcurrent_url\u001b[0m\u001b[1;33m)\u001b[0m\u001b[1;33m\u001b[0m\u001b[1;33m\u001b[0m\u001b[0m\n\u001b[1;32m----> 2\u001b[1;33m \u001b[0mdriver\u001b[0m\u001b[1;33m.\u001b[0m\u001b[0mfind_element_by_partial_link_text\u001b[0m\u001b[1;33m(\u001b[0m\u001b[1;34m'長春路'\u001b[0m\u001b[1;33m)\u001b[0m\u001b[1;33m.\u001b[0m\u001b[0mclick\u001b[0m\u001b[1;33m(\u001b[0m\u001b[1;33m)\u001b[0m\u001b[1;33m\u001b[0m\u001b[1;33m\u001b[0m\u001b[0m\n\u001b[0m",
      "\u001b[1;32mc:\\users\\user\\appdata\\local\\programs\\python\\python37\\lib\\site-packages\\selenium\\webdriver\\remote\\webdriver.py\u001b[0m in \u001b[0;36mfind_element_by_partial_link_text\u001b[1;34m(self, link_text)\u001b[0m\n\u001b[0;32m    460\u001b[0m             \u001b[0melement\u001b[0m \u001b[1;33m=\u001b[0m \u001b[0mdriver\u001b[0m\u001b[1;33m.\u001b[0m\u001b[0mfind_element_by_partial_link_text\u001b[0m\u001b[1;33m(\u001b[0m\u001b[1;34m'Sign'\u001b[0m\u001b[1;33m)\u001b[0m\u001b[1;33m\u001b[0m\u001b[1;33m\u001b[0m\u001b[0m\n\u001b[0;32m    461\u001b[0m         \"\"\"\n\u001b[1;32m--> 462\u001b[1;33m         \u001b[1;32mreturn\u001b[0m \u001b[0mself\u001b[0m\u001b[1;33m.\u001b[0m\u001b[0mfind_element\u001b[0m\u001b[1;33m(\u001b[0m\u001b[0mby\u001b[0m\u001b[1;33m=\u001b[0m\u001b[0mBy\u001b[0m\u001b[1;33m.\u001b[0m\u001b[0mPARTIAL_LINK_TEXT\u001b[0m\u001b[1;33m,\u001b[0m \u001b[0mvalue\u001b[0m\u001b[1;33m=\u001b[0m\u001b[0mlink_text\u001b[0m\u001b[1;33m)\u001b[0m\u001b[1;33m\u001b[0m\u001b[1;33m\u001b[0m\u001b[0m\n\u001b[0m\u001b[0;32m    463\u001b[0m \u001b[1;33m\u001b[0m\u001b[0m\n\u001b[0;32m    464\u001b[0m     \u001b[1;32mdef\u001b[0m \u001b[0mfind_elements_by_partial_link_text\u001b[0m\u001b[1;33m(\u001b[0m\u001b[0mself\u001b[0m\u001b[1;33m,\u001b[0m \u001b[0mlink_text\u001b[0m\u001b[1;33m)\u001b[0m\u001b[1;33m:\u001b[0m\u001b[1;33m\u001b[0m\u001b[1;33m\u001b[0m\u001b[0m\n",
      "\u001b[1;32mc:\\users\\user\\appdata\\local\\programs\\python\\python37\\lib\\site-packages\\selenium\\webdriver\\remote\\webdriver.py\u001b[0m in \u001b[0;36mfind_element\u001b[1;34m(self, by, value)\u001b[0m\n\u001b[0;32m    976\u001b[0m         return self.execute(Command.FIND_ELEMENT, {\n\u001b[0;32m    977\u001b[0m             \u001b[1;34m'using'\u001b[0m\u001b[1;33m:\u001b[0m \u001b[0mby\u001b[0m\u001b[1;33m,\u001b[0m\u001b[1;33m\u001b[0m\u001b[1;33m\u001b[0m\u001b[0m\n\u001b[1;32m--> 978\u001b[1;33m             'value': value})['value']\n\u001b[0m\u001b[0;32m    979\u001b[0m \u001b[1;33m\u001b[0m\u001b[0m\n\u001b[0;32m    980\u001b[0m     \u001b[1;32mdef\u001b[0m \u001b[0mfind_elements\u001b[0m\u001b[1;33m(\u001b[0m\u001b[0mself\u001b[0m\u001b[1;33m,\u001b[0m \u001b[0mby\u001b[0m\u001b[1;33m=\u001b[0m\u001b[0mBy\u001b[0m\u001b[1;33m.\u001b[0m\u001b[0mID\u001b[0m\u001b[1;33m,\u001b[0m \u001b[0mvalue\u001b[0m\u001b[1;33m=\u001b[0m\u001b[1;32mNone\u001b[0m\u001b[1;33m)\u001b[0m\u001b[1;33m:\u001b[0m\u001b[1;33m\u001b[0m\u001b[1;33m\u001b[0m\u001b[0m\n",
      "\u001b[1;32mc:\\users\\user\\appdata\\local\\programs\\python\\python37\\lib\\site-packages\\selenium\\webdriver\\remote\\webdriver.py\u001b[0m in \u001b[0;36mexecute\u001b[1;34m(self, driver_command, params)\u001b[0m\n\u001b[0;32m    319\u001b[0m         \u001b[0mresponse\u001b[0m \u001b[1;33m=\u001b[0m \u001b[0mself\u001b[0m\u001b[1;33m.\u001b[0m\u001b[0mcommand_executor\u001b[0m\u001b[1;33m.\u001b[0m\u001b[0mexecute\u001b[0m\u001b[1;33m(\u001b[0m\u001b[0mdriver_command\u001b[0m\u001b[1;33m,\u001b[0m \u001b[0mparams\u001b[0m\u001b[1;33m)\u001b[0m\u001b[1;33m\u001b[0m\u001b[1;33m\u001b[0m\u001b[0m\n\u001b[0;32m    320\u001b[0m         \u001b[1;32mif\u001b[0m \u001b[0mresponse\u001b[0m\u001b[1;33m:\u001b[0m\u001b[1;33m\u001b[0m\u001b[1;33m\u001b[0m\u001b[0m\n\u001b[1;32m--> 321\u001b[1;33m             \u001b[0mself\u001b[0m\u001b[1;33m.\u001b[0m\u001b[0merror_handler\u001b[0m\u001b[1;33m.\u001b[0m\u001b[0mcheck_response\u001b[0m\u001b[1;33m(\u001b[0m\u001b[0mresponse\u001b[0m\u001b[1;33m)\u001b[0m\u001b[1;33m\u001b[0m\u001b[1;33m\u001b[0m\u001b[0m\n\u001b[0m\u001b[0;32m    322\u001b[0m             response['value'] = self._unwrap_value(\n\u001b[0;32m    323\u001b[0m                 response.get('value', None))\n",
      "\u001b[1;32mc:\\users\\user\\appdata\\local\\programs\\python\\python37\\lib\\site-packages\\selenium\\webdriver\\remote\\errorhandler.py\u001b[0m in \u001b[0;36mcheck_response\u001b[1;34m(self, response)\u001b[0m\n\u001b[0;32m    240\u001b[0m                 \u001b[0malert_text\u001b[0m \u001b[1;33m=\u001b[0m \u001b[0mvalue\u001b[0m\u001b[1;33m[\u001b[0m\u001b[1;34m'alert'\u001b[0m\u001b[1;33m]\u001b[0m\u001b[1;33m.\u001b[0m\u001b[0mget\u001b[0m\u001b[1;33m(\u001b[0m\u001b[1;34m'text'\u001b[0m\u001b[1;33m)\u001b[0m\u001b[1;33m\u001b[0m\u001b[1;33m\u001b[0m\u001b[0m\n\u001b[0;32m    241\u001b[0m             \u001b[1;32mraise\u001b[0m \u001b[0mexception_class\u001b[0m\u001b[1;33m(\u001b[0m\u001b[0mmessage\u001b[0m\u001b[1;33m,\u001b[0m \u001b[0mscreen\u001b[0m\u001b[1;33m,\u001b[0m \u001b[0mstacktrace\u001b[0m\u001b[1;33m,\u001b[0m \u001b[0malert_text\u001b[0m\u001b[1;33m)\u001b[0m\u001b[1;33m\u001b[0m\u001b[1;33m\u001b[0m\u001b[0m\n\u001b[1;32m--> 242\u001b[1;33m         \u001b[1;32mraise\u001b[0m \u001b[0mexception_class\u001b[0m\u001b[1;33m(\u001b[0m\u001b[0mmessage\u001b[0m\u001b[1;33m,\u001b[0m \u001b[0mscreen\u001b[0m\u001b[1;33m,\u001b[0m \u001b[0mstacktrace\u001b[0m\u001b[1;33m)\u001b[0m\u001b[1;33m\u001b[0m\u001b[1;33m\u001b[0m\u001b[0m\n\u001b[0m\u001b[0;32m    243\u001b[0m \u001b[1;33m\u001b[0m\u001b[0m\n\u001b[0;32m    244\u001b[0m     \u001b[1;32mdef\u001b[0m \u001b[0m_value_or_default\u001b[0m\u001b[1;33m(\u001b[0m\u001b[0mself\u001b[0m\u001b[1;33m,\u001b[0m \u001b[0mobj\u001b[0m\u001b[1;33m,\u001b[0m \u001b[0mkey\u001b[0m\u001b[1;33m,\u001b[0m \u001b[0mdefault\u001b[0m\u001b[1;33m)\u001b[0m\u001b[1;33m:\u001b[0m\u001b[1;33m\u001b[0m\u001b[1;33m\u001b[0m\u001b[0m\n",
      "\u001b[1;31mNoSuchElementException\u001b[0m: Message: no such element: Unable to locate element: {\"method\":\"partial link text\",\"selector\":\"長春路\"}\n  (Session info: chrome=83.0.4103.61)\n"
     ]
    }
   ],
   "source": [
    "print(driver.current_url)\n",
    "driver.find_element_by_partial_link_text('長春路').click()"
   ]
  },
  {
   "cell_type": "code",
   "execution_count": 19,
   "metadata": {},
   "outputs": [],
   "source": [
    "target = driver.find_elements_by_partial_link_text('飯店')\n",
    "for item in target :    \n",
    "    item.click()"
   ]
  },
  {
   "cell_type": "markdown",
   "metadata": {},
   "source": [
    "#### Example 抓取銀行機構列表"
   ]
  },
  {
   "cell_type": "code",
   "execution_count": null,
   "metadata": {},
   "outputs": [],
   "source": [
    "import requests\n",
    "import time\n",
    "from bs4 import BeautifulSoup\n",
    "from selenium import webdriver\n",
    "from selenium.webdriver.common.keys import Keys\n",
    "from selenium.webdriver.common.by import By\n",
    "from selenium.webdriver.support.ui import Select\n",
    "\n",
    "driver = webdriver.Chrome()\n",
    "url ='https://www.cbc.gov.tw/tw/sp-bank-qform-1.html'\n",
    "driver.get(url)\n",
    "\n",
    "a=  BeautifulSoup(driver.page_source, \"html.parser\")\n",
    "a= a.find(name ='select',attrs={\"id\":\"DDLBankType\"})\n",
    "b = a.find_all(name = 'option')\n",
    "\n",
    "for i in range(0,len(b)):\n",
    "    driver.find_element_by_id(\"CKBCheckBankType\").click()\n",
    "    select = Select(driver.find_element_by_name('DDLBankType'))  \n",
    "    select.select_by_index(i)\n",
    "    driver.find_element_by_id('BTNQuery').send_keys(Keys.ENTER)\n",
    "    time.sleep(30)\n",
    "    soup =  BeautifulSoup(driver.page_source, \"html.parser\")\n",
    "    body = soup.find(name ='div',attrs={\"id\":\"QueryResult\"})\n",
    "    bank = body.find_all(name ='td',attrs={\"data-title\":\"名稱\"} )\n",
    "    address= body.find_all(name ='td',attrs={\"data-title\":\"地址\"} )\n",
    "    tel = body.find_all(name ='td',attrs={\"data-title\":\"電話\"} )\n",
    "    line =''\n",
    "    for j,k,l in zip(bank,address,tel):\n",
    "        item_bank = j.text\n",
    "        item_address = k.text\n",
    "        item_tel = l.text\n",
    "        line = line+ item_bank+','+item_address+','+item_tel+\"\\n\"         \n",
    "    with open(\"banklist.csv\", \"a+\",encoding=\"utf-8\") as f:\n",
    "        f.write(line)\n",
    "\n",
    "    driver.refresh()\n",
    "driver.quit()"
   ]
  },
  {
   "cell_type": "code",
   "execution_count": null,
   "metadata": {},
   "outputs": [],
   "source": []
  },
  {
   "cell_type": "code",
   "execution_count": null,
   "metadata": {},
   "outputs": [],
   "source": []
  }
 ],
 "metadata": {
  "kernelspec": {
   "display_name": "Python 3",
   "language": "python",
   "name": "python3"
  },
  "language_info": {
   "codemirror_mode": {
    "name": "ipython",
    "version": 3
   },
   "file_extension": ".py",
   "mimetype": "text/x-python",
   "name": "python",
   "nbconvert_exporter": "python",
   "pygments_lexer": "ipython3",
   "version": "3.5.4"
  }
 },
 "nbformat": 4,
 "nbformat_minor": 4
}
